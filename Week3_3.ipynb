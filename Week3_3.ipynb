{
  "nbformat": 4,
  "nbformat_minor": 0,
  "metadata": {
    "colab": {
      "name": "Untitled6.ipynb",
      "provenance": [],
      "authorship_tag": "ABX9TyNLaeVPxaQ8QXXXp8XEjnAy",
      "include_colab_link": true
    },
    "kernelspec": {
      "name": "python3",
      "display_name": "Python 3"
    },
    "language_info": {
      "name": "python"
    }
  },
  "cells": [
    {
      "cell_type": "markdown",
      "metadata": {
        "id": "view-in-github",
        "colab_type": "text"
      },
      "source": [
        "<a href=\"https://colab.research.google.com/github/jackyor/Coursera_Capstone/blob/main/Week3_3.ipynb\" target=\"_parent\"><img src=\"https://colab.research.google.com/assets/colab-badge.svg\" alt=\"Open In Colab\"/></a>"
      ]
    },
    {
      "cell_type": "markdown",
      "metadata": {
        "id": "MijSqFgAbPCQ"
      },
      "source": [
        "### Tips for  Webscraping Updated Table in Week3 Peer Graded Assignment\n",
        "\n",
        " **After retreiving the URL and creating a Beautiful soup object** \n",
        "\n",
        " **Firstly create a list**  \n",
        "\n",
        " **Later after finding the table and table data  create a dictionary called cell having 3 keys PostalCode, Borough and Neighborhood.**\n",
        "\n",
        "**As postal code contains upto 3 characters extract that using tablerow.p.text**\n",
        "\n",
        " **Next use split ,strip and replace functions for getting Borough and Neighborhood information.**.\n",
        "\n",
        " **Append to the list**  \n",
        "\n",
        " **Create a dataframe with list**\n",
        "\n",
        "## Sample code\n",
        "\n",
        "```python\n",
        "table_contents=[]\n",
        "table=soup.find('table')\n",
        "for row in table.findAll('td'):\n",
        "    cell = {}\n",
        "    if row.span.text=='Not assigned':\n",
        "        pass\n",
        "    else:\n",
        "        cell['PostalCode'] = row.p.text[:3]\n",
        "        cell['Borough'] = (row.span.text).split('(')[0]\n",
        "        cell['Neighborhood'] = (((((row.span.text).split('(')[1]).strip(')')).replace(' /',',')).replace(')',' ')).strip(' ')\n",
        "        table_contents.append(cell)\n",
        "\n",
        "# print(table_contents)\n",
        "df=pd.DataFrame(table_contents)\n",
        "df['Borough']=df['Borough'].replace({'Downtown TorontoStn A PO Boxes25 The Esplanade':'Downtown Toronto Stn A',\n",
        "                                             'East TorontoBusiness reply mail Processing Centre969 Eastern':'East Toronto Business',\n",
        "                                             'EtobicokeNorthwest':'Etobicoke Northwest','East YorkEast Toronto':'East York/East Toronto',\n",
        "                                             'MississaugaCanada Post Gateway Processing Centre':'Mississauga'})\n",
        "```"
      ]
    },
    {
      "cell_type": "code",
      "metadata": {
        "colab": {
          "base_uri": "https://localhost:8080/"
        },
        "id": "oVkdx37FfYon",
        "outputId": "3ed8cabe-6d98-43d1-dc71-4891b46737ef"
      },
      "source": [
        "pip install beautifulsoup4"
      ],
      "execution_count": 1,
      "outputs": [
        {
          "output_type": "stream",
          "text": [
            "Requirement already satisfied: beautifulsoup4 in /usr/local/lib/python3.7/dist-packages (4.6.3)\n"
          ],
          "name": "stdout"
        }
      ]
    },
    {
      "cell_type": "code",
      "metadata": {
        "id": "wiH-iWVPj-ce"
      },
      "source": [
        "import requests"
      ],
      "execution_count": 2,
      "outputs": []
    },
    {
      "cell_type": "code",
      "metadata": {
        "id": "Cp4ee1_rfnbr"
      },
      "source": [
        "from bs4 import BeautifulSoup\n",
        "import pandas as pd\n"
      ],
      "execution_count": 3,
      "outputs": []
    },
    {
      "cell_type": "code",
      "metadata": {
        "id": "vlz-Q33LjPU0"
      },
      "source": [
        "url = \"https://en.wikipedia.org/wiki/List_of_postal_codes_of_Canada:_M\"\n",
        "r = requests.get(url)\n",
        "soup = BeautifulSoup(r.text, 'html.parser')"
      ],
      "execution_count": 4,
      "outputs": []
    },
    {
      "cell_type": "code",
      "metadata": {
        "id": "_0NK1Fz9f3f5"
      },
      "source": [
        "table_contents=[]\n",
        "table=soup.find('table')\n",
        "for row in table.findAll('td'):\n",
        "    cell = {}\n",
        "    if row.span.text=='Not assigned':\n",
        "        pass\n",
        "    else:\n",
        "        cell['PostalCode'] = row.p.text[:3]\n",
        "        cell['Borough'] = (row.span.text).split('(')[0]\n",
        "        cell['Neighborhood'] = (((((row.span.text).split('(')[1]).strip(')')).replace(' /',',')).replace(')',' ')).strip(' ')\n",
        "        table_contents.append(cell)\n",
        " \n",
        "# print(table_contents)\n",
        "df=pd.DataFrame(table_contents)\n",
        "df['Borough']=df['Borough'].replace({'Downtown TorontoStn A PO Boxes25 The Esplanade':'Downtown Toronto Stn A',\n",
        "                                             'East TorontoBusiness reply mail Processing Centre969 Eastern':'East Toronto Business',\n",
        "                                             'EtobicokeNorthwest':'Etobicoke Northwest','East YorkEast Toronto':'East York/East Toronto',\n",
        "                                             'MississaugaCanada Post Gateway Processing Centre':'Mississauga'})"
      ],
      "execution_count": 5,
      "outputs": []
    },
    {
      "cell_type": "code",
      "metadata": {
        "colab": {
          "base_uri": "https://localhost:8080/",
          "height": 419
        },
        "id": "H7c30XPxkzrV",
        "outputId": "3bc7061a-841e-40f5-8f92-fd9a9090c279"
      },
      "source": [
        "df"
      ],
      "execution_count": 6,
      "outputs": [
        {
          "output_type": "execute_result",
          "data": {
            "text/html": [
              "<div>\n",
              "<style scoped>\n",
              "    .dataframe tbody tr th:only-of-type {\n",
              "        vertical-align: middle;\n",
              "    }\n",
              "\n",
              "    .dataframe tbody tr th {\n",
              "        vertical-align: top;\n",
              "    }\n",
              "\n",
              "    .dataframe thead th {\n",
              "        text-align: right;\n",
              "    }\n",
              "</style>\n",
              "<table border=\"1\" class=\"dataframe\">\n",
              "  <thead>\n",
              "    <tr style=\"text-align: right;\">\n",
              "      <th></th>\n",
              "      <th>PostalCode</th>\n",
              "      <th>Borough</th>\n",
              "      <th>Neighborhood</th>\n",
              "    </tr>\n",
              "  </thead>\n",
              "  <tbody>\n",
              "    <tr>\n",
              "      <th>0</th>\n",
              "      <td>M3A</td>\n",
              "      <td>North York</td>\n",
              "      <td>Parkwoods</td>\n",
              "    </tr>\n",
              "    <tr>\n",
              "      <th>1</th>\n",
              "      <td>M4A</td>\n",
              "      <td>North York</td>\n",
              "      <td>Victoria Village</td>\n",
              "    </tr>\n",
              "    <tr>\n",
              "      <th>2</th>\n",
              "      <td>M5A</td>\n",
              "      <td>Downtown Toronto</td>\n",
              "      <td>Regent Park, Harbourfront</td>\n",
              "    </tr>\n",
              "    <tr>\n",
              "      <th>3</th>\n",
              "      <td>M6A</td>\n",
              "      <td>North York</td>\n",
              "      <td>Lawrence Manor, Lawrence Heights</td>\n",
              "    </tr>\n",
              "    <tr>\n",
              "      <th>4</th>\n",
              "      <td>M7A</td>\n",
              "      <td>Queen's Park</td>\n",
              "      <td>Ontario Provincial Government</td>\n",
              "    </tr>\n",
              "    <tr>\n",
              "      <th>...</th>\n",
              "      <td>...</td>\n",
              "      <td>...</td>\n",
              "      <td>...</td>\n",
              "    </tr>\n",
              "    <tr>\n",
              "      <th>98</th>\n",
              "      <td>M8X</td>\n",
              "      <td>Etobicoke</td>\n",
              "      <td>The Kingsway, Montgomery Road, Old Mill North</td>\n",
              "    </tr>\n",
              "    <tr>\n",
              "      <th>99</th>\n",
              "      <td>M4Y</td>\n",
              "      <td>Downtown Toronto</td>\n",
              "      <td>Church and Wellesley</td>\n",
              "    </tr>\n",
              "    <tr>\n",
              "      <th>100</th>\n",
              "      <td>M7Y</td>\n",
              "      <td>East Toronto Business</td>\n",
              "      <td>Enclave of M4L</td>\n",
              "    </tr>\n",
              "    <tr>\n",
              "      <th>101</th>\n",
              "      <td>M8Y</td>\n",
              "      <td>Etobicoke</td>\n",
              "      <td>Old Mill South, King's Mill Park, Sunnylea, Hu...</td>\n",
              "    </tr>\n",
              "    <tr>\n",
              "      <th>102</th>\n",
              "      <td>M8Z</td>\n",
              "      <td>Etobicoke</td>\n",
              "      <td>Mimico NW, The Queensway West, South of Bloor,...</td>\n",
              "    </tr>\n",
              "  </tbody>\n",
              "</table>\n",
              "<p>103 rows × 3 columns</p>\n",
              "</div>"
            ],
            "text/plain": [
              "    PostalCode  ...                                       Neighborhood\n",
              "0          M3A  ...                                          Parkwoods\n",
              "1          M4A  ...                                   Victoria Village\n",
              "2          M5A  ...                          Regent Park, Harbourfront\n",
              "3          M6A  ...                   Lawrence Manor, Lawrence Heights\n",
              "4          M7A  ...                      Ontario Provincial Government\n",
              "..         ...  ...                                                ...\n",
              "98         M8X  ...      The Kingsway, Montgomery Road, Old Mill North\n",
              "99         M4Y  ...                               Church and Wellesley\n",
              "100        M7Y  ...                                     Enclave of M4L\n",
              "101        M8Y  ...  Old Mill South, King's Mill Park, Sunnylea, Hu...\n",
              "102        M8Z  ...  Mimico NW, The Queensway West, South of Bloor,...\n",
              "\n",
              "[103 rows x 3 columns]"
            ]
          },
          "metadata": {
            "tags": []
          },
          "execution_count": 6
        }
      ]
    },
    {
      "cell_type": "code",
      "metadata": {
        "id": "at2RGR9spZxo"
      },
      "source": [
        "csv = pd.read_csv(\"https://cf-courses-data.s3.us.cloud-object-storage.appdomain.cloud/IBMDeveloperSkillsNetwork-DS0701EN-SkillsNetwork/labs_v1/Geospatial_Coordinates.csv\")"
      ],
      "execution_count": 7,
      "outputs": []
    },
    {
      "cell_type": "code",
      "metadata": {
        "colab": {
          "base_uri": "https://localhost:8080/",
          "height": 204
        },
        "id": "He7GbkFnx_q4",
        "outputId": "74a1da3f-519f-46e9-b43b-09a4eed39e79"
      },
      "source": [
        "csv.head()"
      ],
      "execution_count": 8,
      "outputs": [
        {
          "output_type": "execute_result",
          "data": {
            "text/html": [
              "<div>\n",
              "<style scoped>\n",
              "    .dataframe tbody tr th:only-of-type {\n",
              "        vertical-align: middle;\n",
              "    }\n",
              "\n",
              "    .dataframe tbody tr th {\n",
              "        vertical-align: top;\n",
              "    }\n",
              "\n",
              "    .dataframe thead th {\n",
              "        text-align: right;\n",
              "    }\n",
              "</style>\n",
              "<table border=\"1\" class=\"dataframe\">\n",
              "  <thead>\n",
              "    <tr style=\"text-align: right;\">\n",
              "      <th></th>\n",
              "      <th>Postal Code</th>\n",
              "      <th>Latitude</th>\n",
              "      <th>Longitude</th>\n",
              "    </tr>\n",
              "  </thead>\n",
              "  <tbody>\n",
              "    <tr>\n",
              "      <th>0</th>\n",
              "      <td>M1B</td>\n",
              "      <td>43.806686</td>\n",
              "      <td>-79.194353</td>\n",
              "    </tr>\n",
              "    <tr>\n",
              "      <th>1</th>\n",
              "      <td>M1C</td>\n",
              "      <td>43.784535</td>\n",
              "      <td>-79.160497</td>\n",
              "    </tr>\n",
              "    <tr>\n",
              "      <th>2</th>\n",
              "      <td>M1E</td>\n",
              "      <td>43.763573</td>\n",
              "      <td>-79.188711</td>\n",
              "    </tr>\n",
              "    <tr>\n",
              "      <th>3</th>\n",
              "      <td>M1G</td>\n",
              "      <td>43.770992</td>\n",
              "      <td>-79.216917</td>\n",
              "    </tr>\n",
              "    <tr>\n",
              "      <th>4</th>\n",
              "      <td>M1H</td>\n",
              "      <td>43.773136</td>\n",
              "      <td>-79.239476</td>\n",
              "    </tr>\n",
              "  </tbody>\n",
              "</table>\n",
              "</div>"
            ],
            "text/plain": [
              "  Postal Code   Latitude  Longitude\n",
              "0         M1B  43.806686 -79.194353\n",
              "1         M1C  43.784535 -79.160497\n",
              "2         M1E  43.763573 -79.188711\n",
              "3         M1G  43.770992 -79.216917\n",
              "4         M1H  43.773136 -79.239476"
            ]
          },
          "metadata": {
            "tags": []
          },
          "execution_count": 8
        }
      ]
    },
    {
      "cell_type": "code",
      "metadata": {
        "colab": {
          "base_uri": "https://localhost:8080/",
          "height": 419
        },
        "id": "iCjUotOpyBJg",
        "outputId": "bdebe81b-69fb-4836-eae7-cb42078fb61b"
      },
      "source": [
        "csv = csv.rename(columns={\"Postal Code\":\"PostalCode\"})\n",
        "csv"
      ],
      "execution_count": 9,
      "outputs": [
        {
          "output_type": "execute_result",
          "data": {
            "text/html": [
              "<div>\n",
              "<style scoped>\n",
              "    .dataframe tbody tr th:only-of-type {\n",
              "        vertical-align: middle;\n",
              "    }\n",
              "\n",
              "    .dataframe tbody tr th {\n",
              "        vertical-align: top;\n",
              "    }\n",
              "\n",
              "    .dataframe thead th {\n",
              "        text-align: right;\n",
              "    }\n",
              "</style>\n",
              "<table border=\"1\" class=\"dataframe\">\n",
              "  <thead>\n",
              "    <tr style=\"text-align: right;\">\n",
              "      <th></th>\n",
              "      <th>PostalCode</th>\n",
              "      <th>Latitude</th>\n",
              "      <th>Longitude</th>\n",
              "    </tr>\n",
              "  </thead>\n",
              "  <tbody>\n",
              "    <tr>\n",
              "      <th>0</th>\n",
              "      <td>M1B</td>\n",
              "      <td>43.806686</td>\n",
              "      <td>-79.194353</td>\n",
              "    </tr>\n",
              "    <tr>\n",
              "      <th>1</th>\n",
              "      <td>M1C</td>\n",
              "      <td>43.784535</td>\n",
              "      <td>-79.160497</td>\n",
              "    </tr>\n",
              "    <tr>\n",
              "      <th>2</th>\n",
              "      <td>M1E</td>\n",
              "      <td>43.763573</td>\n",
              "      <td>-79.188711</td>\n",
              "    </tr>\n",
              "    <tr>\n",
              "      <th>3</th>\n",
              "      <td>M1G</td>\n",
              "      <td>43.770992</td>\n",
              "      <td>-79.216917</td>\n",
              "    </tr>\n",
              "    <tr>\n",
              "      <th>4</th>\n",
              "      <td>M1H</td>\n",
              "      <td>43.773136</td>\n",
              "      <td>-79.239476</td>\n",
              "    </tr>\n",
              "    <tr>\n",
              "      <th>...</th>\n",
              "      <td>...</td>\n",
              "      <td>...</td>\n",
              "      <td>...</td>\n",
              "    </tr>\n",
              "    <tr>\n",
              "      <th>98</th>\n",
              "      <td>M9N</td>\n",
              "      <td>43.706876</td>\n",
              "      <td>-79.518188</td>\n",
              "    </tr>\n",
              "    <tr>\n",
              "      <th>99</th>\n",
              "      <td>M9P</td>\n",
              "      <td>43.696319</td>\n",
              "      <td>-79.532242</td>\n",
              "    </tr>\n",
              "    <tr>\n",
              "      <th>100</th>\n",
              "      <td>M9R</td>\n",
              "      <td>43.688905</td>\n",
              "      <td>-79.554724</td>\n",
              "    </tr>\n",
              "    <tr>\n",
              "      <th>101</th>\n",
              "      <td>M9V</td>\n",
              "      <td>43.739416</td>\n",
              "      <td>-79.588437</td>\n",
              "    </tr>\n",
              "    <tr>\n",
              "      <th>102</th>\n",
              "      <td>M9W</td>\n",
              "      <td>43.706748</td>\n",
              "      <td>-79.594054</td>\n",
              "    </tr>\n",
              "  </tbody>\n",
              "</table>\n",
              "<p>103 rows × 3 columns</p>\n",
              "</div>"
            ],
            "text/plain": [
              "    PostalCode   Latitude  Longitude\n",
              "0          M1B  43.806686 -79.194353\n",
              "1          M1C  43.784535 -79.160497\n",
              "2          M1E  43.763573 -79.188711\n",
              "3          M1G  43.770992 -79.216917\n",
              "4          M1H  43.773136 -79.239476\n",
              "..         ...        ...        ...\n",
              "98         M9N  43.706876 -79.518188\n",
              "99         M9P  43.696319 -79.532242\n",
              "100        M9R  43.688905 -79.554724\n",
              "101        M9V  43.739416 -79.588437\n",
              "102        M9W  43.706748 -79.594054\n",
              "\n",
              "[103 rows x 3 columns]"
            ]
          },
          "metadata": {
            "tags": []
          },
          "execution_count": 9
        }
      ]
    },
    {
      "cell_type": "code",
      "metadata": {
        "colab": {
          "base_uri": "https://localhost:8080/",
          "height": 204
        },
        "id": "QUxT_Yrwtqdh",
        "outputId": "a8b7908e-ddcc-4c96-a1b6-0592295b34eb"
      },
      "source": [
        "df = pd.merge(df, csv, on = 'PostalCode')\n",
        "df.head()\n"
      ],
      "execution_count": 10,
      "outputs": [
        {
          "output_type": "execute_result",
          "data": {
            "text/html": [
              "<div>\n",
              "<style scoped>\n",
              "    .dataframe tbody tr th:only-of-type {\n",
              "        vertical-align: middle;\n",
              "    }\n",
              "\n",
              "    .dataframe tbody tr th {\n",
              "        vertical-align: top;\n",
              "    }\n",
              "\n",
              "    .dataframe thead th {\n",
              "        text-align: right;\n",
              "    }\n",
              "</style>\n",
              "<table border=\"1\" class=\"dataframe\">\n",
              "  <thead>\n",
              "    <tr style=\"text-align: right;\">\n",
              "      <th></th>\n",
              "      <th>PostalCode</th>\n",
              "      <th>Borough</th>\n",
              "      <th>Neighborhood</th>\n",
              "      <th>Latitude</th>\n",
              "      <th>Longitude</th>\n",
              "    </tr>\n",
              "  </thead>\n",
              "  <tbody>\n",
              "    <tr>\n",
              "      <th>0</th>\n",
              "      <td>M3A</td>\n",
              "      <td>North York</td>\n",
              "      <td>Parkwoods</td>\n",
              "      <td>43.753259</td>\n",
              "      <td>-79.329656</td>\n",
              "    </tr>\n",
              "    <tr>\n",
              "      <th>1</th>\n",
              "      <td>M4A</td>\n",
              "      <td>North York</td>\n",
              "      <td>Victoria Village</td>\n",
              "      <td>43.725882</td>\n",
              "      <td>-79.315572</td>\n",
              "    </tr>\n",
              "    <tr>\n",
              "      <th>2</th>\n",
              "      <td>M5A</td>\n",
              "      <td>Downtown Toronto</td>\n",
              "      <td>Regent Park, Harbourfront</td>\n",
              "      <td>43.654260</td>\n",
              "      <td>-79.360636</td>\n",
              "    </tr>\n",
              "    <tr>\n",
              "      <th>3</th>\n",
              "      <td>M6A</td>\n",
              "      <td>North York</td>\n",
              "      <td>Lawrence Manor, Lawrence Heights</td>\n",
              "      <td>43.718518</td>\n",
              "      <td>-79.464763</td>\n",
              "    </tr>\n",
              "    <tr>\n",
              "      <th>4</th>\n",
              "      <td>M7A</td>\n",
              "      <td>Queen's Park</td>\n",
              "      <td>Ontario Provincial Government</td>\n",
              "      <td>43.662301</td>\n",
              "      <td>-79.389494</td>\n",
              "    </tr>\n",
              "  </tbody>\n",
              "</table>\n",
              "</div>"
            ],
            "text/plain": [
              "  PostalCode           Borough  ...   Latitude  Longitude\n",
              "0        M3A        North York  ...  43.753259 -79.329656\n",
              "1        M4A        North York  ...  43.725882 -79.315572\n",
              "2        M5A  Downtown Toronto  ...  43.654260 -79.360636\n",
              "3        M6A        North York  ...  43.718518 -79.464763\n",
              "4        M7A      Queen's Park  ...  43.662301 -79.389494\n",
              "\n",
              "[5 rows x 5 columns]"
            ]
          },
          "metadata": {
            "tags": []
          },
          "execution_count": 10
        }
      ]
    },
    {
      "cell_type": "code",
      "metadata": {
        "colab": {
          "base_uri": "https://localhost:8080/",
          "height": 1000
        },
        "id": "7GSYlWvayZNp",
        "outputId": "c5323a24-7bb6-43ff-8b7b-7746269acb17"
      },
      "source": [
        "#work with only boroughs that contain the word Toronto \n",
        "new_df = df[df['Borough'].str.contains('Toronto')].reset_index(drop=True)\n",
        "new_df"
      ],
      "execution_count": 18,
      "outputs": [
        {
          "output_type": "execute_result",
          "data": {
            "text/html": [
              "<div>\n",
              "<style scoped>\n",
              "    .dataframe tbody tr th:only-of-type {\n",
              "        vertical-align: middle;\n",
              "    }\n",
              "\n",
              "    .dataframe tbody tr th {\n",
              "        vertical-align: top;\n",
              "    }\n",
              "\n",
              "    .dataframe thead th {\n",
              "        text-align: right;\n",
              "    }\n",
              "</style>\n",
              "<table border=\"1\" class=\"dataframe\">\n",
              "  <thead>\n",
              "    <tr style=\"text-align: right;\">\n",
              "      <th></th>\n",
              "      <th>PostalCode</th>\n",
              "      <th>Borough</th>\n",
              "      <th>Neighborhood</th>\n",
              "      <th>Latitude</th>\n",
              "      <th>Longitude</th>\n",
              "    </tr>\n",
              "  </thead>\n",
              "  <tbody>\n",
              "    <tr>\n",
              "      <th>0</th>\n",
              "      <td>M5A</td>\n",
              "      <td>Downtown Toronto</td>\n",
              "      <td>Regent Park, Harbourfront</td>\n",
              "      <td>43.654260</td>\n",
              "      <td>-79.360636</td>\n",
              "    </tr>\n",
              "    <tr>\n",
              "      <th>1</th>\n",
              "      <td>M5B</td>\n",
              "      <td>Downtown Toronto</td>\n",
              "      <td>Garden District, Ryerson</td>\n",
              "      <td>43.657162</td>\n",
              "      <td>-79.378937</td>\n",
              "    </tr>\n",
              "    <tr>\n",
              "      <th>2</th>\n",
              "      <td>M5C</td>\n",
              "      <td>Downtown Toronto</td>\n",
              "      <td>St. James Town</td>\n",
              "      <td>43.651494</td>\n",
              "      <td>-79.375418</td>\n",
              "    </tr>\n",
              "    <tr>\n",
              "      <th>3</th>\n",
              "      <td>M4E</td>\n",
              "      <td>East Toronto</td>\n",
              "      <td>The Beaches</td>\n",
              "      <td>43.676357</td>\n",
              "      <td>-79.293031</td>\n",
              "    </tr>\n",
              "    <tr>\n",
              "      <th>4</th>\n",
              "      <td>M5E</td>\n",
              "      <td>Downtown Toronto</td>\n",
              "      <td>Berczy Park</td>\n",
              "      <td>43.644771</td>\n",
              "      <td>-79.373306</td>\n",
              "    </tr>\n",
              "    <tr>\n",
              "      <th>5</th>\n",
              "      <td>M5G</td>\n",
              "      <td>Downtown Toronto</td>\n",
              "      <td>Central Bay Street</td>\n",
              "      <td>43.657952</td>\n",
              "      <td>-79.387383</td>\n",
              "    </tr>\n",
              "    <tr>\n",
              "      <th>6</th>\n",
              "      <td>M6G</td>\n",
              "      <td>Downtown Toronto</td>\n",
              "      <td>Christie</td>\n",
              "      <td>43.669542</td>\n",
              "      <td>-79.422564</td>\n",
              "    </tr>\n",
              "    <tr>\n",
              "      <th>7</th>\n",
              "      <td>M5H</td>\n",
              "      <td>Downtown Toronto</td>\n",
              "      <td>Richmond, Adelaide, King</td>\n",
              "      <td>43.650571</td>\n",
              "      <td>-79.384568</td>\n",
              "    </tr>\n",
              "    <tr>\n",
              "      <th>8</th>\n",
              "      <td>M6H</td>\n",
              "      <td>West Toronto</td>\n",
              "      <td>Dufferin, Dovercourt Village</td>\n",
              "      <td>43.669005</td>\n",
              "      <td>-79.442259</td>\n",
              "    </tr>\n",
              "    <tr>\n",
              "      <th>9</th>\n",
              "      <td>M4J</td>\n",
              "      <td>East York/East Toronto</td>\n",
              "      <td>The Danforth  East</td>\n",
              "      <td>43.685347</td>\n",
              "      <td>-79.338106</td>\n",
              "    </tr>\n",
              "    <tr>\n",
              "      <th>10</th>\n",
              "      <td>M5J</td>\n",
              "      <td>Downtown Toronto</td>\n",
              "      <td>Harbourfront East, Union Station, Toronto Islands</td>\n",
              "      <td>43.640816</td>\n",
              "      <td>-79.381752</td>\n",
              "    </tr>\n",
              "    <tr>\n",
              "      <th>11</th>\n",
              "      <td>M6J</td>\n",
              "      <td>West Toronto</td>\n",
              "      <td>Little Portugal, Trinity</td>\n",
              "      <td>43.647927</td>\n",
              "      <td>-79.419750</td>\n",
              "    </tr>\n",
              "    <tr>\n",
              "      <th>12</th>\n",
              "      <td>M4K</td>\n",
              "      <td>East Toronto</td>\n",
              "      <td>The Danforth West, Riverdale</td>\n",
              "      <td>43.679557</td>\n",
              "      <td>-79.352188</td>\n",
              "    </tr>\n",
              "    <tr>\n",
              "      <th>13</th>\n",
              "      <td>M5K</td>\n",
              "      <td>Downtown Toronto</td>\n",
              "      <td>Toronto Dominion Centre, Design Exchange</td>\n",
              "      <td>43.647177</td>\n",
              "      <td>-79.381576</td>\n",
              "    </tr>\n",
              "    <tr>\n",
              "      <th>14</th>\n",
              "      <td>M6K</td>\n",
              "      <td>West Toronto</td>\n",
              "      <td>Brockton, Parkdale Village, Exhibition Place</td>\n",
              "      <td>43.636847</td>\n",
              "      <td>-79.428191</td>\n",
              "    </tr>\n",
              "    <tr>\n",
              "      <th>15</th>\n",
              "      <td>M4L</td>\n",
              "      <td>East Toronto</td>\n",
              "      <td>India Bazaar, The Beaches West</td>\n",
              "      <td>43.668999</td>\n",
              "      <td>-79.315572</td>\n",
              "    </tr>\n",
              "    <tr>\n",
              "      <th>16</th>\n",
              "      <td>M5L</td>\n",
              "      <td>Downtown Toronto</td>\n",
              "      <td>Commerce Court, Victoria Hotel</td>\n",
              "      <td>43.648198</td>\n",
              "      <td>-79.379817</td>\n",
              "    </tr>\n",
              "    <tr>\n",
              "      <th>17</th>\n",
              "      <td>M4M</td>\n",
              "      <td>East Toronto</td>\n",
              "      <td>Studio District</td>\n",
              "      <td>43.659526</td>\n",
              "      <td>-79.340923</td>\n",
              "    </tr>\n",
              "    <tr>\n",
              "      <th>18</th>\n",
              "      <td>M4N</td>\n",
              "      <td>Central Toronto</td>\n",
              "      <td>Lawrence Park</td>\n",
              "      <td>43.728020</td>\n",
              "      <td>-79.388790</td>\n",
              "    </tr>\n",
              "    <tr>\n",
              "      <th>19</th>\n",
              "      <td>M5N</td>\n",
              "      <td>Central Toronto</td>\n",
              "      <td>Roselawn</td>\n",
              "      <td>43.711695</td>\n",
              "      <td>-79.416936</td>\n",
              "    </tr>\n",
              "    <tr>\n",
              "      <th>20</th>\n",
              "      <td>M4P</td>\n",
              "      <td>Central Toronto</td>\n",
              "      <td>Davisville North</td>\n",
              "      <td>43.712751</td>\n",
              "      <td>-79.390197</td>\n",
              "    </tr>\n",
              "    <tr>\n",
              "      <th>21</th>\n",
              "      <td>M5P</td>\n",
              "      <td>Central Toronto</td>\n",
              "      <td>Forest Hill North &amp; West</td>\n",
              "      <td>43.696948</td>\n",
              "      <td>-79.411307</td>\n",
              "    </tr>\n",
              "    <tr>\n",
              "      <th>22</th>\n",
              "      <td>M6P</td>\n",
              "      <td>West Toronto</td>\n",
              "      <td>High Park, The Junction South</td>\n",
              "      <td>43.661608</td>\n",
              "      <td>-79.464763</td>\n",
              "    </tr>\n",
              "    <tr>\n",
              "      <th>23</th>\n",
              "      <td>M4R</td>\n",
              "      <td>Central Toronto</td>\n",
              "      <td>North Toronto West</td>\n",
              "      <td>43.715383</td>\n",
              "      <td>-79.405678</td>\n",
              "    </tr>\n",
              "    <tr>\n",
              "      <th>24</th>\n",
              "      <td>M5R</td>\n",
              "      <td>Central Toronto</td>\n",
              "      <td>The Annex, North Midtown, Yorkville</td>\n",
              "      <td>43.672710</td>\n",
              "      <td>-79.405678</td>\n",
              "    </tr>\n",
              "    <tr>\n",
              "      <th>25</th>\n",
              "      <td>M6R</td>\n",
              "      <td>West Toronto</td>\n",
              "      <td>Parkdale, Roncesvalles</td>\n",
              "      <td>43.648960</td>\n",
              "      <td>-79.456325</td>\n",
              "    </tr>\n",
              "    <tr>\n",
              "      <th>26</th>\n",
              "      <td>M4S</td>\n",
              "      <td>Central Toronto</td>\n",
              "      <td>Davisville</td>\n",
              "      <td>43.704324</td>\n",
              "      <td>-79.388790</td>\n",
              "    </tr>\n",
              "    <tr>\n",
              "      <th>27</th>\n",
              "      <td>M5S</td>\n",
              "      <td>Downtown Toronto</td>\n",
              "      <td>University of Toronto, Harbord</td>\n",
              "      <td>43.662696</td>\n",
              "      <td>-79.400049</td>\n",
              "    </tr>\n",
              "    <tr>\n",
              "      <th>28</th>\n",
              "      <td>M6S</td>\n",
              "      <td>West Toronto</td>\n",
              "      <td>Runnymede, Swansea</td>\n",
              "      <td>43.651571</td>\n",
              "      <td>-79.484450</td>\n",
              "    </tr>\n",
              "    <tr>\n",
              "      <th>29</th>\n",
              "      <td>M4T</td>\n",
              "      <td>Central Toronto</td>\n",
              "      <td>Moore Park, Summerhill East</td>\n",
              "      <td>43.689574</td>\n",
              "      <td>-79.383160</td>\n",
              "    </tr>\n",
              "    <tr>\n",
              "      <th>30</th>\n",
              "      <td>M5T</td>\n",
              "      <td>Downtown Toronto</td>\n",
              "      <td>Kensington Market, Chinatown, Grange Park</td>\n",
              "      <td>43.653206</td>\n",
              "      <td>-79.400049</td>\n",
              "    </tr>\n",
              "    <tr>\n",
              "      <th>31</th>\n",
              "      <td>M4V</td>\n",
              "      <td>Central Toronto</td>\n",
              "      <td>Summerhill West, Rathnelly, South Hill, Forest...</td>\n",
              "      <td>43.686412</td>\n",
              "      <td>-79.400049</td>\n",
              "    </tr>\n",
              "    <tr>\n",
              "      <th>32</th>\n",
              "      <td>M5V</td>\n",
              "      <td>Downtown Toronto</td>\n",
              "      <td>CN Tower, King and Spadina, Railway Lands, Har...</td>\n",
              "      <td>43.628947</td>\n",
              "      <td>-79.394420</td>\n",
              "    </tr>\n",
              "    <tr>\n",
              "      <th>33</th>\n",
              "      <td>M4W</td>\n",
              "      <td>Downtown Toronto</td>\n",
              "      <td>Rosedale</td>\n",
              "      <td>43.679563</td>\n",
              "      <td>-79.377529</td>\n",
              "    </tr>\n",
              "    <tr>\n",
              "      <th>34</th>\n",
              "      <td>M5W</td>\n",
              "      <td>Downtown Toronto Stn A</td>\n",
              "      <td>Enclave of M5E</td>\n",
              "      <td>43.646435</td>\n",
              "      <td>-79.374846</td>\n",
              "    </tr>\n",
              "    <tr>\n",
              "      <th>35</th>\n",
              "      <td>M4X</td>\n",
              "      <td>Downtown Toronto</td>\n",
              "      <td>St. James Town, Cabbagetown</td>\n",
              "      <td>43.667967</td>\n",
              "      <td>-79.367675</td>\n",
              "    </tr>\n",
              "    <tr>\n",
              "      <th>36</th>\n",
              "      <td>M5X</td>\n",
              "      <td>Downtown Toronto</td>\n",
              "      <td>First Canadian Place, Underground city</td>\n",
              "      <td>43.648429</td>\n",
              "      <td>-79.382280</td>\n",
              "    </tr>\n",
              "    <tr>\n",
              "      <th>37</th>\n",
              "      <td>M4Y</td>\n",
              "      <td>Downtown Toronto</td>\n",
              "      <td>Church and Wellesley</td>\n",
              "      <td>43.665860</td>\n",
              "      <td>-79.383160</td>\n",
              "    </tr>\n",
              "    <tr>\n",
              "      <th>38</th>\n",
              "      <td>M7Y</td>\n",
              "      <td>East Toronto Business</td>\n",
              "      <td>Enclave of M4L</td>\n",
              "      <td>43.662744</td>\n",
              "      <td>-79.321558</td>\n",
              "    </tr>\n",
              "  </tbody>\n",
              "</table>\n",
              "</div>"
            ],
            "text/plain": [
              "   PostalCode                 Borough  ...   Latitude  Longitude\n",
              "0         M5A        Downtown Toronto  ...  43.654260 -79.360636\n",
              "1         M5B        Downtown Toronto  ...  43.657162 -79.378937\n",
              "2         M5C        Downtown Toronto  ...  43.651494 -79.375418\n",
              "3         M4E            East Toronto  ...  43.676357 -79.293031\n",
              "4         M5E        Downtown Toronto  ...  43.644771 -79.373306\n",
              "5         M5G        Downtown Toronto  ...  43.657952 -79.387383\n",
              "6         M6G        Downtown Toronto  ...  43.669542 -79.422564\n",
              "7         M5H        Downtown Toronto  ...  43.650571 -79.384568\n",
              "8         M6H            West Toronto  ...  43.669005 -79.442259\n",
              "9         M4J  East York/East Toronto  ...  43.685347 -79.338106\n",
              "10        M5J        Downtown Toronto  ...  43.640816 -79.381752\n",
              "11        M6J            West Toronto  ...  43.647927 -79.419750\n",
              "12        M4K            East Toronto  ...  43.679557 -79.352188\n",
              "13        M5K        Downtown Toronto  ...  43.647177 -79.381576\n",
              "14        M6K            West Toronto  ...  43.636847 -79.428191\n",
              "15        M4L            East Toronto  ...  43.668999 -79.315572\n",
              "16        M5L        Downtown Toronto  ...  43.648198 -79.379817\n",
              "17        M4M            East Toronto  ...  43.659526 -79.340923\n",
              "18        M4N         Central Toronto  ...  43.728020 -79.388790\n",
              "19        M5N         Central Toronto  ...  43.711695 -79.416936\n",
              "20        M4P         Central Toronto  ...  43.712751 -79.390197\n",
              "21        M5P         Central Toronto  ...  43.696948 -79.411307\n",
              "22        M6P            West Toronto  ...  43.661608 -79.464763\n",
              "23        M4R         Central Toronto  ...  43.715383 -79.405678\n",
              "24        M5R         Central Toronto  ...  43.672710 -79.405678\n",
              "25        M6R            West Toronto  ...  43.648960 -79.456325\n",
              "26        M4S         Central Toronto  ...  43.704324 -79.388790\n",
              "27        M5S        Downtown Toronto  ...  43.662696 -79.400049\n",
              "28        M6S            West Toronto  ...  43.651571 -79.484450\n",
              "29        M4T         Central Toronto  ...  43.689574 -79.383160\n",
              "30        M5T        Downtown Toronto  ...  43.653206 -79.400049\n",
              "31        M4V         Central Toronto  ...  43.686412 -79.400049\n",
              "32        M5V        Downtown Toronto  ...  43.628947 -79.394420\n",
              "33        M4W        Downtown Toronto  ...  43.679563 -79.377529\n",
              "34        M5W  Downtown Toronto Stn A  ...  43.646435 -79.374846\n",
              "35        M4X        Downtown Toronto  ...  43.667967 -79.367675\n",
              "36        M5X        Downtown Toronto  ...  43.648429 -79.382280\n",
              "37        M4Y        Downtown Toronto  ...  43.665860 -79.383160\n",
              "38        M7Y   East Toronto Business  ...  43.662744 -79.321558\n",
              "\n",
              "[39 rows x 5 columns]"
            ]
          },
          "metadata": {
            "tags": []
          },
          "execution_count": 18
        }
      ]
    },
    {
      "cell_type": "code",
      "metadata": {
        "colab": {
          "base_uri": "https://localhost:8080/"
        },
        "id": "DKZaREHc0Qmj",
        "outputId": "ceb9f932-7934-4436-8fee-3764d24e3a4d"
      },
      "source": [
        "new_df[\"Borough\"].value_counts()"
      ],
      "execution_count": 17,
      "outputs": [
        {
          "output_type": "execute_result",
          "data": {
            "text/plain": [
              "Downtown Toronto          17\n",
              "Central Toronto            9\n",
              "West Toronto               6\n",
              "East Toronto               4\n",
              "East Toronto Business      1\n",
              "Downtown Toronto Stn A     1\n",
              "East York/East Toronto     1\n",
              "Name: Borough, dtype: int64"
            ]
          },
          "metadata": {
            "tags": []
          },
          "execution_count": 17
        }
      ]
    },
    {
      "cell_type": "code",
      "metadata": {
        "id": "d-0kWBgd0fgs"
      },
      "source": [
        "#replace East Toronto Business, Downtown Toronto Stn A, East York/East Toronto\n",
        "new_df[\"Borough\"].replace(to_replace=[\"East Toronto Business\", \"Downtown Toronto Stn A\", \"East York/East Toronto\"], value=[\"East Toronto\", \"Downtown Toronto\", 'East Toronto'], inplace=True)"
      ],
      "execution_count": 24,
      "outputs": []
    },
    {
      "cell_type": "code",
      "metadata": {
        "colab": {
          "base_uri": "https://localhost:8080/",
          "height": 204
        },
        "id": "D7QdR-RhzeWC",
        "outputId": "8d6c7013-22f6-4619-c503-714b3f6bd5ab"
      },
      "source": [
        "# Create a new column as Label and get the date from 'Borough' as integer\n",
        "new_df['Cat']=new_df['Borough'].replace(to_replace=['Central Toronto','West Toronto','East Toronto', 'Downtown Toronto'],value=[1,2,3,4],inplace=False)\n",
        "new_df.head()"
      ],
      "execution_count": 26,
      "outputs": [
        {
          "output_type": "execute_result",
          "data": {
            "text/html": [
              "<div>\n",
              "<style scoped>\n",
              "    .dataframe tbody tr th:only-of-type {\n",
              "        vertical-align: middle;\n",
              "    }\n",
              "\n",
              "    .dataframe tbody tr th {\n",
              "        vertical-align: top;\n",
              "    }\n",
              "\n",
              "    .dataframe thead th {\n",
              "        text-align: right;\n",
              "    }\n",
              "</style>\n",
              "<table border=\"1\" class=\"dataframe\">\n",
              "  <thead>\n",
              "    <tr style=\"text-align: right;\">\n",
              "      <th></th>\n",
              "      <th>PostalCode</th>\n",
              "      <th>Borough</th>\n",
              "      <th>Neighborhood</th>\n",
              "      <th>Latitude</th>\n",
              "      <th>Longitude</th>\n",
              "      <th>Cat</th>\n",
              "    </tr>\n",
              "  </thead>\n",
              "  <tbody>\n",
              "    <tr>\n",
              "      <th>0</th>\n",
              "      <td>M5A</td>\n",
              "      <td>Downtown Toronto</td>\n",
              "      <td>Regent Park, Harbourfront</td>\n",
              "      <td>43.654260</td>\n",
              "      <td>-79.360636</td>\n",
              "      <td>4</td>\n",
              "    </tr>\n",
              "    <tr>\n",
              "      <th>1</th>\n",
              "      <td>M5B</td>\n",
              "      <td>Downtown Toronto</td>\n",
              "      <td>Garden District, Ryerson</td>\n",
              "      <td>43.657162</td>\n",
              "      <td>-79.378937</td>\n",
              "      <td>4</td>\n",
              "    </tr>\n",
              "    <tr>\n",
              "      <th>2</th>\n",
              "      <td>M5C</td>\n",
              "      <td>Downtown Toronto</td>\n",
              "      <td>St. James Town</td>\n",
              "      <td>43.651494</td>\n",
              "      <td>-79.375418</td>\n",
              "      <td>4</td>\n",
              "    </tr>\n",
              "    <tr>\n",
              "      <th>3</th>\n",
              "      <td>M4E</td>\n",
              "      <td>East Toronto</td>\n",
              "      <td>The Beaches</td>\n",
              "      <td>43.676357</td>\n",
              "      <td>-79.293031</td>\n",
              "      <td>3</td>\n",
              "    </tr>\n",
              "    <tr>\n",
              "      <th>4</th>\n",
              "      <td>M5E</td>\n",
              "      <td>Downtown Toronto</td>\n",
              "      <td>Berczy Park</td>\n",
              "      <td>43.644771</td>\n",
              "      <td>-79.373306</td>\n",
              "      <td>4</td>\n",
              "    </tr>\n",
              "  </tbody>\n",
              "</table>\n",
              "</div>"
            ],
            "text/plain": [
              "  PostalCode           Borough  ...  Longitude  Cat\n",
              "0        M5A  Downtown Toronto  ... -79.360636    4\n",
              "1        M5B  Downtown Toronto  ... -79.378937    4\n",
              "2        M5C  Downtown Toronto  ... -79.375418    4\n",
              "3        M4E      East Toronto  ... -79.293031    3\n",
              "4        M5E  Downtown Toronto  ... -79.373306    4\n",
              "\n",
              "[5 rows x 6 columns]"
            ]
          },
          "metadata": {
            "tags": []
          },
          "execution_count": 26
        }
      ]
    },
    {
      "cell_type": "code",
      "metadata": {
        "id": "4ZmVnLca3M93"
      },
      "source": [
        "from geopy.geocoders import Nominatim"
      ],
      "execution_count": 42,
      "outputs": []
    },
    {
      "cell_type": "code",
      "metadata": {
        "colab": {
          "base_uri": "https://localhost:8080/"
        },
        "id": "0StZoJcm2K-f",
        "outputId": "113ae52e-b0a8-428c-c280-6f0a6c3f2ce7"
      },
      "source": [
        "#find the lat,long of Toronto\n",
        "geolocator = Nominatim(user_agent=\"capstone\")\n",
        "location = geolocator.geocode('Toronto')\n",
        "latitude = location.latitude\n",
        "longitude = location.longitude\n",
        "\n",
        "latitude, longitude"
      ],
      "execution_count": 47,
      "outputs": [
        {
          "output_type": "execute_result",
          "data": {
            "text/plain": [
              "(43.6534817, -79.3839347)"
            ]
          },
          "metadata": {
            "tags": []
          },
          "execution_count": 47
        }
      ]
    },
    {
      "cell_type": "code",
      "metadata": {
        "id": "0bbguGZT4KUL"
      },
      "source": [
        "import folium\n",
        "import numpy as np\n",
        "import matplotlib.cm as cm\n",
        "import matplotlib.colors as colors"
      ],
      "execution_count": 62,
      "outputs": []
    },
    {
      "cell_type": "code",
      "metadata": {
        "id": "wO_9L0As3u3X"
      },
      "source": [
        "#for set the cluster number as label number\n",
        "k = len(new_df[\"Cat\"].unique())\n",
        "\n",
        "# create map\n",
        "map = folium.Map(location=[latitude, longitude], zoom_start=12)\n",
        "\n",
        "# set color scheme for the clusters\n",
        "x = np.arange(k)\n",
        "y = [i + x + (i*x)**2 for i in range(k)]\n",
        "colors_array = cm.rainbow(np.linspace(0, 1, len(y)))\n",
        "rainbow = [colors.rgb2hex(i) for i in colors_array]\n",
        "\n",
        "# add markers to the map\n",
        "markers_colors = []\n",
        "for lat, lon, cluster in zip(new_df['Latitude'], new_df['Longitude'], new_df['Cat']):\n",
        "    label = folium.Popup(str(new_df['Borough']) + ' Cluster ' + str(cluster), parse_html=True)\n",
        "    folium.CircleMarker(\n",
        "        [lat, lon],\n",
        "        radius=5,\n",
        "        popup=label,\n",
        "        color=rainbow[cluster-1],\n",
        "        fill=True,\n",
        "        fill_color=rainbow[cluster-1],\n",
        "        fill_opacity=0.7).add_to(map)"
      ],
      "execution_count": 67,
      "outputs": []
    },
    {
      "cell_type": "code",
      "metadata": {
        "colab": {
          "base_uri": "https://localhost:8080/",
          "height": 808
        },
        "id": "ihTN7lJZ5lpE",
        "outputId": "c2764717-c96f-4ffc-ef2f-45abc65dbe8e"
      },
      "source": [
        "map"
      ],
      "execution_count": 68,
      "outputs": [
        {
          "output_type": "execute_result",
          "data": {
            "text/html": [
              "<div style=\"width:100%;\"><div style=\"position:relative;width:100%;height:0;padding-bottom:60%;\"><span style=\"color:#565656\">Make this Notebook Trusted to load map: File -> Trust Notebook</span><iframe src=\"about:blank\" style=\"position:absolute;width:100%;height:100%;left:0;top:0;border:none !important;\" data-html=%3C%21DOCTYPE%20html%3E%0A%3Chead%3E%20%20%20%20%0A%20%20%20%20%3Cmeta%20http-equiv%3D%22content-type%22%20content%3D%22text/html%3B%20charset%3DUTF-8%22%20/%3E%0A%20%20%20%20%3Cscript%3EL_PREFER_CANVAS%3Dfalse%3B%20L_NO_TOUCH%3Dfalse%3B%20L_DISABLE_3D%3Dfalse%3B%3C/script%3E%0A%20%20%20%20%3Cscript%20src%3D%22https%3A//cdn.jsdelivr.net/npm/leaflet%401.4.0/dist/leaflet.js%22%3E%3C/script%3E%0A%20%20%20%20%3Cscript%20src%3D%22https%3A//code.jquery.com/jquery-1.12.4.min.js%22%3E%3C/script%3E%0A%20%20%20%20%3Cscript%20src%3D%22https%3A//maxcdn.bootstrapcdn.com/bootstrap/3.2.0/js/bootstrap.min.js%22%3E%3C/script%3E%0A%20%20%20%20%3Cscript%20src%3D%22https%3A//cdnjs.cloudflare.com/ajax/libs/Leaflet.awesome-markers/2.0.2/leaflet.awesome-markers.js%22%3E%3C/script%3E%0A%20%20%20%20%3Clink%20rel%3D%22stylesheet%22%20href%3D%22https%3A//cdn.jsdelivr.net/npm/leaflet%401.4.0/dist/leaflet.css%22/%3E%0A%20%20%20%20%3Clink%20rel%3D%22stylesheet%22%20href%3D%22https%3A//maxcdn.bootstrapcdn.com/bootstrap/3.2.0/css/bootstrap.min.css%22/%3E%0A%20%20%20%20%3Clink%20rel%3D%22stylesheet%22%20href%3D%22https%3A//maxcdn.bootstrapcdn.com/bootstrap/3.2.0/css/bootstrap-theme.min.css%22/%3E%0A%20%20%20%20%3Clink%20rel%3D%22stylesheet%22%20href%3D%22https%3A//maxcdn.bootstrapcdn.com/font-awesome/4.6.3/css/font-awesome.min.css%22/%3E%0A%20%20%20%20%3Clink%20rel%3D%22stylesheet%22%20href%3D%22https%3A//cdnjs.cloudflare.com/ajax/libs/Leaflet.awesome-markers/2.0.2/leaflet.awesome-markers.css%22/%3E%0A%20%20%20%20%3Clink%20rel%3D%22stylesheet%22%20href%3D%22https%3A//rawcdn.githack.com/python-visualization/folium/master/folium/templates/leaflet.awesome.rotate.css%22/%3E%0A%20%20%20%20%3Cstyle%3Ehtml%2C%20body%20%7Bwidth%3A%20100%25%3Bheight%3A%20100%25%3Bmargin%3A%200%3Bpadding%3A%200%3B%7D%3C/style%3E%0A%20%20%20%20%3Cstyle%3E%23map%20%7Bposition%3Aabsolute%3Btop%3A0%3Bbottom%3A0%3Bright%3A0%3Bleft%3A0%3B%7D%3C/style%3E%0A%20%20%20%20%0A%20%20%20%20%3Cmeta%20name%3D%22viewport%22%20content%3D%22width%3Ddevice-width%2C%0A%20%20%20%20%20%20%20%20initial-scale%3D1.0%2C%20maximum-scale%3D1.0%2C%20user-scalable%3Dno%22%20/%3E%0A%20%20%20%20%3Cstyle%3E%23map_69226580856149209fccfbf118501555%20%7B%0A%20%20%20%20%20%20%20%20position%3A%20relative%3B%0A%20%20%20%20%20%20%20%20width%3A%20100.0%25%3B%0A%20%20%20%20%20%20%20%20height%3A%20100.0%25%3B%0A%20%20%20%20%20%20%20%20left%3A%200.0%25%3B%0A%20%20%20%20%20%20%20%20top%3A%200.0%25%3B%0A%20%20%20%20%20%20%20%20%7D%0A%20%20%20%20%3C/style%3E%0A%3C/head%3E%0A%3Cbody%3E%20%20%20%20%0A%20%20%20%20%0A%20%20%20%20%3Cdiv%20class%3D%22folium-map%22%20id%3D%22map_69226580856149209fccfbf118501555%22%20%3E%3C/div%3E%0A%3C/body%3E%0A%3Cscript%3E%20%20%20%20%0A%20%20%20%20%0A%20%20%20%20%0A%20%20%20%20%20%20%20%20var%20bounds%20%3D%20null%3B%0A%20%20%20%20%0A%0A%20%20%20%20var%20map_69226580856149209fccfbf118501555%20%3D%20L.map%28%0A%20%20%20%20%20%20%20%20%27map_69226580856149209fccfbf118501555%27%2C%20%7B%0A%20%20%20%20%20%20%20%20center%3A%20%5B43.6534817%2C%20-79.3839347%5D%2C%0A%20%20%20%20%20%20%20%20zoom%3A%2012%2C%0A%20%20%20%20%20%20%20%20maxBounds%3A%20bounds%2C%0A%20%20%20%20%20%20%20%20layers%3A%20%5B%5D%2C%0A%20%20%20%20%20%20%20%20worldCopyJump%3A%20false%2C%0A%20%20%20%20%20%20%20%20crs%3A%20L.CRS.EPSG3857%2C%0A%20%20%20%20%20%20%20%20zoomControl%3A%20true%2C%0A%20%20%20%20%20%20%20%20%7D%29%3B%0A%0A%0A%20%20%20%20%0A%20%20%20%20var%20tile_layer_477d0244ff38495293d1bd2487f3307f%20%3D%20L.tileLayer%28%0A%20%20%20%20%20%20%20%20%27https%3A//%7Bs%7D.tile.openstreetmap.org/%7Bz%7D/%7Bx%7D/%7By%7D.png%27%2C%0A%20%20%20%20%20%20%20%20%7B%0A%20%20%20%20%20%20%20%20%22attribution%22%3A%20null%2C%0A%20%20%20%20%20%20%20%20%22detectRetina%22%3A%20false%2C%0A%20%20%20%20%20%20%20%20%22maxNativeZoom%22%3A%2018%2C%0A%20%20%20%20%20%20%20%20%22maxZoom%22%3A%2018%2C%0A%20%20%20%20%20%20%20%20%22minZoom%22%3A%200%2C%0A%20%20%20%20%20%20%20%20%22noWrap%22%3A%20false%2C%0A%20%20%20%20%20%20%20%20%22opacity%22%3A%201%2C%0A%20%20%20%20%20%20%20%20%22subdomains%22%3A%20%22abc%22%2C%0A%20%20%20%20%20%20%20%20%22tms%22%3A%20false%0A%7D%29.addTo%28map_69226580856149209fccfbf118501555%29%3B%0A%20%20%20%20%0A%20%20%20%20%20%20%20%20%20%20%20%20var%20circle_marker_91980bc618844455b44199e42ad8a5ac%20%3D%20L.circleMarker%28%0A%20%20%20%20%20%20%20%20%20%20%20%20%20%20%20%20%5B43.6542599%2C%20-79.3606359%5D%2C%0A%20%20%20%20%20%20%20%20%20%20%20%20%20%20%20%20%7B%0A%20%20%22bubblingMouseEvents%22%3A%20true%2C%0A%20%20%22color%22%3A%20%22%23ff0000%22%2C%0A%20%20%22dashArray%22%3A%20null%2C%0A%20%20%22dashOffset%22%3A%20null%2C%0A%20%20%22fill%22%3A%20true%2C%0A%20%20%22fillColor%22%3A%20%22%23ff0000%22%2C%0A%20%20%22fillOpacity%22%3A%200.7%2C%0A%20%20%22fillRule%22%3A%20%22evenodd%22%2C%0A%20%20%22lineCap%22%3A%20%22round%22%2C%0A%20%20%22lineJoin%22%3A%20%22round%22%2C%0A%20%20%22opacity%22%3A%201.0%2C%0A%20%20%22radius%22%3A%205%2C%0A%20%20%22stroke%22%3A%20true%2C%0A%20%20%22weight%22%3A%203%0A%7D%0A%20%20%20%20%20%20%20%20%20%20%20%20%20%20%20%20%29%0A%20%20%20%20%20%20%20%20%20%20%20%20%20%20%20%20.addTo%28map_69226580856149209fccfbf118501555%29%3B%0A%20%20%20%20%20%20%20%20%20%20%20%20%0A%20%20%20%20%0A%20%20%20%20%20%20%20%20%20%20%20%20var%20popup_10cf7281d86a485bae18151e585e951b%20%3D%20L.popup%28%7BmaxWidth%3A%20%27100%25%27%0A%20%20%20%20%20%20%20%20%20%20%20%20%0A%20%20%20%20%20%20%20%20%20%20%20%20%7D%29%3B%0A%0A%20%20%20%20%20%20%20%20%20%20%20%20%0A%20%20%20%20%20%20%20%20%20%20%20%20%20%20%20%20var%20html_a5d6c2ce8acc49c9b31511d967b299c3%20%3D%20%24%28%60%3Cdiv%20id%3D%22html_a5d6c2ce8acc49c9b31511d967b299c3%22%20style%3D%22width%3A%20100.0%25%3B%20height%3A%20100.0%25%3B%22%3E0%20%20%20%20%20Downtown%20Toronto%201%20%20%20%20%20Downtown%20Toronto%202%20%20%20%20%20Downtown%20Toronto%203%20%20%20%20%20%20%20%20%20East%20Toronto%204%20%20%20%20%20Downtown%20Toronto%205%20%20%20%20%20Downtown%20Toronto%206%20%20%20%20%20Downtown%20Toronto%207%20%20%20%20%20Downtown%20Toronto%208%20%20%20%20%20%20%20%20%20West%20Toronto%209%20%20%20%20%20%20%20%20%20East%20Toronto%2010%20%20%20%20Downtown%20Toronto%2011%20%20%20%20%20%20%20%20West%20Toronto%2012%20%20%20%20%20%20%20%20East%20Toronto%2013%20%20%20%20Downtown%20Toronto%2014%20%20%20%20%20%20%20%20West%20Toronto%2015%20%20%20%20%20%20%20%20East%20Toronto%2016%20%20%20%20Downtown%20Toronto%2017%20%20%20%20%20%20%20%20East%20Toronto%2018%20%20%20%20%20Central%20Toronto%2019%20%20%20%20%20Central%20Toronto%2020%20%20%20%20%20Central%20Toronto%2021%20%20%20%20%20Central%20Toronto%2022%20%20%20%20%20%20%20%20West%20Toronto%2023%20%20%20%20%20Central%20Toronto%2024%20%20%20%20%20Central%20Toronto%2025%20%20%20%20%20%20%20%20West%20Toronto%2026%20%20%20%20%20Central%20Toronto%2027%20%20%20%20Downtown%20Toronto%2028%20%20%20%20%20%20%20%20West%20Toronto%2029%20%20%20%20%20Central%20Toronto%2030%20%20%20%20Downtown%20Toronto%2031%20%20%20%20%20Central%20Toronto%2032%20%20%20%20Downtown%20Toronto%2033%20%20%20%20Downtown%20Toronto%2034%20%20%20%20Downtown%20Toronto%2035%20%20%20%20Downtown%20Toronto%2036%20%20%20%20Downtown%20Toronto%2037%20%20%20%20Downtown%20Toronto%2038%20%20%20%20%20%20%20%20East%20Toronto%20Name%3A%20Borough%2C%20dtype%3A%20object%20Cluster%204%3C/div%3E%60%29%5B0%5D%3B%0A%20%20%20%20%20%20%20%20%20%20%20%20%20%20%20%20popup_10cf7281d86a485bae18151e585e951b.setContent%28html_a5d6c2ce8acc49c9b31511d967b299c3%29%3B%0A%20%20%20%20%20%20%20%20%20%20%20%20%0A%0A%20%20%20%20%20%20%20%20%20%20%20%20circle_marker_91980bc618844455b44199e42ad8a5ac.bindPopup%28popup_10cf7281d86a485bae18151e585e951b%29%0A%20%20%20%20%20%20%20%20%20%20%20%20%3B%0A%0A%20%20%20%20%20%20%20%20%20%20%20%20%0A%20%20%20%20%20%20%20%20%0A%20%20%20%20%0A%20%20%20%20%20%20%20%20%20%20%20%20var%20circle_marker_bee1161eb65e4b6fbd4412a1a909cde4%20%3D%20L.circleMarker%28%0A%20%20%20%20%20%20%20%20%20%20%20%20%20%20%20%20%5B43.6571618%2C%20-79.37893709999999%5D%2C%0A%20%20%20%20%20%20%20%20%20%20%20%20%20%20%20%20%7B%0A%20%20%22bubblingMouseEvents%22%3A%20true%2C%0A%20%20%22color%22%3A%20%22%23ff0000%22%2C%0A%20%20%22dashArray%22%3A%20null%2C%0A%20%20%22dashOffset%22%3A%20null%2C%0A%20%20%22fill%22%3A%20true%2C%0A%20%20%22fillColor%22%3A%20%22%23ff0000%22%2C%0A%20%20%22fillOpacity%22%3A%200.7%2C%0A%20%20%22fillRule%22%3A%20%22evenodd%22%2C%0A%20%20%22lineCap%22%3A%20%22round%22%2C%0A%20%20%22lineJoin%22%3A%20%22round%22%2C%0A%20%20%22opacity%22%3A%201.0%2C%0A%20%20%22radius%22%3A%205%2C%0A%20%20%22stroke%22%3A%20true%2C%0A%20%20%22weight%22%3A%203%0A%7D%0A%20%20%20%20%20%20%20%20%20%20%20%20%20%20%20%20%29%0A%20%20%20%20%20%20%20%20%20%20%20%20%20%20%20%20.addTo%28map_69226580856149209fccfbf118501555%29%3B%0A%20%20%20%20%20%20%20%20%20%20%20%20%0A%20%20%20%20%0A%20%20%20%20%20%20%20%20%20%20%20%20var%20popup_89a7553522094ed58b7f73d100e0c016%20%3D%20L.popup%28%7BmaxWidth%3A%20%27100%25%27%0A%20%20%20%20%20%20%20%20%20%20%20%20%0A%20%20%20%20%20%20%20%20%20%20%20%20%7D%29%3B%0A%0A%20%20%20%20%20%20%20%20%20%20%20%20%0A%20%20%20%20%20%20%20%20%20%20%20%20%20%20%20%20var%20html_aa7d053adf934f4090cf638d52c2cee1%20%3D%20%24%28%60%3Cdiv%20id%3D%22html_aa7d053adf934f4090cf638d52c2cee1%22%20style%3D%22width%3A%20100.0%25%3B%20height%3A%20100.0%25%3B%22%3E0%20%20%20%20%20Downtown%20Toronto%201%20%20%20%20%20Downtown%20Toronto%202%20%20%20%20%20Downtown%20Toronto%203%20%20%20%20%20%20%20%20%20East%20Toronto%204%20%20%20%20%20Downtown%20Toronto%205%20%20%20%20%20Downtown%20Toronto%206%20%20%20%20%20Downtown%20Toronto%207%20%20%20%20%20Downtown%20Toronto%208%20%20%20%20%20%20%20%20%20West%20Toronto%209%20%20%20%20%20%20%20%20%20East%20Toronto%2010%20%20%20%20Downtown%20Toronto%2011%20%20%20%20%20%20%20%20West%20Toronto%2012%20%20%20%20%20%20%20%20East%20Toronto%2013%20%20%20%20Downtown%20Toronto%2014%20%20%20%20%20%20%20%20West%20Toronto%2015%20%20%20%20%20%20%20%20East%20Toronto%2016%20%20%20%20Downtown%20Toronto%2017%20%20%20%20%20%20%20%20East%20Toronto%2018%20%20%20%20%20Central%20Toronto%2019%20%20%20%20%20Central%20Toronto%2020%20%20%20%20%20Central%20Toronto%2021%20%20%20%20%20Central%20Toronto%2022%20%20%20%20%20%20%20%20West%20Toronto%2023%20%20%20%20%20Central%20Toronto%2024%20%20%20%20%20Central%20Toronto%2025%20%20%20%20%20%20%20%20West%20Toronto%2026%20%20%20%20%20Central%20Toronto%2027%20%20%20%20Downtown%20Toronto%2028%20%20%20%20%20%20%20%20West%20Toronto%2029%20%20%20%20%20Central%20Toronto%2030%20%20%20%20Downtown%20Toronto%2031%20%20%20%20%20Central%20Toronto%2032%20%20%20%20Downtown%20Toronto%2033%20%20%20%20Downtown%20Toronto%2034%20%20%20%20Downtown%20Toronto%2035%20%20%20%20Downtown%20Toronto%2036%20%20%20%20Downtown%20Toronto%2037%20%20%20%20Downtown%20Toronto%2038%20%20%20%20%20%20%20%20East%20Toronto%20Name%3A%20Borough%2C%20dtype%3A%20object%20Cluster%204%3C/div%3E%60%29%5B0%5D%3B%0A%20%20%20%20%20%20%20%20%20%20%20%20%20%20%20%20popup_89a7553522094ed58b7f73d100e0c016.setContent%28html_aa7d053adf934f4090cf638d52c2cee1%29%3B%0A%20%20%20%20%20%20%20%20%20%20%20%20%0A%0A%20%20%20%20%20%20%20%20%20%20%20%20circle_marker_bee1161eb65e4b6fbd4412a1a909cde4.bindPopup%28popup_89a7553522094ed58b7f73d100e0c016%29%0A%20%20%20%20%20%20%20%20%20%20%20%20%3B%0A%0A%20%20%20%20%20%20%20%20%20%20%20%20%0A%20%20%20%20%20%20%20%20%0A%20%20%20%20%0A%20%20%20%20%20%20%20%20%20%20%20%20var%20circle_marker_34e1731d91754e4db017420d2ec5556b%20%3D%20L.circleMarker%28%0A%20%20%20%20%20%20%20%20%20%20%20%20%20%20%20%20%5B43.6514939%2C%20-79.3754179%5D%2C%0A%20%20%20%20%20%20%20%20%20%20%20%20%20%20%20%20%7B%0A%20%20%22bubblingMouseEvents%22%3A%20true%2C%0A%20%20%22color%22%3A%20%22%23ff0000%22%2C%0A%20%20%22dashArray%22%3A%20null%2C%0A%20%20%22dashOffset%22%3A%20null%2C%0A%20%20%22fill%22%3A%20true%2C%0A%20%20%22fillColor%22%3A%20%22%23ff0000%22%2C%0A%20%20%22fillOpacity%22%3A%200.7%2C%0A%20%20%22fillRule%22%3A%20%22evenodd%22%2C%0A%20%20%22lineCap%22%3A%20%22round%22%2C%0A%20%20%22lineJoin%22%3A%20%22round%22%2C%0A%20%20%22opacity%22%3A%201.0%2C%0A%20%20%22radius%22%3A%205%2C%0A%20%20%22stroke%22%3A%20true%2C%0A%20%20%22weight%22%3A%203%0A%7D%0A%20%20%20%20%20%20%20%20%20%20%20%20%20%20%20%20%29%0A%20%20%20%20%20%20%20%20%20%20%20%20%20%20%20%20.addTo%28map_69226580856149209fccfbf118501555%29%3B%0A%20%20%20%20%20%20%20%20%20%20%20%20%0A%20%20%20%20%0A%20%20%20%20%20%20%20%20%20%20%20%20var%20popup_74a2ec3cec55425fafb83c468e49214f%20%3D%20L.popup%28%7BmaxWidth%3A%20%27100%25%27%0A%20%20%20%20%20%20%20%20%20%20%20%20%0A%20%20%20%20%20%20%20%20%20%20%20%20%7D%29%3B%0A%0A%20%20%20%20%20%20%20%20%20%20%20%20%0A%20%20%20%20%20%20%20%20%20%20%20%20%20%20%20%20var%20html_c92d7dd837874544b171adb597dbdc15%20%3D%20%24%28%60%3Cdiv%20id%3D%22html_c92d7dd837874544b171adb597dbdc15%22%20style%3D%22width%3A%20100.0%25%3B%20height%3A%20100.0%25%3B%22%3E0%20%20%20%20%20Downtown%20Toronto%201%20%20%20%20%20Downtown%20Toronto%202%20%20%20%20%20Downtown%20Toronto%203%20%20%20%20%20%20%20%20%20East%20Toronto%204%20%20%20%20%20Downtown%20Toronto%205%20%20%20%20%20Downtown%20Toronto%206%20%20%20%20%20Downtown%20Toronto%207%20%20%20%20%20Downtown%20Toronto%208%20%20%20%20%20%20%20%20%20West%20Toronto%209%20%20%20%20%20%20%20%20%20East%20Toronto%2010%20%20%20%20Downtown%20Toronto%2011%20%20%20%20%20%20%20%20West%20Toronto%2012%20%20%20%20%20%20%20%20East%20Toronto%2013%20%20%20%20Downtown%20Toronto%2014%20%20%20%20%20%20%20%20West%20Toronto%2015%20%20%20%20%20%20%20%20East%20Toronto%2016%20%20%20%20Downtown%20Toronto%2017%20%20%20%20%20%20%20%20East%20Toronto%2018%20%20%20%20%20Central%20Toronto%2019%20%20%20%20%20Central%20Toronto%2020%20%20%20%20%20Central%20Toronto%2021%20%20%20%20%20Central%20Toronto%2022%20%20%20%20%20%20%20%20West%20Toronto%2023%20%20%20%20%20Central%20Toronto%2024%20%20%20%20%20Central%20Toronto%2025%20%20%20%20%20%20%20%20West%20Toronto%2026%20%20%20%20%20Central%20Toronto%2027%20%20%20%20Downtown%20Toronto%2028%20%20%20%20%20%20%20%20West%20Toronto%2029%20%20%20%20%20Central%20Toronto%2030%20%20%20%20Downtown%20Toronto%2031%20%20%20%20%20Central%20Toronto%2032%20%20%20%20Downtown%20Toronto%2033%20%20%20%20Downtown%20Toronto%2034%20%20%20%20Downtown%20Toronto%2035%20%20%20%20Downtown%20Toronto%2036%20%20%20%20Downtown%20Toronto%2037%20%20%20%20Downtown%20Toronto%2038%20%20%20%20%20%20%20%20East%20Toronto%20Name%3A%20Borough%2C%20dtype%3A%20object%20Cluster%204%3C/div%3E%60%29%5B0%5D%3B%0A%20%20%20%20%20%20%20%20%20%20%20%20%20%20%20%20popup_74a2ec3cec55425fafb83c468e49214f.setContent%28html_c92d7dd837874544b171adb597dbdc15%29%3B%0A%20%20%20%20%20%20%20%20%20%20%20%20%0A%0A%20%20%20%20%20%20%20%20%20%20%20%20circle_marker_34e1731d91754e4db017420d2ec5556b.bindPopup%28popup_74a2ec3cec55425fafb83c468e49214f%29%0A%20%20%20%20%20%20%20%20%20%20%20%20%3B%0A%0A%20%20%20%20%20%20%20%20%20%20%20%20%0A%20%20%20%20%20%20%20%20%0A%20%20%20%20%0A%20%20%20%20%20%20%20%20%20%20%20%20var%20circle_marker_991869c3edde4aedaa8dc29946f568ee%20%3D%20L.circleMarker%28%0A%20%20%20%20%20%20%20%20%20%20%20%20%20%20%20%20%5B43.67635739999999%2C%20-79.2930312%5D%2C%0A%20%20%20%20%20%20%20%20%20%20%20%20%20%20%20%20%7B%0A%20%20%22bubblingMouseEvents%22%3A%20true%2C%0A%20%20%22color%22%3A%20%22%23d4dd80%22%2C%0A%20%20%22dashArray%22%3A%20null%2C%0A%20%20%22dashOffset%22%3A%20null%2C%0A%20%20%22fill%22%3A%20true%2C%0A%20%20%22fillColor%22%3A%20%22%23d4dd80%22%2C%0A%20%20%22fillOpacity%22%3A%200.7%2C%0A%20%20%22fillRule%22%3A%20%22evenodd%22%2C%0A%20%20%22lineCap%22%3A%20%22round%22%2C%0A%20%20%22lineJoin%22%3A%20%22round%22%2C%0A%20%20%22opacity%22%3A%201.0%2C%0A%20%20%22radius%22%3A%205%2C%0A%20%20%22stroke%22%3A%20true%2C%0A%20%20%22weight%22%3A%203%0A%7D%0A%20%20%20%20%20%20%20%20%20%20%20%20%20%20%20%20%29%0A%20%20%20%20%20%20%20%20%20%20%20%20%20%20%20%20.addTo%28map_69226580856149209fccfbf118501555%29%3B%0A%20%20%20%20%20%20%20%20%20%20%20%20%0A%20%20%20%20%0A%20%20%20%20%20%20%20%20%20%20%20%20var%20popup_12bbcf4becbf40cf8b302d6ad483e997%20%3D%20L.popup%28%7BmaxWidth%3A%20%27100%25%27%0A%20%20%20%20%20%20%20%20%20%20%20%20%0A%20%20%20%20%20%20%20%20%20%20%20%20%7D%29%3B%0A%0A%20%20%20%20%20%20%20%20%20%20%20%20%0A%20%20%20%20%20%20%20%20%20%20%20%20%20%20%20%20var%20html_99fa3741e1354d7ba49704f6dcc793e7%20%3D%20%24%28%60%3Cdiv%20id%3D%22html_99fa3741e1354d7ba49704f6dcc793e7%22%20style%3D%22width%3A%20100.0%25%3B%20height%3A%20100.0%25%3B%22%3E0%20%20%20%20%20Downtown%20Toronto%201%20%20%20%20%20Downtown%20Toronto%202%20%20%20%20%20Downtown%20Toronto%203%20%20%20%20%20%20%20%20%20East%20Toronto%204%20%20%20%20%20Downtown%20Toronto%205%20%20%20%20%20Downtown%20Toronto%206%20%20%20%20%20Downtown%20Toronto%207%20%20%20%20%20Downtown%20Toronto%208%20%20%20%20%20%20%20%20%20West%20Toronto%209%20%20%20%20%20%20%20%20%20East%20Toronto%2010%20%20%20%20Downtown%20Toronto%2011%20%20%20%20%20%20%20%20West%20Toronto%2012%20%20%20%20%20%20%20%20East%20Toronto%2013%20%20%20%20Downtown%20Toronto%2014%20%20%20%20%20%20%20%20West%20Toronto%2015%20%20%20%20%20%20%20%20East%20Toronto%2016%20%20%20%20Downtown%20Toronto%2017%20%20%20%20%20%20%20%20East%20Toronto%2018%20%20%20%20%20Central%20Toronto%2019%20%20%20%20%20Central%20Toronto%2020%20%20%20%20%20Central%20Toronto%2021%20%20%20%20%20Central%20Toronto%2022%20%20%20%20%20%20%20%20West%20Toronto%2023%20%20%20%20%20Central%20Toronto%2024%20%20%20%20%20Central%20Toronto%2025%20%20%20%20%20%20%20%20West%20Toronto%2026%20%20%20%20%20Central%20Toronto%2027%20%20%20%20Downtown%20Toronto%2028%20%20%20%20%20%20%20%20West%20Toronto%2029%20%20%20%20%20Central%20Toronto%2030%20%20%20%20Downtown%20Toronto%2031%20%20%20%20%20Central%20Toronto%2032%20%20%20%20Downtown%20Toronto%2033%20%20%20%20Downtown%20Toronto%2034%20%20%20%20Downtown%20Toronto%2035%20%20%20%20Downtown%20Toronto%2036%20%20%20%20Downtown%20Toronto%2037%20%20%20%20Downtown%20Toronto%2038%20%20%20%20%20%20%20%20East%20Toronto%20Name%3A%20Borough%2C%20dtype%3A%20object%20Cluster%203%3C/div%3E%60%29%5B0%5D%3B%0A%20%20%20%20%20%20%20%20%20%20%20%20%20%20%20%20popup_12bbcf4becbf40cf8b302d6ad483e997.setContent%28html_99fa3741e1354d7ba49704f6dcc793e7%29%3B%0A%20%20%20%20%20%20%20%20%20%20%20%20%0A%0A%20%20%20%20%20%20%20%20%20%20%20%20circle_marker_991869c3edde4aedaa8dc29946f568ee.bindPopup%28popup_12bbcf4becbf40cf8b302d6ad483e997%29%0A%20%20%20%20%20%20%20%20%20%20%20%20%3B%0A%0A%20%20%20%20%20%20%20%20%20%20%20%20%0A%20%20%20%20%20%20%20%20%0A%20%20%20%20%0A%20%20%20%20%20%20%20%20%20%20%20%20var%20circle_marker_33ef2ff93c594ac1b5f0f809a065cc2e%20%3D%20L.circleMarker%28%0A%20%20%20%20%20%20%20%20%20%20%20%20%20%20%20%20%5B43.644770799999996%2C%20-79.3733064%5D%2C%0A%20%20%20%20%20%20%20%20%20%20%20%20%20%20%20%20%7B%0A%20%20%22bubblingMouseEvents%22%3A%20true%2C%0A%20%20%22color%22%3A%20%22%23ff0000%22%2C%0A%20%20%22dashArray%22%3A%20null%2C%0A%20%20%22dashOffset%22%3A%20null%2C%0A%20%20%22fill%22%3A%20true%2C%0A%20%20%22fillColor%22%3A%20%22%23ff0000%22%2C%0A%20%20%22fillOpacity%22%3A%200.7%2C%0A%20%20%22fillRule%22%3A%20%22evenodd%22%2C%0A%20%20%22lineCap%22%3A%20%22round%22%2C%0A%20%20%22lineJoin%22%3A%20%22round%22%2C%0A%20%20%22opacity%22%3A%201.0%2C%0A%20%20%22radius%22%3A%205%2C%0A%20%20%22stroke%22%3A%20true%2C%0A%20%20%22weight%22%3A%203%0A%7D%0A%20%20%20%20%20%20%20%20%20%20%20%20%20%20%20%20%29%0A%20%20%20%20%20%20%20%20%20%20%20%20%20%20%20%20.addTo%28map_69226580856149209fccfbf118501555%29%3B%0A%20%20%20%20%20%20%20%20%20%20%20%20%0A%20%20%20%20%0A%20%20%20%20%20%20%20%20%20%20%20%20var%20popup_c17f231391e7406ba1edb15e5585495b%20%3D%20L.popup%28%7BmaxWidth%3A%20%27100%25%27%0A%20%20%20%20%20%20%20%20%20%20%20%20%0A%20%20%20%20%20%20%20%20%20%20%20%20%7D%29%3B%0A%0A%20%20%20%20%20%20%20%20%20%20%20%20%0A%20%20%20%20%20%20%20%20%20%20%20%20%20%20%20%20var%20html_8ccff77f475946708895e32becf527c5%20%3D%20%24%28%60%3Cdiv%20id%3D%22html_8ccff77f475946708895e32becf527c5%22%20style%3D%22width%3A%20100.0%25%3B%20height%3A%20100.0%25%3B%22%3E0%20%20%20%20%20Downtown%20Toronto%201%20%20%20%20%20Downtown%20Toronto%202%20%20%20%20%20Downtown%20Toronto%203%20%20%20%20%20%20%20%20%20East%20Toronto%204%20%20%20%20%20Downtown%20Toronto%205%20%20%20%20%20Downtown%20Toronto%206%20%20%20%20%20Downtown%20Toronto%207%20%20%20%20%20Downtown%20Toronto%208%20%20%20%20%20%20%20%20%20West%20Toronto%209%20%20%20%20%20%20%20%20%20East%20Toronto%2010%20%20%20%20Downtown%20Toronto%2011%20%20%20%20%20%20%20%20West%20Toronto%2012%20%20%20%20%20%20%20%20East%20Toronto%2013%20%20%20%20Downtown%20Toronto%2014%20%20%20%20%20%20%20%20West%20Toronto%2015%20%20%20%20%20%20%20%20East%20Toronto%2016%20%20%20%20Downtown%20Toronto%2017%20%20%20%20%20%20%20%20East%20Toronto%2018%20%20%20%20%20Central%20Toronto%2019%20%20%20%20%20Central%20Toronto%2020%20%20%20%20%20Central%20Toronto%2021%20%20%20%20%20Central%20Toronto%2022%20%20%20%20%20%20%20%20West%20Toronto%2023%20%20%20%20%20Central%20Toronto%2024%20%20%20%20%20Central%20Toronto%2025%20%20%20%20%20%20%20%20West%20Toronto%2026%20%20%20%20%20Central%20Toronto%2027%20%20%20%20Downtown%20Toronto%2028%20%20%20%20%20%20%20%20West%20Toronto%2029%20%20%20%20%20Central%20Toronto%2030%20%20%20%20Downtown%20Toronto%2031%20%20%20%20%20Central%20Toronto%2032%20%20%20%20Downtown%20Toronto%2033%20%20%20%20Downtown%20Toronto%2034%20%20%20%20Downtown%20Toronto%2035%20%20%20%20Downtown%20Toronto%2036%20%20%20%20Downtown%20Toronto%2037%20%20%20%20Downtown%20Toronto%2038%20%20%20%20%20%20%20%20East%20Toronto%20Name%3A%20Borough%2C%20dtype%3A%20object%20Cluster%204%3C/div%3E%60%29%5B0%5D%3B%0A%20%20%20%20%20%20%20%20%20%20%20%20%20%20%20%20popup_c17f231391e7406ba1edb15e5585495b.setContent%28html_8ccff77f475946708895e32becf527c5%29%3B%0A%20%20%20%20%20%20%20%20%20%20%20%20%0A%0A%20%20%20%20%20%20%20%20%20%20%20%20circle_marker_33ef2ff93c594ac1b5f0f809a065cc2e.bindPopup%28popup_c17f231391e7406ba1edb15e5585495b%29%0A%20%20%20%20%20%20%20%20%20%20%20%20%3B%0A%0A%20%20%20%20%20%20%20%20%20%20%20%20%0A%20%20%20%20%20%20%20%20%0A%20%20%20%20%0A%20%20%20%20%20%20%20%20%20%20%20%20var%20circle_marker_ef83d10472ef4eafb22c2994a1ad3541%20%3D%20L.circleMarker%28%0A%20%20%20%20%20%20%20%20%20%20%20%20%20%20%20%20%5B43.6579524%2C%20-79.3873826%5D%2C%0A%20%20%20%20%20%20%20%20%20%20%20%20%20%20%20%20%7B%0A%20%20%22bubblingMouseEvents%22%3A%20true%2C%0A%20%20%22color%22%3A%20%22%23ff0000%22%2C%0A%20%20%22dashArray%22%3A%20null%2C%0A%20%20%22dashOffset%22%3A%20null%2C%0A%20%20%22fill%22%3A%20true%2C%0A%20%20%22fillColor%22%3A%20%22%23ff0000%22%2C%0A%20%20%22fillOpacity%22%3A%200.7%2C%0A%20%20%22fillRule%22%3A%20%22evenodd%22%2C%0A%20%20%22lineCap%22%3A%20%22round%22%2C%0A%20%20%22lineJoin%22%3A%20%22round%22%2C%0A%20%20%22opacity%22%3A%201.0%2C%0A%20%20%22radius%22%3A%205%2C%0A%20%20%22stroke%22%3A%20true%2C%0A%20%20%22weight%22%3A%203%0A%7D%0A%20%20%20%20%20%20%20%20%20%20%20%20%20%20%20%20%29%0A%20%20%20%20%20%20%20%20%20%20%20%20%20%20%20%20.addTo%28map_69226580856149209fccfbf118501555%29%3B%0A%20%20%20%20%20%20%20%20%20%20%20%20%0A%20%20%20%20%0A%20%20%20%20%20%20%20%20%20%20%20%20var%20popup_bb1470247e8940aabeea78697f9d4661%20%3D%20L.popup%28%7BmaxWidth%3A%20%27100%25%27%0A%20%20%20%20%20%20%20%20%20%20%20%20%0A%20%20%20%20%20%20%20%20%20%20%20%20%7D%29%3B%0A%0A%20%20%20%20%20%20%20%20%20%20%20%20%0A%20%20%20%20%20%20%20%20%20%20%20%20%20%20%20%20var%20html_3d7b6b95f35b4a738d882e8a57efd5db%20%3D%20%24%28%60%3Cdiv%20id%3D%22html_3d7b6b95f35b4a738d882e8a57efd5db%22%20style%3D%22width%3A%20100.0%25%3B%20height%3A%20100.0%25%3B%22%3E0%20%20%20%20%20Downtown%20Toronto%201%20%20%20%20%20Downtown%20Toronto%202%20%20%20%20%20Downtown%20Toronto%203%20%20%20%20%20%20%20%20%20East%20Toronto%204%20%20%20%20%20Downtown%20Toronto%205%20%20%20%20%20Downtown%20Toronto%206%20%20%20%20%20Downtown%20Toronto%207%20%20%20%20%20Downtown%20Toronto%208%20%20%20%20%20%20%20%20%20West%20Toronto%209%20%20%20%20%20%20%20%20%20East%20Toronto%2010%20%20%20%20Downtown%20Toronto%2011%20%20%20%20%20%20%20%20West%20Toronto%2012%20%20%20%20%20%20%20%20East%20Toronto%2013%20%20%20%20Downtown%20Toronto%2014%20%20%20%20%20%20%20%20West%20Toronto%2015%20%20%20%20%20%20%20%20East%20Toronto%2016%20%20%20%20Downtown%20Toronto%2017%20%20%20%20%20%20%20%20East%20Toronto%2018%20%20%20%20%20Central%20Toronto%2019%20%20%20%20%20Central%20Toronto%2020%20%20%20%20%20Central%20Toronto%2021%20%20%20%20%20Central%20Toronto%2022%20%20%20%20%20%20%20%20West%20Toronto%2023%20%20%20%20%20Central%20Toronto%2024%20%20%20%20%20Central%20Toronto%2025%20%20%20%20%20%20%20%20West%20Toronto%2026%20%20%20%20%20Central%20Toronto%2027%20%20%20%20Downtown%20Toronto%2028%20%20%20%20%20%20%20%20West%20Toronto%2029%20%20%20%20%20Central%20Toronto%2030%20%20%20%20Downtown%20Toronto%2031%20%20%20%20%20Central%20Toronto%2032%20%20%20%20Downtown%20Toronto%2033%20%20%20%20Downtown%20Toronto%2034%20%20%20%20Downtown%20Toronto%2035%20%20%20%20Downtown%20Toronto%2036%20%20%20%20Downtown%20Toronto%2037%20%20%20%20Downtown%20Toronto%2038%20%20%20%20%20%20%20%20East%20Toronto%20Name%3A%20Borough%2C%20dtype%3A%20object%20Cluster%204%3C/div%3E%60%29%5B0%5D%3B%0A%20%20%20%20%20%20%20%20%20%20%20%20%20%20%20%20popup_bb1470247e8940aabeea78697f9d4661.setContent%28html_3d7b6b95f35b4a738d882e8a57efd5db%29%3B%0A%20%20%20%20%20%20%20%20%20%20%20%20%0A%0A%20%20%20%20%20%20%20%20%20%20%20%20circle_marker_ef83d10472ef4eafb22c2994a1ad3541.bindPopup%28popup_bb1470247e8940aabeea78697f9d4661%29%0A%20%20%20%20%20%20%20%20%20%20%20%20%3B%0A%0A%20%20%20%20%20%20%20%20%20%20%20%20%0A%20%20%20%20%20%20%20%20%0A%20%20%20%20%0A%20%20%20%20%20%20%20%20%20%20%20%20var%20circle_marker_7b41d98cdc1943f0b5d301b50468ef3a%20%3D%20L.circleMarker%28%0A%20%20%20%20%20%20%20%20%20%20%20%20%20%20%20%20%5B43.669542%2C%20-79.4225637%5D%2C%0A%20%20%20%20%20%20%20%20%20%20%20%20%20%20%20%20%7B%0A%20%20%22bubblingMouseEvents%22%3A%20true%2C%0A%20%20%22color%22%3A%20%22%23ff0000%22%2C%0A%20%20%22dashArray%22%3A%20null%2C%0A%20%20%22dashOffset%22%3A%20null%2C%0A%20%20%22fill%22%3A%20true%2C%0A%20%20%22fillColor%22%3A%20%22%23ff0000%22%2C%0A%20%20%22fillOpacity%22%3A%200.7%2C%0A%20%20%22fillRule%22%3A%20%22evenodd%22%2C%0A%20%20%22lineCap%22%3A%20%22round%22%2C%0A%20%20%22lineJoin%22%3A%20%22round%22%2C%0A%20%20%22opacity%22%3A%201.0%2C%0A%20%20%22radius%22%3A%205%2C%0A%20%20%22stroke%22%3A%20true%2C%0A%20%20%22weight%22%3A%203%0A%7D%0A%20%20%20%20%20%20%20%20%20%20%20%20%20%20%20%20%29%0A%20%20%20%20%20%20%20%20%20%20%20%20%20%20%20%20.addTo%28map_69226580856149209fccfbf118501555%29%3B%0A%20%20%20%20%20%20%20%20%20%20%20%20%0A%20%20%20%20%0A%20%20%20%20%20%20%20%20%20%20%20%20var%20popup_4d5e4eaa0ef34ddf9bbf8ed23103374c%20%3D%20L.popup%28%7BmaxWidth%3A%20%27100%25%27%0A%20%20%20%20%20%20%20%20%20%20%20%20%0A%20%20%20%20%20%20%20%20%20%20%20%20%7D%29%3B%0A%0A%20%20%20%20%20%20%20%20%20%20%20%20%0A%20%20%20%20%20%20%20%20%20%20%20%20%20%20%20%20var%20html_41ba2afab9ee4adba39366ed9e388a2f%20%3D%20%24%28%60%3Cdiv%20id%3D%22html_41ba2afab9ee4adba39366ed9e388a2f%22%20style%3D%22width%3A%20100.0%25%3B%20height%3A%20100.0%25%3B%22%3E0%20%20%20%20%20Downtown%20Toronto%201%20%20%20%20%20Downtown%20Toronto%202%20%20%20%20%20Downtown%20Toronto%203%20%20%20%20%20%20%20%20%20East%20Toronto%204%20%20%20%20%20Downtown%20Toronto%205%20%20%20%20%20Downtown%20Toronto%206%20%20%20%20%20Downtown%20Toronto%207%20%20%20%20%20Downtown%20Toronto%208%20%20%20%20%20%20%20%20%20West%20Toronto%209%20%20%20%20%20%20%20%20%20East%20Toronto%2010%20%20%20%20Downtown%20Toronto%2011%20%20%20%20%20%20%20%20West%20Toronto%2012%20%20%20%20%20%20%20%20East%20Toronto%2013%20%20%20%20Downtown%20Toronto%2014%20%20%20%20%20%20%20%20West%20Toronto%2015%20%20%20%20%20%20%20%20East%20Toronto%2016%20%20%20%20Downtown%20Toronto%2017%20%20%20%20%20%20%20%20East%20Toronto%2018%20%20%20%20%20Central%20Toronto%2019%20%20%20%20%20Central%20Toronto%2020%20%20%20%20%20Central%20Toronto%2021%20%20%20%20%20Central%20Toronto%2022%20%20%20%20%20%20%20%20West%20Toronto%2023%20%20%20%20%20Central%20Toronto%2024%20%20%20%20%20Central%20Toronto%2025%20%20%20%20%20%20%20%20West%20Toronto%2026%20%20%20%20%20Central%20Toronto%2027%20%20%20%20Downtown%20Toronto%2028%20%20%20%20%20%20%20%20West%20Toronto%2029%20%20%20%20%20Central%20Toronto%2030%20%20%20%20Downtown%20Toronto%2031%20%20%20%20%20Central%20Toronto%2032%20%20%20%20Downtown%20Toronto%2033%20%20%20%20Downtown%20Toronto%2034%20%20%20%20Downtown%20Toronto%2035%20%20%20%20Downtown%20Toronto%2036%20%20%20%20Downtown%20Toronto%2037%20%20%20%20Downtown%20Toronto%2038%20%20%20%20%20%20%20%20East%20Toronto%20Name%3A%20Borough%2C%20dtype%3A%20object%20Cluster%204%3C/div%3E%60%29%5B0%5D%3B%0A%20%20%20%20%20%20%20%20%20%20%20%20%20%20%20%20popup_4d5e4eaa0ef34ddf9bbf8ed23103374c.setContent%28html_41ba2afab9ee4adba39366ed9e388a2f%29%3B%0A%20%20%20%20%20%20%20%20%20%20%20%20%0A%0A%20%20%20%20%20%20%20%20%20%20%20%20circle_marker_7b41d98cdc1943f0b5d301b50468ef3a.bindPopup%28popup_4d5e4eaa0ef34ddf9bbf8ed23103374c%29%0A%20%20%20%20%20%20%20%20%20%20%20%20%3B%0A%0A%20%20%20%20%20%20%20%20%20%20%20%20%0A%20%20%20%20%20%20%20%20%0A%20%20%20%20%0A%20%20%20%20%20%20%20%20%20%20%20%20var%20circle_marker_0271803c1a5b49e6b86a135f3f41f41e%20%3D%20L.circleMarker%28%0A%20%20%20%20%20%20%20%20%20%20%20%20%20%20%20%20%5B43.65057120000001%2C%20-79.3845675%5D%2C%0A%20%20%20%20%20%20%20%20%20%20%20%20%20%20%20%20%7B%0A%20%20%22bubblingMouseEvents%22%3A%20true%2C%0A%20%20%22color%22%3A%20%22%23ff0000%22%2C%0A%20%20%22dashArray%22%3A%20null%2C%0A%20%20%22dashOffset%22%3A%20null%2C%0A%20%20%22fill%22%3A%20true%2C%0A%20%20%22fillColor%22%3A%20%22%23ff0000%22%2C%0A%20%20%22fillOpacity%22%3A%200.7%2C%0A%20%20%22fillRule%22%3A%20%22evenodd%22%2C%0A%20%20%22lineCap%22%3A%20%22round%22%2C%0A%20%20%22lineJoin%22%3A%20%22round%22%2C%0A%20%20%22opacity%22%3A%201.0%2C%0A%20%20%22radius%22%3A%205%2C%0A%20%20%22stroke%22%3A%20true%2C%0A%20%20%22weight%22%3A%203%0A%7D%0A%20%20%20%20%20%20%20%20%20%20%20%20%20%20%20%20%29%0A%20%20%20%20%20%20%20%20%20%20%20%20%20%20%20%20.addTo%28map_69226580856149209fccfbf118501555%29%3B%0A%20%20%20%20%20%20%20%20%20%20%20%20%0A%20%20%20%20%0A%20%20%20%20%20%20%20%20%20%20%20%20var%20popup_7d16c0db4aee421eae996611553bbac9%20%3D%20L.popup%28%7BmaxWidth%3A%20%27100%25%27%0A%20%20%20%20%20%20%20%20%20%20%20%20%0A%20%20%20%20%20%20%20%20%20%20%20%20%7D%29%3B%0A%0A%20%20%20%20%20%20%20%20%20%20%20%20%0A%20%20%20%20%20%20%20%20%20%20%20%20%20%20%20%20var%20html_da450d763e994492b5064ef5168147ec%20%3D%20%24%28%60%3Cdiv%20id%3D%22html_da450d763e994492b5064ef5168147ec%22%20style%3D%22width%3A%20100.0%25%3B%20height%3A%20100.0%25%3B%22%3E0%20%20%20%20%20Downtown%20Toronto%201%20%20%20%20%20Downtown%20Toronto%202%20%20%20%20%20Downtown%20Toronto%203%20%20%20%20%20%20%20%20%20East%20Toronto%204%20%20%20%20%20Downtown%20Toronto%205%20%20%20%20%20Downtown%20Toronto%206%20%20%20%20%20Downtown%20Toronto%207%20%20%20%20%20Downtown%20Toronto%208%20%20%20%20%20%20%20%20%20West%20Toronto%209%20%20%20%20%20%20%20%20%20East%20Toronto%2010%20%20%20%20Downtown%20Toronto%2011%20%20%20%20%20%20%20%20West%20Toronto%2012%20%20%20%20%20%20%20%20East%20Toronto%2013%20%20%20%20Downtown%20Toronto%2014%20%20%20%20%20%20%20%20West%20Toronto%2015%20%20%20%20%20%20%20%20East%20Toronto%2016%20%20%20%20Downtown%20Toronto%2017%20%20%20%20%20%20%20%20East%20Toronto%2018%20%20%20%20%20Central%20Toronto%2019%20%20%20%20%20Central%20Toronto%2020%20%20%20%20%20Central%20Toronto%2021%20%20%20%20%20Central%20Toronto%2022%20%20%20%20%20%20%20%20West%20Toronto%2023%20%20%20%20%20Central%20Toronto%2024%20%20%20%20%20Central%20Toronto%2025%20%20%20%20%20%20%20%20West%20Toronto%2026%20%20%20%20%20Central%20Toronto%2027%20%20%20%20Downtown%20Toronto%2028%20%20%20%20%20%20%20%20West%20Toronto%2029%20%20%20%20%20Central%20Toronto%2030%20%20%20%20Downtown%20Toronto%2031%20%20%20%20%20Central%20Toronto%2032%20%20%20%20Downtown%20Toronto%2033%20%20%20%20Downtown%20Toronto%2034%20%20%20%20Downtown%20Toronto%2035%20%20%20%20Downtown%20Toronto%2036%20%20%20%20Downtown%20Toronto%2037%20%20%20%20Downtown%20Toronto%2038%20%20%20%20%20%20%20%20East%20Toronto%20Name%3A%20Borough%2C%20dtype%3A%20object%20Cluster%204%3C/div%3E%60%29%5B0%5D%3B%0A%20%20%20%20%20%20%20%20%20%20%20%20%20%20%20%20popup_7d16c0db4aee421eae996611553bbac9.setContent%28html_da450d763e994492b5064ef5168147ec%29%3B%0A%20%20%20%20%20%20%20%20%20%20%20%20%0A%0A%20%20%20%20%20%20%20%20%20%20%20%20circle_marker_0271803c1a5b49e6b86a135f3f41f41e.bindPopup%28popup_7d16c0db4aee421eae996611553bbac9%29%0A%20%20%20%20%20%20%20%20%20%20%20%20%3B%0A%0A%20%20%20%20%20%20%20%20%20%20%20%20%0A%20%20%20%20%20%20%20%20%0A%20%20%20%20%0A%20%20%20%20%20%20%20%20%20%20%20%20var%20circle_marker_3beeccff94504e769a647e8982d457d4%20%3D%20L.circleMarker%28%0A%20%20%20%20%20%20%20%20%20%20%20%20%20%20%20%20%5B43.66900510000001%2C%20-79.4422593%5D%2C%0A%20%20%20%20%20%20%20%20%20%20%20%20%20%20%20%20%7B%0A%20%20%22bubblingMouseEvents%22%3A%20true%2C%0A%20%20%22color%22%3A%20%22%232adddd%22%2C%0A%20%20%22dashArray%22%3A%20null%2C%0A%20%20%22dashOffset%22%3A%20null%2C%0A%20%20%22fill%22%3A%20true%2C%0A%20%20%22fillColor%22%3A%20%22%232adddd%22%2C%0A%20%20%22fillOpacity%22%3A%200.7%2C%0A%20%20%22fillRule%22%3A%20%22evenodd%22%2C%0A%20%20%22lineCap%22%3A%20%22round%22%2C%0A%20%20%22lineJoin%22%3A%20%22round%22%2C%0A%20%20%22opacity%22%3A%201.0%2C%0A%20%20%22radius%22%3A%205%2C%0A%20%20%22stroke%22%3A%20true%2C%0A%20%20%22weight%22%3A%203%0A%7D%0A%20%20%20%20%20%20%20%20%20%20%20%20%20%20%20%20%29%0A%20%20%20%20%20%20%20%20%20%20%20%20%20%20%20%20.addTo%28map_69226580856149209fccfbf118501555%29%3B%0A%20%20%20%20%20%20%20%20%20%20%20%20%0A%20%20%20%20%0A%20%20%20%20%20%20%20%20%20%20%20%20var%20popup_9aabe509c5a7407389f2a00cde261124%20%3D%20L.popup%28%7BmaxWidth%3A%20%27100%25%27%0A%20%20%20%20%20%20%20%20%20%20%20%20%0A%20%20%20%20%20%20%20%20%20%20%20%20%7D%29%3B%0A%0A%20%20%20%20%20%20%20%20%20%20%20%20%0A%20%20%20%20%20%20%20%20%20%20%20%20%20%20%20%20var%20html_fd59482d8e9a46018ce188356534cb2c%20%3D%20%24%28%60%3Cdiv%20id%3D%22html_fd59482d8e9a46018ce188356534cb2c%22%20style%3D%22width%3A%20100.0%25%3B%20height%3A%20100.0%25%3B%22%3E0%20%20%20%20%20Downtown%20Toronto%201%20%20%20%20%20Downtown%20Toronto%202%20%20%20%20%20Downtown%20Toronto%203%20%20%20%20%20%20%20%20%20East%20Toronto%204%20%20%20%20%20Downtown%20Toronto%205%20%20%20%20%20Downtown%20Toronto%206%20%20%20%20%20Downtown%20Toronto%207%20%20%20%20%20Downtown%20Toronto%208%20%20%20%20%20%20%20%20%20West%20Toronto%209%20%20%20%20%20%20%20%20%20East%20Toronto%2010%20%20%20%20Downtown%20Toronto%2011%20%20%20%20%20%20%20%20West%20Toronto%2012%20%20%20%20%20%20%20%20East%20Toronto%2013%20%20%20%20Downtown%20Toronto%2014%20%20%20%20%20%20%20%20West%20Toronto%2015%20%20%20%20%20%20%20%20East%20Toronto%2016%20%20%20%20Downtown%20Toronto%2017%20%20%20%20%20%20%20%20East%20Toronto%2018%20%20%20%20%20Central%20Toronto%2019%20%20%20%20%20Central%20Toronto%2020%20%20%20%20%20Central%20Toronto%2021%20%20%20%20%20Central%20Toronto%2022%20%20%20%20%20%20%20%20West%20Toronto%2023%20%20%20%20%20Central%20Toronto%2024%20%20%20%20%20Central%20Toronto%2025%20%20%20%20%20%20%20%20West%20Toronto%2026%20%20%20%20%20Central%20Toronto%2027%20%20%20%20Downtown%20Toronto%2028%20%20%20%20%20%20%20%20West%20Toronto%2029%20%20%20%20%20Central%20Toronto%2030%20%20%20%20Downtown%20Toronto%2031%20%20%20%20%20Central%20Toronto%2032%20%20%20%20Downtown%20Toronto%2033%20%20%20%20Downtown%20Toronto%2034%20%20%20%20Downtown%20Toronto%2035%20%20%20%20Downtown%20Toronto%2036%20%20%20%20Downtown%20Toronto%2037%20%20%20%20Downtown%20Toronto%2038%20%20%20%20%20%20%20%20East%20Toronto%20Name%3A%20Borough%2C%20dtype%3A%20object%20Cluster%202%3C/div%3E%60%29%5B0%5D%3B%0A%20%20%20%20%20%20%20%20%20%20%20%20%20%20%20%20popup_9aabe509c5a7407389f2a00cde261124.setContent%28html_fd59482d8e9a46018ce188356534cb2c%29%3B%0A%20%20%20%20%20%20%20%20%20%20%20%20%0A%0A%20%20%20%20%20%20%20%20%20%20%20%20circle_marker_3beeccff94504e769a647e8982d457d4.bindPopup%28popup_9aabe509c5a7407389f2a00cde261124%29%0A%20%20%20%20%20%20%20%20%20%20%20%20%3B%0A%0A%20%20%20%20%20%20%20%20%20%20%20%20%0A%20%20%20%20%20%20%20%20%0A%20%20%20%20%0A%20%20%20%20%20%20%20%20%20%20%20%20var%20circle_marker_8b67a0e1988e4158b1bf61ab706d3a49%20%3D%20L.circleMarker%28%0A%20%20%20%20%20%20%20%20%20%20%20%20%20%20%20%20%5B43.685347%2C%20-79.3381065%5D%2C%0A%20%20%20%20%20%20%20%20%20%20%20%20%20%20%20%20%7B%0A%20%20%22bubblingMouseEvents%22%3A%20true%2C%0A%20%20%22color%22%3A%20%22%23d4dd80%22%2C%0A%20%20%22dashArray%22%3A%20null%2C%0A%20%20%22dashOffset%22%3A%20null%2C%0A%20%20%22fill%22%3A%20true%2C%0A%20%20%22fillColor%22%3A%20%22%23d4dd80%22%2C%0A%20%20%22fillOpacity%22%3A%200.7%2C%0A%20%20%22fillRule%22%3A%20%22evenodd%22%2C%0A%20%20%22lineCap%22%3A%20%22round%22%2C%0A%20%20%22lineJoin%22%3A%20%22round%22%2C%0A%20%20%22opacity%22%3A%201.0%2C%0A%20%20%22radius%22%3A%205%2C%0A%20%20%22stroke%22%3A%20true%2C%0A%20%20%22weight%22%3A%203%0A%7D%0A%20%20%20%20%20%20%20%20%20%20%20%20%20%20%20%20%29%0A%20%20%20%20%20%20%20%20%20%20%20%20%20%20%20%20.addTo%28map_69226580856149209fccfbf118501555%29%3B%0A%20%20%20%20%20%20%20%20%20%20%20%20%0A%20%20%20%20%0A%20%20%20%20%20%20%20%20%20%20%20%20var%20popup_34a979ef38b1463b9d81fde57149480c%20%3D%20L.popup%28%7BmaxWidth%3A%20%27100%25%27%0A%20%20%20%20%20%20%20%20%20%20%20%20%0A%20%20%20%20%20%20%20%20%20%20%20%20%7D%29%3B%0A%0A%20%20%20%20%20%20%20%20%20%20%20%20%0A%20%20%20%20%20%20%20%20%20%20%20%20%20%20%20%20var%20html_3f0d12c285d444239010ba20f827f03d%20%3D%20%24%28%60%3Cdiv%20id%3D%22html_3f0d12c285d444239010ba20f827f03d%22%20style%3D%22width%3A%20100.0%25%3B%20height%3A%20100.0%25%3B%22%3E0%20%20%20%20%20Downtown%20Toronto%201%20%20%20%20%20Downtown%20Toronto%202%20%20%20%20%20Downtown%20Toronto%203%20%20%20%20%20%20%20%20%20East%20Toronto%204%20%20%20%20%20Downtown%20Toronto%205%20%20%20%20%20Downtown%20Toronto%206%20%20%20%20%20Downtown%20Toronto%207%20%20%20%20%20Downtown%20Toronto%208%20%20%20%20%20%20%20%20%20West%20Toronto%209%20%20%20%20%20%20%20%20%20East%20Toronto%2010%20%20%20%20Downtown%20Toronto%2011%20%20%20%20%20%20%20%20West%20Toronto%2012%20%20%20%20%20%20%20%20East%20Toronto%2013%20%20%20%20Downtown%20Toronto%2014%20%20%20%20%20%20%20%20West%20Toronto%2015%20%20%20%20%20%20%20%20East%20Toronto%2016%20%20%20%20Downtown%20Toronto%2017%20%20%20%20%20%20%20%20East%20Toronto%2018%20%20%20%20%20Central%20Toronto%2019%20%20%20%20%20Central%20Toronto%2020%20%20%20%20%20Central%20Toronto%2021%20%20%20%20%20Central%20Toronto%2022%20%20%20%20%20%20%20%20West%20Toronto%2023%20%20%20%20%20Central%20Toronto%2024%20%20%20%20%20Central%20Toronto%2025%20%20%20%20%20%20%20%20West%20Toronto%2026%20%20%20%20%20Central%20Toronto%2027%20%20%20%20Downtown%20Toronto%2028%20%20%20%20%20%20%20%20West%20Toronto%2029%20%20%20%20%20Central%20Toronto%2030%20%20%20%20Downtown%20Toronto%2031%20%20%20%20%20Central%20Toronto%2032%20%20%20%20Downtown%20Toronto%2033%20%20%20%20Downtown%20Toronto%2034%20%20%20%20Downtown%20Toronto%2035%20%20%20%20Downtown%20Toronto%2036%20%20%20%20Downtown%20Toronto%2037%20%20%20%20Downtown%20Toronto%2038%20%20%20%20%20%20%20%20East%20Toronto%20Name%3A%20Borough%2C%20dtype%3A%20object%20Cluster%203%3C/div%3E%60%29%5B0%5D%3B%0A%20%20%20%20%20%20%20%20%20%20%20%20%20%20%20%20popup_34a979ef38b1463b9d81fde57149480c.setContent%28html_3f0d12c285d444239010ba20f827f03d%29%3B%0A%20%20%20%20%20%20%20%20%20%20%20%20%0A%0A%20%20%20%20%20%20%20%20%20%20%20%20circle_marker_8b67a0e1988e4158b1bf61ab706d3a49.bindPopup%28popup_34a979ef38b1463b9d81fde57149480c%29%0A%20%20%20%20%20%20%20%20%20%20%20%20%3B%0A%0A%20%20%20%20%20%20%20%20%20%20%20%20%0A%20%20%20%20%20%20%20%20%0A%20%20%20%20%0A%20%20%20%20%20%20%20%20%20%20%20%20var%20circle_marker_304ae7cd2e624525b51d1b46d0eaadd6%20%3D%20L.circleMarker%28%0A%20%20%20%20%20%20%20%20%20%20%20%20%20%20%20%20%5B43.6408157%2C%20-79.38175229999999%5D%2C%0A%20%20%20%20%20%20%20%20%20%20%20%20%20%20%20%20%7B%0A%20%20%22bubblingMouseEvents%22%3A%20true%2C%0A%20%20%22color%22%3A%20%22%23ff0000%22%2C%0A%20%20%22dashArray%22%3A%20null%2C%0A%20%20%22dashOffset%22%3A%20null%2C%0A%20%20%22fill%22%3A%20true%2C%0A%20%20%22fillColor%22%3A%20%22%23ff0000%22%2C%0A%20%20%22fillOpacity%22%3A%200.7%2C%0A%20%20%22fillRule%22%3A%20%22evenodd%22%2C%0A%20%20%22lineCap%22%3A%20%22round%22%2C%0A%20%20%22lineJoin%22%3A%20%22round%22%2C%0A%20%20%22opacity%22%3A%201.0%2C%0A%20%20%22radius%22%3A%205%2C%0A%20%20%22stroke%22%3A%20true%2C%0A%20%20%22weight%22%3A%203%0A%7D%0A%20%20%20%20%20%20%20%20%20%20%20%20%20%20%20%20%29%0A%20%20%20%20%20%20%20%20%20%20%20%20%20%20%20%20.addTo%28map_69226580856149209fccfbf118501555%29%3B%0A%20%20%20%20%20%20%20%20%20%20%20%20%0A%20%20%20%20%0A%20%20%20%20%20%20%20%20%20%20%20%20var%20popup_5807e91ab62a43d1a092d54f314913c6%20%3D%20L.popup%28%7BmaxWidth%3A%20%27100%25%27%0A%20%20%20%20%20%20%20%20%20%20%20%20%0A%20%20%20%20%20%20%20%20%20%20%20%20%7D%29%3B%0A%0A%20%20%20%20%20%20%20%20%20%20%20%20%0A%20%20%20%20%20%20%20%20%20%20%20%20%20%20%20%20var%20html_213692fa0ba146a08a191cc42f9f7bad%20%3D%20%24%28%60%3Cdiv%20id%3D%22html_213692fa0ba146a08a191cc42f9f7bad%22%20style%3D%22width%3A%20100.0%25%3B%20height%3A%20100.0%25%3B%22%3E0%20%20%20%20%20Downtown%20Toronto%201%20%20%20%20%20Downtown%20Toronto%202%20%20%20%20%20Downtown%20Toronto%203%20%20%20%20%20%20%20%20%20East%20Toronto%204%20%20%20%20%20Downtown%20Toronto%205%20%20%20%20%20Downtown%20Toronto%206%20%20%20%20%20Downtown%20Toronto%207%20%20%20%20%20Downtown%20Toronto%208%20%20%20%20%20%20%20%20%20West%20Toronto%209%20%20%20%20%20%20%20%20%20East%20Toronto%2010%20%20%20%20Downtown%20Toronto%2011%20%20%20%20%20%20%20%20West%20Toronto%2012%20%20%20%20%20%20%20%20East%20Toronto%2013%20%20%20%20Downtown%20Toronto%2014%20%20%20%20%20%20%20%20West%20Toronto%2015%20%20%20%20%20%20%20%20East%20Toronto%2016%20%20%20%20Downtown%20Toronto%2017%20%20%20%20%20%20%20%20East%20Toronto%2018%20%20%20%20%20Central%20Toronto%2019%20%20%20%20%20Central%20Toronto%2020%20%20%20%20%20Central%20Toronto%2021%20%20%20%20%20Central%20Toronto%2022%20%20%20%20%20%20%20%20West%20Toronto%2023%20%20%20%20%20Central%20Toronto%2024%20%20%20%20%20Central%20Toronto%2025%20%20%20%20%20%20%20%20West%20Toronto%2026%20%20%20%20%20Central%20Toronto%2027%20%20%20%20Downtown%20Toronto%2028%20%20%20%20%20%20%20%20West%20Toronto%2029%20%20%20%20%20Central%20Toronto%2030%20%20%20%20Downtown%20Toronto%2031%20%20%20%20%20Central%20Toronto%2032%20%20%20%20Downtown%20Toronto%2033%20%20%20%20Downtown%20Toronto%2034%20%20%20%20Downtown%20Toronto%2035%20%20%20%20Downtown%20Toronto%2036%20%20%20%20Downtown%20Toronto%2037%20%20%20%20Downtown%20Toronto%2038%20%20%20%20%20%20%20%20East%20Toronto%20Name%3A%20Borough%2C%20dtype%3A%20object%20Cluster%204%3C/div%3E%60%29%5B0%5D%3B%0A%20%20%20%20%20%20%20%20%20%20%20%20%20%20%20%20popup_5807e91ab62a43d1a092d54f314913c6.setContent%28html_213692fa0ba146a08a191cc42f9f7bad%29%3B%0A%20%20%20%20%20%20%20%20%20%20%20%20%0A%0A%20%20%20%20%20%20%20%20%20%20%20%20circle_marker_304ae7cd2e624525b51d1b46d0eaadd6.bindPopup%28popup_5807e91ab62a43d1a092d54f314913c6%29%0A%20%20%20%20%20%20%20%20%20%20%20%20%3B%0A%0A%20%20%20%20%20%20%20%20%20%20%20%20%0A%20%20%20%20%20%20%20%20%0A%20%20%20%20%0A%20%20%20%20%20%20%20%20%20%20%20%20var%20circle_marker_23556a939f0442fba4b634264edc8883%20%3D%20L.circleMarker%28%0A%20%20%20%20%20%20%20%20%20%20%20%20%20%20%20%20%5B43.647926700000006%2C%20-79.4197497%5D%2C%0A%20%20%20%20%20%20%20%20%20%20%20%20%20%20%20%20%7B%0A%20%20%22bubblingMouseEvents%22%3A%20true%2C%0A%20%20%22color%22%3A%20%22%232adddd%22%2C%0A%20%20%22dashArray%22%3A%20null%2C%0A%20%20%22dashOffset%22%3A%20null%2C%0A%20%20%22fill%22%3A%20true%2C%0A%20%20%22fillColor%22%3A%20%22%232adddd%22%2C%0A%20%20%22fillOpacity%22%3A%200.7%2C%0A%20%20%22fillRule%22%3A%20%22evenodd%22%2C%0A%20%20%22lineCap%22%3A%20%22round%22%2C%0A%20%20%22lineJoin%22%3A%20%22round%22%2C%0A%20%20%22opacity%22%3A%201.0%2C%0A%20%20%22radius%22%3A%205%2C%0A%20%20%22stroke%22%3A%20true%2C%0A%20%20%22weight%22%3A%203%0A%7D%0A%20%20%20%20%20%20%20%20%20%20%20%20%20%20%20%20%29%0A%20%20%20%20%20%20%20%20%20%20%20%20%20%20%20%20.addTo%28map_69226580856149209fccfbf118501555%29%3B%0A%20%20%20%20%20%20%20%20%20%20%20%20%0A%20%20%20%20%0A%20%20%20%20%20%20%20%20%20%20%20%20var%20popup_2b73010bbe0545388ad4fdf8a913f28b%20%3D%20L.popup%28%7BmaxWidth%3A%20%27100%25%27%0A%20%20%20%20%20%20%20%20%20%20%20%20%0A%20%20%20%20%20%20%20%20%20%20%20%20%7D%29%3B%0A%0A%20%20%20%20%20%20%20%20%20%20%20%20%0A%20%20%20%20%20%20%20%20%20%20%20%20%20%20%20%20var%20html_a6c15f7f52c94029a6cd77f9ffa65910%20%3D%20%24%28%60%3Cdiv%20id%3D%22html_a6c15f7f52c94029a6cd77f9ffa65910%22%20style%3D%22width%3A%20100.0%25%3B%20height%3A%20100.0%25%3B%22%3E0%20%20%20%20%20Downtown%20Toronto%201%20%20%20%20%20Downtown%20Toronto%202%20%20%20%20%20Downtown%20Toronto%203%20%20%20%20%20%20%20%20%20East%20Toronto%204%20%20%20%20%20Downtown%20Toronto%205%20%20%20%20%20Downtown%20Toronto%206%20%20%20%20%20Downtown%20Toronto%207%20%20%20%20%20Downtown%20Toronto%208%20%20%20%20%20%20%20%20%20West%20Toronto%209%20%20%20%20%20%20%20%20%20East%20Toronto%2010%20%20%20%20Downtown%20Toronto%2011%20%20%20%20%20%20%20%20West%20Toronto%2012%20%20%20%20%20%20%20%20East%20Toronto%2013%20%20%20%20Downtown%20Toronto%2014%20%20%20%20%20%20%20%20West%20Toronto%2015%20%20%20%20%20%20%20%20East%20Toronto%2016%20%20%20%20Downtown%20Toronto%2017%20%20%20%20%20%20%20%20East%20Toronto%2018%20%20%20%20%20Central%20Toronto%2019%20%20%20%20%20Central%20Toronto%2020%20%20%20%20%20Central%20Toronto%2021%20%20%20%20%20Central%20Toronto%2022%20%20%20%20%20%20%20%20West%20Toronto%2023%20%20%20%20%20Central%20Toronto%2024%20%20%20%20%20Central%20Toronto%2025%20%20%20%20%20%20%20%20West%20Toronto%2026%20%20%20%20%20Central%20Toronto%2027%20%20%20%20Downtown%20Toronto%2028%20%20%20%20%20%20%20%20West%20Toronto%2029%20%20%20%20%20Central%20Toronto%2030%20%20%20%20Downtown%20Toronto%2031%20%20%20%20%20Central%20Toronto%2032%20%20%20%20Downtown%20Toronto%2033%20%20%20%20Downtown%20Toronto%2034%20%20%20%20Downtown%20Toronto%2035%20%20%20%20Downtown%20Toronto%2036%20%20%20%20Downtown%20Toronto%2037%20%20%20%20Downtown%20Toronto%2038%20%20%20%20%20%20%20%20East%20Toronto%20Name%3A%20Borough%2C%20dtype%3A%20object%20Cluster%202%3C/div%3E%60%29%5B0%5D%3B%0A%20%20%20%20%20%20%20%20%20%20%20%20%20%20%20%20popup_2b73010bbe0545388ad4fdf8a913f28b.setContent%28html_a6c15f7f52c94029a6cd77f9ffa65910%29%3B%0A%20%20%20%20%20%20%20%20%20%20%20%20%0A%0A%20%20%20%20%20%20%20%20%20%20%20%20circle_marker_23556a939f0442fba4b634264edc8883.bindPopup%28popup_2b73010bbe0545388ad4fdf8a913f28b%29%0A%20%20%20%20%20%20%20%20%20%20%20%20%3B%0A%0A%20%20%20%20%20%20%20%20%20%20%20%20%0A%20%20%20%20%20%20%20%20%0A%20%20%20%20%0A%20%20%20%20%20%20%20%20%20%20%20%20var%20circle_marker_cb91c30d5b494845a7a17e993dc5b054%20%3D%20L.circleMarker%28%0A%20%20%20%20%20%20%20%20%20%20%20%20%20%20%20%20%5B43.6795571%2C%20-79.352188%5D%2C%0A%20%20%20%20%20%20%20%20%20%20%20%20%20%20%20%20%7B%0A%20%20%22bubblingMouseEvents%22%3A%20true%2C%0A%20%20%22color%22%3A%20%22%23d4dd80%22%2C%0A%20%20%22dashArray%22%3A%20null%2C%0A%20%20%22dashOffset%22%3A%20null%2C%0A%20%20%22fill%22%3A%20true%2C%0A%20%20%22fillColor%22%3A%20%22%23d4dd80%22%2C%0A%20%20%22fillOpacity%22%3A%200.7%2C%0A%20%20%22fillRule%22%3A%20%22evenodd%22%2C%0A%20%20%22lineCap%22%3A%20%22round%22%2C%0A%20%20%22lineJoin%22%3A%20%22round%22%2C%0A%20%20%22opacity%22%3A%201.0%2C%0A%20%20%22radius%22%3A%205%2C%0A%20%20%22stroke%22%3A%20true%2C%0A%20%20%22weight%22%3A%203%0A%7D%0A%20%20%20%20%20%20%20%20%20%20%20%20%20%20%20%20%29%0A%20%20%20%20%20%20%20%20%20%20%20%20%20%20%20%20.addTo%28map_69226580856149209fccfbf118501555%29%3B%0A%20%20%20%20%20%20%20%20%20%20%20%20%0A%20%20%20%20%0A%20%20%20%20%20%20%20%20%20%20%20%20var%20popup_7c5dfbd851ed47e3bf705bd19266c8fa%20%3D%20L.popup%28%7BmaxWidth%3A%20%27100%25%27%0A%20%20%20%20%20%20%20%20%20%20%20%20%0A%20%20%20%20%20%20%20%20%20%20%20%20%7D%29%3B%0A%0A%20%20%20%20%20%20%20%20%20%20%20%20%0A%20%20%20%20%20%20%20%20%20%20%20%20%20%20%20%20var%20html_32a4f59cbd0046298b16a9e1d298e190%20%3D%20%24%28%60%3Cdiv%20id%3D%22html_32a4f59cbd0046298b16a9e1d298e190%22%20style%3D%22width%3A%20100.0%25%3B%20height%3A%20100.0%25%3B%22%3E0%20%20%20%20%20Downtown%20Toronto%201%20%20%20%20%20Downtown%20Toronto%202%20%20%20%20%20Downtown%20Toronto%203%20%20%20%20%20%20%20%20%20East%20Toronto%204%20%20%20%20%20Downtown%20Toronto%205%20%20%20%20%20Downtown%20Toronto%206%20%20%20%20%20Downtown%20Toronto%207%20%20%20%20%20Downtown%20Toronto%208%20%20%20%20%20%20%20%20%20West%20Toronto%209%20%20%20%20%20%20%20%20%20East%20Toronto%2010%20%20%20%20Downtown%20Toronto%2011%20%20%20%20%20%20%20%20West%20Toronto%2012%20%20%20%20%20%20%20%20East%20Toronto%2013%20%20%20%20Downtown%20Toronto%2014%20%20%20%20%20%20%20%20West%20Toronto%2015%20%20%20%20%20%20%20%20East%20Toronto%2016%20%20%20%20Downtown%20Toronto%2017%20%20%20%20%20%20%20%20East%20Toronto%2018%20%20%20%20%20Central%20Toronto%2019%20%20%20%20%20Central%20Toronto%2020%20%20%20%20%20Central%20Toronto%2021%20%20%20%20%20Central%20Toronto%2022%20%20%20%20%20%20%20%20West%20Toronto%2023%20%20%20%20%20Central%20Toronto%2024%20%20%20%20%20Central%20Toronto%2025%20%20%20%20%20%20%20%20West%20Toronto%2026%20%20%20%20%20Central%20Toronto%2027%20%20%20%20Downtown%20Toronto%2028%20%20%20%20%20%20%20%20West%20Toronto%2029%20%20%20%20%20Central%20Toronto%2030%20%20%20%20Downtown%20Toronto%2031%20%20%20%20%20Central%20Toronto%2032%20%20%20%20Downtown%20Toronto%2033%20%20%20%20Downtown%20Toronto%2034%20%20%20%20Downtown%20Toronto%2035%20%20%20%20Downtown%20Toronto%2036%20%20%20%20Downtown%20Toronto%2037%20%20%20%20Downtown%20Toronto%2038%20%20%20%20%20%20%20%20East%20Toronto%20Name%3A%20Borough%2C%20dtype%3A%20object%20Cluster%203%3C/div%3E%60%29%5B0%5D%3B%0A%20%20%20%20%20%20%20%20%20%20%20%20%20%20%20%20popup_7c5dfbd851ed47e3bf705bd19266c8fa.setContent%28html_32a4f59cbd0046298b16a9e1d298e190%29%3B%0A%20%20%20%20%20%20%20%20%20%20%20%20%0A%0A%20%20%20%20%20%20%20%20%20%20%20%20circle_marker_cb91c30d5b494845a7a17e993dc5b054.bindPopup%28popup_7c5dfbd851ed47e3bf705bd19266c8fa%29%0A%20%20%20%20%20%20%20%20%20%20%20%20%3B%0A%0A%20%20%20%20%20%20%20%20%20%20%20%20%0A%20%20%20%20%20%20%20%20%0A%20%20%20%20%0A%20%20%20%20%20%20%20%20%20%20%20%20var%20circle_marker_3e2811eae3844d7a9c91e176bb7a0f27%20%3D%20L.circleMarker%28%0A%20%20%20%20%20%20%20%20%20%20%20%20%20%20%20%20%5B43.6471768%2C%20-79.38157640000001%5D%2C%0A%20%20%20%20%20%20%20%20%20%20%20%20%20%20%20%20%7B%0A%20%20%22bubblingMouseEvents%22%3A%20true%2C%0A%20%20%22color%22%3A%20%22%23ff0000%22%2C%0A%20%20%22dashArray%22%3A%20null%2C%0A%20%20%22dashOffset%22%3A%20null%2C%0A%20%20%22fill%22%3A%20true%2C%0A%20%20%22fillColor%22%3A%20%22%23ff0000%22%2C%0A%20%20%22fillOpacity%22%3A%200.7%2C%0A%20%20%22fillRule%22%3A%20%22evenodd%22%2C%0A%20%20%22lineCap%22%3A%20%22round%22%2C%0A%20%20%22lineJoin%22%3A%20%22round%22%2C%0A%20%20%22opacity%22%3A%201.0%2C%0A%20%20%22radius%22%3A%205%2C%0A%20%20%22stroke%22%3A%20true%2C%0A%20%20%22weight%22%3A%203%0A%7D%0A%20%20%20%20%20%20%20%20%20%20%20%20%20%20%20%20%29%0A%20%20%20%20%20%20%20%20%20%20%20%20%20%20%20%20.addTo%28map_69226580856149209fccfbf118501555%29%3B%0A%20%20%20%20%20%20%20%20%20%20%20%20%0A%20%20%20%20%0A%20%20%20%20%20%20%20%20%20%20%20%20var%20popup_c98fd5677cfa4771b0572a3d2ae936ae%20%3D%20L.popup%28%7BmaxWidth%3A%20%27100%25%27%0A%20%20%20%20%20%20%20%20%20%20%20%20%0A%20%20%20%20%20%20%20%20%20%20%20%20%7D%29%3B%0A%0A%20%20%20%20%20%20%20%20%20%20%20%20%0A%20%20%20%20%20%20%20%20%20%20%20%20%20%20%20%20var%20html_a05231b244e24972ae26a5627e218dec%20%3D%20%24%28%60%3Cdiv%20id%3D%22html_a05231b244e24972ae26a5627e218dec%22%20style%3D%22width%3A%20100.0%25%3B%20height%3A%20100.0%25%3B%22%3E0%20%20%20%20%20Downtown%20Toronto%201%20%20%20%20%20Downtown%20Toronto%202%20%20%20%20%20Downtown%20Toronto%203%20%20%20%20%20%20%20%20%20East%20Toronto%204%20%20%20%20%20Downtown%20Toronto%205%20%20%20%20%20Downtown%20Toronto%206%20%20%20%20%20Downtown%20Toronto%207%20%20%20%20%20Downtown%20Toronto%208%20%20%20%20%20%20%20%20%20West%20Toronto%209%20%20%20%20%20%20%20%20%20East%20Toronto%2010%20%20%20%20Downtown%20Toronto%2011%20%20%20%20%20%20%20%20West%20Toronto%2012%20%20%20%20%20%20%20%20East%20Toronto%2013%20%20%20%20Downtown%20Toronto%2014%20%20%20%20%20%20%20%20West%20Toronto%2015%20%20%20%20%20%20%20%20East%20Toronto%2016%20%20%20%20Downtown%20Toronto%2017%20%20%20%20%20%20%20%20East%20Toronto%2018%20%20%20%20%20Central%20Toronto%2019%20%20%20%20%20Central%20Toronto%2020%20%20%20%20%20Central%20Toronto%2021%20%20%20%20%20Central%20Toronto%2022%20%20%20%20%20%20%20%20West%20Toronto%2023%20%20%20%20%20Central%20Toronto%2024%20%20%20%20%20Central%20Toronto%2025%20%20%20%20%20%20%20%20West%20Toronto%2026%20%20%20%20%20Central%20Toronto%2027%20%20%20%20Downtown%20Toronto%2028%20%20%20%20%20%20%20%20West%20Toronto%2029%20%20%20%20%20Central%20Toronto%2030%20%20%20%20Downtown%20Toronto%2031%20%20%20%20%20Central%20Toronto%2032%20%20%20%20Downtown%20Toronto%2033%20%20%20%20Downtown%20Toronto%2034%20%20%20%20Downtown%20Toronto%2035%20%20%20%20Downtown%20Toronto%2036%20%20%20%20Downtown%20Toronto%2037%20%20%20%20Downtown%20Toronto%2038%20%20%20%20%20%20%20%20East%20Toronto%20Name%3A%20Borough%2C%20dtype%3A%20object%20Cluster%204%3C/div%3E%60%29%5B0%5D%3B%0A%20%20%20%20%20%20%20%20%20%20%20%20%20%20%20%20popup_c98fd5677cfa4771b0572a3d2ae936ae.setContent%28html_a05231b244e24972ae26a5627e218dec%29%3B%0A%20%20%20%20%20%20%20%20%20%20%20%20%0A%0A%20%20%20%20%20%20%20%20%20%20%20%20circle_marker_3e2811eae3844d7a9c91e176bb7a0f27.bindPopup%28popup_c98fd5677cfa4771b0572a3d2ae936ae%29%0A%20%20%20%20%20%20%20%20%20%20%20%20%3B%0A%0A%20%20%20%20%20%20%20%20%20%20%20%20%0A%20%20%20%20%20%20%20%20%0A%20%20%20%20%0A%20%20%20%20%20%20%20%20%20%20%20%20var%20circle_marker_19fe526455d44c6da37cccd84bae99a1%20%3D%20L.circleMarker%28%0A%20%20%20%20%20%20%20%20%20%20%20%20%20%20%20%20%5B43.6368472%2C%20-79.42819140000002%5D%2C%0A%20%20%20%20%20%20%20%20%20%20%20%20%20%20%20%20%7B%0A%20%20%22bubblingMouseEvents%22%3A%20true%2C%0A%20%20%22color%22%3A%20%22%232adddd%22%2C%0A%20%20%22dashArray%22%3A%20null%2C%0A%20%20%22dashOffset%22%3A%20null%2C%0A%20%20%22fill%22%3A%20true%2C%0A%20%20%22fillColor%22%3A%20%22%232adddd%22%2C%0A%20%20%22fillOpacity%22%3A%200.7%2C%0A%20%20%22fillRule%22%3A%20%22evenodd%22%2C%0A%20%20%22lineCap%22%3A%20%22round%22%2C%0A%20%20%22lineJoin%22%3A%20%22round%22%2C%0A%20%20%22opacity%22%3A%201.0%2C%0A%20%20%22radius%22%3A%205%2C%0A%20%20%22stroke%22%3A%20true%2C%0A%20%20%22weight%22%3A%203%0A%7D%0A%20%20%20%20%20%20%20%20%20%20%20%20%20%20%20%20%29%0A%20%20%20%20%20%20%20%20%20%20%20%20%20%20%20%20.addTo%28map_69226580856149209fccfbf118501555%29%3B%0A%20%20%20%20%20%20%20%20%20%20%20%20%0A%20%20%20%20%0A%20%20%20%20%20%20%20%20%20%20%20%20var%20popup_e0327a90f9064b5997eea57b1c30752b%20%3D%20L.popup%28%7BmaxWidth%3A%20%27100%25%27%0A%20%20%20%20%20%20%20%20%20%20%20%20%0A%20%20%20%20%20%20%20%20%20%20%20%20%7D%29%3B%0A%0A%20%20%20%20%20%20%20%20%20%20%20%20%0A%20%20%20%20%20%20%20%20%20%20%20%20%20%20%20%20var%20html_826442e431f5469ebe847f5c9138dca1%20%3D%20%24%28%60%3Cdiv%20id%3D%22html_826442e431f5469ebe847f5c9138dca1%22%20style%3D%22width%3A%20100.0%25%3B%20height%3A%20100.0%25%3B%22%3E0%20%20%20%20%20Downtown%20Toronto%201%20%20%20%20%20Downtown%20Toronto%202%20%20%20%20%20Downtown%20Toronto%203%20%20%20%20%20%20%20%20%20East%20Toronto%204%20%20%20%20%20Downtown%20Toronto%205%20%20%20%20%20Downtown%20Toronto%206%20%20%20%20%20Downtown%20Toronto%207%20%20%20%20%20Downtown%20Toronto%208%20%20%20%20%20%20%20%20%20West%20Toronto%209%20%20%20%20%20%20%20%20%20East%20Toronto%2010%20%20%20%20Downtown%20Toronto%2011%20%20%20%20%20%20%20%20West%20Toronto%2012%20%20%20%20%20%20%20%20East%20Toronto%2013%20%20%20%20Downtown%20Toronto%2014%20%20%20%20%20%20%20%20West%20Toronto%2015%20%20%20%20%20%20%20%20East%20Toronto%2016%20%20%20%20Downtown%20Toronto%2017%20%20%20%20%20%20%20%20East%20Toronto%2018%20%20%20%20%20Central%20Toronto%2019%20%20%20%20%20Central%20Toronto%2020%20%20%20%20%20Central%20Toronto%2021%20%20%20%20%20Central%20Toronto%2022%20%20%20%20%20%20%20%20West%20Toronto%2023%20%20%20%20%20Central%20Toronto%2024%20%20%20%20%20Central%20Toronto%2025%20%20%20%20%20%20%20%20West%20Toronto%2026%20%20%20%20%20Central%20Toronto%2027%20%20%20%20Downtown%20Toronto%2028%20%20%20%20%20%20%20%20West%20Toronto%2029%20%20%20%20%20Central%20Toronto%2030%20%20%20%20Downtown%20Toronto%2031%20%20%20%20%20Central%20Toronto%2032%20%20%20%20Downtown%20Toronto%2033%20%20%20%20Downtown%20Toronto%2034%20%20%20%20Downtown%20Toronto%2035%20%20%20%20Downtown%20Toronto%2036%20%20%20%20Downtown%20Toronto%2037%20%20%20%20Downtown%20Toronto%2038%20%20%20%20%20%20%20%20East%20Toronto%20Name%3A%20Borough%2C%20dtype%3A%20object%20Cluster%202%3C/div%3E%60%29%5B0%5D%3B%0A%20%20%20%20%20%20%20%20%20%20%20%20%20%20%20%20popup_e0327a90f9064b5997eea57b1c30752b.setContent%28html_826442e431f5469ebe847f5c9138dca1%29%3B%0A%20%20%20%20%20%20%20%20%20%20%20%20%0A%0A%20%20%20%20%20%20%20%20%20%20%20%20circle_marker_19fe526455d44c6da37cccd84bae99a1.bindPopup%28popup_e0327a90f9064b5997eea57b1c30752b%29%0A%20%20%20%20%20%20%20%20%20%20%20%20%3B%0A%0A%20%20%20%20%20%20%20%20%20%20%20%20%0A%20%20%20%20%20%20%20%20%0A%20%20%20%20%0A%20%20%20%20%20%20%20%20%20%20%20%20var%20circle_marker_b19de84c91914f1bba126c2cbfb88679%20%3D%20L.circleMarker%28%0A%20%20%20%20%20%20%20%20%20%20%20%20%20%20%20%20%5B43.6689985%2C%20-79.31557159999998%5D%2C%0A%20%20%20%20%20%20%20%20%20%20%20%20%20%20%20%20%7B%0A%20%20%22bubblingMouseEvents%22%3A%20true%2C%0A%20%20%22color%22%3A%20%22%23d4dd80%22%2C%0A%20%20%22dashArray%22%3A%20null%2C%0A%20%20%22dashOffset%22%3A%20null%2C%0A%20%20%22fill%22%3A%20true%2C%0A%20%20%22fillColor%22%3A%20%22%23d4dd80%22%2C%0A%20%20%22fillOpacity%22%3A%200.7%2C%0A%20%20%22fillRule%22%3A%20%22evenodd%22%2C%0A%20%20%22lineCap%22%3A%20%22round%22%2C%0A%20%20%22lineJoin%22%3A%20%22round%22%2C%0A%20%20%22opacity%22%3A%201.0%2C%0A%20%20%22radius%22%3A%205%2C%0A%20%20%22stroke%22%3A%20true%2C%0A%20%20%22weight%22%3A%203%0A%7D%0A%20%20%20%20%20%20%20%20%20%20%20%20%20%20%20%20%29%0A%20%20%20%20%20%20%20%20%20%20%20%20%20%20%20%20.addTo%28map_69226580856149209fccfbf118501555%29%3B%0A%20%20%20%20%20%20%20%20%20%20%20%20%0A%20%20%20%20%0A%20%20%20%20%20%20%20%20%20%20%20%20var%20popup_a90bfc9f5b11406bbcfac312c359a1d0%20%3D%20L.popup%28%7BmaxWidth%3A%20%27100%25%27%0A%20%20%20%20%20%20%20%20%20%20%20%20%0A%20%20%20%20%20%20%20%20%20%20%20%20%7D%29%3B%0A%0A%20%20%20%20%20%20%20%20%20%20%20%20%0A%20%20%20%20%20%20%20%20%20%20%20%20%20%20%20%20var%20html_ace23d88950a4d66b1e0874639081a92%20%3D%20%24%28%60%3Cdiv%20id%3D%22html_ace23d88950a4d66b1e0874639081a92%22%20style%3D%22width%3A%20100.0%25%3B%20height%3A%20100.0%25%3B%22%3E0%20%20%20%20%20Downtown%20Toronto%201%20%20%20%20%20Downtown%20Toronto%202%20%20%20%20%20Downtown%20Toronto%203%20%20%20%20%20%20%20%20%20East%20Toronto%204%20%20%20%20%20Downtown%20Toronto%205%20%20%20%20%20Downtown%20Toronto%206%20%20%20%20%20Downtown%20Toronto%207%20%20%20%20%20Downtown%20Toronto%208%20%20%20%20%20%20%20%20%20West%20Toronto%209%20%20%20%20%20%20%20%20%20East%20Toronto%2010%20%20%20%20Downtown%20Toronto%2011%20%20%20%20%20%20%20%20West%20Toronto%2012%20%20%20%20%20%20%20%20East%20Toronto%2013%20%20%20%20Downtown%20Toronto%2014%20%20%20%20%20%20%20%20West%20Toronto%2015%20%20%20%20%20%20%20%20East%20Toronto%2016%20%20%20%20Downtown%20Toronto%2017%20%20%20%20%20%20%20%20East%20Toronto%2018%20%20%20%20%20Central%20Toronto%2019%20%20%20%20%20Central%20Toronto%2020%20%20%20%20%20Central%20Toronto%2021%20%20%20%20%20Central%20Toronto%2022%20%20%20%20%20%20%20%20West%20Toronto%2023%20%20%20%20%20Central%20Toronto%2024%20%20%20%20%20Central%20Toronto%2025%20%20%20%20%20%20%20%20West%20Toronto%2026%20%20%20%20%20Central%20Toronto%2027%20%20%20%20Downtown%20Toronto%2028%20%20%20%20%20%20%20%20West%20Toronto%2029%20%20%20%20%20Central%20Toronto%2030%20%20%20%20Downtown%20Toronto%2031%20%20%20%20%20Central%20Toronto%2032%20%20%20%20Downtown%20Toronto%2033%20%20%20%20Downtown%20Toronto%2034%20%20%20%20Downtown%20Toronto%2035%20%20%20%20Downtown%20Toronto%2036%20%20%20%20Downtown%20Toronto%2037%20%20%20%20Downtown%20Toronto%2038%20%20%20%20%20%20%20%20East%20Toronto%20Name%3A%20Borough%2C%20dtype%3A%20object%20Cluster%203%3C/div%3E%60%29%5B0%5D%3B%0A%20%20%20%20%20%20%20%20%20%20%20%20%20%20%20%20popup_a90bfc9f5b11406bbcfac312c359a1d0.setContent%28html_ace23d88950a4d66b1e0874639081a92%29%3B%0A%20%20%20%20%20%20%20%20%20%20%20%20%0A%0A%20%20%20%20%20%20%20%20%20%20%20%20circle_marker_b19de84c91914f1bba126c2cbfb88679.bindPopup%28popup_a90bfc9f5b11406bbcfac312c359a1d0%29%0A%20%20%20%20%20%20%20%20%20%20%20%20%3B%0A%0A%20%20%20%20%20%20%20%20%20%20%20%20%0A%20%20%20%20%20%20%20%20%0A%20%20%20%20%0A%20%20%20%20%20%20%20%20%20%20%20%20var%20circle_marker_1b5d6cf4393549d9a4227e9129f354ea%20%3D%20L.circleMarker%28%0A%20%20%20%20%20%20%20%20%20%20%20%20%20%20%20%20%5B43.6481985%2C%20-79.37981690000001%5D%2C%0A%20%20%20%20%20%20%20%20%20%20%20%20%20%20%20%20%7B%0A%20%20%22bubblingMouseEvents%22%3A%20true%2C%0A%20%20%22color%22%3A%20%22%23ff0000%22%2C%0A%20%20%22dashArray%22%3A%20null%2C%0A%20%20%22dashOffset%22%3A%20null%2C%0A%20%20%22fill%22%3A%20true%2C%0A%20%20%22fillColor%22%3A%20%22%23ff0000%22%2C%0A%20%20%22fillOpacity%22%3A%200.7%2C%0A%20%20%22fillRule%22%3A%20%22evenodd%22%2C%0A%20%20%22lineCap%22%3A%20%22round%22%2C%0A%20%20%22lineJoin%22%3A%20%22round%22%2C%0A%20%20%22opacity%22%3A%201.0%2C%0A%20%20%22radius%22%3A%205%2C%0A%20%20%22stroke%22%3A%20true%2C%0A%20%20%22weight%22%3A%203%0A%7D%0A%20%20%20%20%20%20%20%20%20%20%20%20%20%20%20%20%29%0A%20%20%20%20%20%20%20%20%20%20%20%20%20%20%20%20.addTo%28map_69226580856149209fccfbf118501555%29%3B%0A%20%20%20%20%20%20%20%20%20%20%20%20%0A%20%20%20%20%0A%20%20%20%20%20%20%20%20%20%20%20%20var%20popup_815ef846565d4986b53d85d7c7d94980%20%3D%20L.popup%28%7BmaxWidth%3A%20%27100%25%27%0A%20%20%20%20%20%20%20%20%20%20%20%20%0A%20%20%20%20%20%20%20%20%20%20%20%20%7D%29%3B%0A%0A%20%20%20%20%20%20%20%20%20%20%20%20%0A%20%20%20%20%20%20%20%20%20%20%20%20%20%20%20%20var%20html_5f920ff2c0034ebfa78f31f04f60c17c%20%3D%20%24%28%60%3Cdiv%20id%3D%22html_5f920ff2c0034ebfa78f31f04f60c17c%22%20style%3D%22width%3A%20100.0%25%3B%20height%3A%20100.0%25%3B%22%3E0%20%20%20%20%20Downtown%20Toronto%201%20%20%20%20%20Downtown%20Toronto%202%20%20%20%20%20Downtown%20Toronto%203%20%20%20%20%20%20%20%20%20East%20Toronto%204%20%20%20%20%20Downtown%20Toronto%205%20%20%20%20%20Downtown%20Toronto%206%20%20%20%20%20Downtown%20Toronto%207%20%20%20%20%20Downtown%20Toronto%208%20%20%20%20%20%20%20%20%20West%20Toronto%209%20%20%20%20%20%20%20%20%20East%20Toronto%2010%20%20%20%20Downtown%20Toronto%2011%20%20%20%20%20%20%20%20West%20Toronto%2012%20%20%20%20%20%20%20%20East%20Toronto%2013%20%20%20%20Downtown%20Toronto%2014%20%20%20%20%20%20%20%20West%20Toronto%2015%20%20%20%20%20%20%20%20East%20Toronto%2016%20%20%20%20Downtown%20Toronto%2017%20%20%20%20%20%20%20%20East%20Toronto%2018%20%20%20%20%20Central%20Toronto%2019%20%20%20%20%20Central%20Toronto%2020%20%20%20%20%20Central%20Toronto%2021%20%20%20%20%20Central%20Toronto%2022%20%20%20%20%20%20%20%20West%20Toronto%2023%20%20%20%20%20Central%20Toronto%2024%20%20%20%20%20Central%20Toronto%2025%20%20%20%20%20%20%20%20West%20Toronto%2026%20%20%20%20%20Central%20Toronto%2027%20%20%20%20Downtown%20Toronto%2028%20%20%20%20%20%20%20%20West%20Toronto%2029%20%20%20%20%20Central%20Toronto%2030%20%20%20%20Downtown%20Toronto%2031%20%20%20%20%20Central%20Toronto%2032%20%20%20%20Downtown%20Toronto%2033%20%20%20%20Downtown%20Toronto%2034%20%20%20%20Downtown%20Toronto%2035%20%20%20%20Downtown%20Toronto%2036%20%20%20%20Downtown%20Toronto%2037%20%20%20%20Downtown%20Toronto%2038%20%20%20%20%20%20%20%20East%20Toronto%20Name%3A%20Borough%2C%20dtype%3A%20object%20Cluster%204%3C/div%3E%60%29%5B0%5D%3B%0A%20%20%20%20%20%20%20%20%20%20%20%20%20%20%20%20popup_815ef846565d4986b53d85d7c7d94980.setContent%28html_5f920ff2c0034ebfa78f31f04f60c17c%29%3B%0A%20%20%20%20%20%20%20%20%20%20%20%20%0A%0A%20%20%20%20%20%20%20%20%20%20%20%20circle_marker_1b5d6cf4393549d9a4227e9129f354ea.bindPopup%28popup_815ef846565d4986b53d85d7c7d94980%29%0A%20%20%20%20%20%20%20%20%20%20%20%20%3B%0A%0A%20%20%20%20%20%20%20%20%20%20%20%20%0A%20%20%20%20%20%20%20%20%0A%20%20%20%20%0A%20%20%20%20%20%20%20%20%20%20%20%20var%20circle_marker_9b428fabd9db475aa9acb31ceccee589%20%3D%20L.circleMarker%28%0A%20%20%20%20%20%20%20%20%20%20%20%20%20%20%20%20%5B43.6595255%2C%20-79.340923%5D%2C%0A%20%20%20%20%20%20%20%20%20%20%20%20%20%20%20%20%7B%0A%20%20%22bubblingMouseEvents%22%3A%20true%2C%0A%20%20%22color%22%3A%20%22%23d4dd80%22%2C%0A%20%20%22dashArray%22%3A%20null%2C%0A%20%20%22dashOffset%22%3A%20null%2C%0A%20%20%22fill%22%3A%20true%2C%0A%20%20%22fillColor%22%3A%20%22%23d4dd80%22%2C%0A%20%20%22fillOpacity%22%3A%200.7%2C%0A%20%20%22fillRule%22%3A%20%22evenodd%22%2C%0A%20%20%22lineCap%22%3A%20%22round%22%2C%0A%20%20%22lineJoin%22%3A%20%22round%22%2C%0A%20%20%22opacity%22%3A%201.0%2C%0A%20%20%22radius%22%3A%205%2C%0A%20%20%22stroke%22%3A%20true%2C%0A%20%20%22weight%22%3A%203%0A%7D%0A%20%20%20%20%20%20%20%20%20%20%20%20%20%20%20%20%29%0A%20%20%20%20%20%20%20%20%20%20%20%20%20%20%20%20.addTo%28map_69226580856149209fccfbf118501555%29%3B%0A%20%20%20%20%20%20%20%20%20%20%20%20%0A%20%20%20%20%0A%20%20%20%20%20%20%20%20%20%20%20%20var%20popup_e23d1a75da21498cb01ee085b307cbb6%20%3D%20L.popup%28%7BmaxWidth%3A%20%27100%25%27%0A%20%20%20%20%20%20%20%20%20%20%20%20%0A%20%20%20%20%20%20%20%20%20%20%20%20%7D%29%3B%0A%0A%20%20%20%20%20%20%20%20%20%20%20%20%0A%20%20%20%20%20%20%20%20%20%20%20%20%20%20%20%20var%20html_7233c4c7232f403385efc40ee4d67106%20%3D%20%24%28%60%3Cdiv%20id%3D%22html_7233c4c7232f403385efc40ee4d67106%22%20style%3D%22width%3A%20100.0%25%3B%20height%3A%20100.0%25%3B%22%3E0%20%20%20%20%20Downtown%20Toronto%201%20%20%20%20%20Downtown%20Toronto%202%20%20%20%20%20Downtown%20Toronto%203%20%20%20%20%20%20%20%20%20East%20Toronto%204%20%20%20%20%20Downtown%20Toronto%205%20%20%20%20%20Downtown%20Toronto%206%20%20%20%20%20Downtown%20Toronto%207%20%20%20%20%20Downtown%20Toronto%208%20%20%20%20%20%20%20%20%20West%20Toronto%209%20%20%20%20%20%20%20%20%20East%20Toronto%2010%20%20%20%20Downtown%20Toronto%2011%20%20%20%20%20%20%20%20West%20Toronto%2012%20%20%20%20%20%20%20%20East%20Toronto%2013%20%20%20%20Downtown%20Toronto%2014%20%20%20%20%20%20%20%20West%20Toronto%2015%20%20%20%20%20%20%20%20East%20Toronto%2016%20%20%20%20Downtown%20Toronto%2017%20%20%20%20%20%20%20%20East%20Toronto%2018%20%20%20%20%20Central%20Toronto%2019%20%20%20%20%20Central%20Toronto%2020%20%20%20%20%20Central%20Toronto%2021%20%20%20%20%20Central%20Toronto%2022%20%20%20%20%20%20%20%20West%20Toronto%2023%20%20%20%20%20Central%20Toronto%2024%20%20%20%20%20Central%20Toronto%2025%20%20%20%20%20%20%20%20West%20Toronto%2026%20%20%20%20%20Central%20Toronto%2027%20%20%20%20Downtown%20Toronto%2028%20%20%20%20%20%20%20%20West%20Toronto%2029%20%20%20%20%20Central%20Toronto%2030%20%20%20%20Downtown%20Toronto%2031%20%20%20%20%20Central%20Toronto%2032%20%20%20%20Downtown%20Toronto%2033%20%20%20%20Downtown%20Toronto%2034%20%20%20%20Downtown%20Toronto%2035%20%20%20%20Downtown%20Toronto%2036%20%20%20%20Downtown%20Toronto%2037%20%20%20%20Downtown%20Toronto%2038%20%20%20%20%20%20%20%20East%20Toronto%20Name%3A%20Borough%2C%20dtype%3A%20object%20Cluster%203%3C/div%3E%60%29%5B0%5D%3B%0A%20%20%20%20%20%20%20%20%20%20%20%20%20%20%20%20popup_e23d1a75da21498cb01ee085b307cbb6.setContent%28html_7233c4c7232f403385efc40ee4d67106%29%3B%0A%20%20%20%20%20%20%20%20%20%20%20%20%0A%0A%20%20%20%20%20%20%20%20%20%20%20%20circle_marker_9b428fabd9db475aa9acb31ceccee589.bindPopup%28popup_e23d1a75da21498cb01ee085b307cbb6%29%0A%20%20%20%20%20%20%20%20%20%20%20%20%3B%0A%0A%20%20%20%20%20%20%20%20%20%20%20%20%0A%20%20%20%20%20%20%20%20%0A%20%20%20%20%0A%20%20%20%20%20%20%20%20%20%20%20%20var%20circle_marker_ec7680baf23f41139aae01ee12320e36%20%3D%20L.circleMarker%28%0A%20%20%20%20%20%20%20%20%20%20%20%20%20%20%20%20%5B43.7280205%2C%20-79.3887901%5D%2C%0A%20%20%20%20%20%20%20%20%20%20%20%20%20%20%20%20%7B%0A%20%20%22bubblingMouseEvents%22%3A%20true%2C%0A%20%20%22color%22%3A%20%22%238000ff%22%2C%0A%20%20%22dashArray%22%3A%20null%2C%0A%20%20%22dashOffset%22%3A%20null%2C%0A%20%20%22fill%22%3A%20true%2C%0A%20%20%22fillColor%22%3A%20%22%238000ff%22%2C%0A%20%20%22fillOpacity%22%3A%200.7%2C%0A%20%20%22fillRule%22%3A%20%22evenodd%22%2C%0A%20%20%22lineCap%22%3A%20%22round%22%2C%0A%20%20%22lineJoin%22%3A%20%22round%22%2C%0A%20%20%22opacity%22%3A%201.0%2C%0A%20%20%22radius%22%3A%205%2C%0A%20%20%22stroke%22%3A%20true%2C%0A%20%20%22weight%22%3A%203%0A%7D%0A%20%20%20%20%20%20%20%20%20%20%20%20%20%20%20%20%29%0A%20%20%20%20%20%20%20%20%20%20%20%20%20%20%20%20.addTo%28map_69226580856149209fccfbf118501555%29%3B%0A%20%20%20%20%20%20%20%20%20%20%20%20%0A%20%20%20%20%0A%20%20%20%20%20%20%20%20%20%20%20%20var%20popup_cf9ae37a629149a981a3a2b9bf69ec8b%20%3D%20L.popup%28%7BmaxWidth%3A%20%27100%25%27%0A%20%20%20%20%20%20%20%20%20%20%20%20%0A%20%20%20%20%20%20%20%20%20%20%20%20%7D%29%3B%0A%0A%20%20%20%20%20%20%20%20%20%20%20%20%0A%20%20%20%20%20%20%20%20%20%20%20%20%20%20%20%20var%20html_0d06239d10bd4cc185b66204bf580f26%20%3D%20%24%28%60%3Cdiv%20id%3D%22html_0d06239d10bd4cc185b66204bf580f26%22%20style%3D%22width%3A%20100.0%25%3B%20height%3A%20100.0%25%3B%22%3E0%20%20%20%20%20Downtown%20Toronto%201%20%20%20%20%20Downtown%20Toronto%202%20%20%20%20%20Downtown%20Toronto%203%20%20%20%20%20%20%20%20%20East%20Toronto%204%20%20%20%20%20Downtown%20Toronto%205%20%20%20%20%20Downtown%20Toronto%206%20%20%20%20%20Downtown%20Toronto%207%20%20%20%20%20Downtown%20Toronto%208%20%20%20%20%20%20%20%20%20West%20Toronto%209%20%20%20%20%20%20%20%20%20East%20Toronto%2010%20%20%20%20Downtown%20Toronto%2011%20%20%20%20%20%20%20%20West%20Toronto%2012%20%20%20%20%20%20%20%20East%20Toronto%2013%20%20%20%20Downtown%20Toronto%2014%20%20%20%20%20%20%20%20West%20Toronto%2015%20%20%20%20%20%20%20%20East%20Toronto%2016%20%20%20%20Downtown%20Toronto%2017%20%20%20%20%20%20%20%20East%20Toronto%2018%20%20%20%20%20Central%20Toronto%2019%20%20%20%20%20Central%20Toronto%2020%20%20%20%20%20Central%20Toronto%2021%20%20%20%20%20Central%20Toronto%2022%20%20%20%20%20%20%20%20West%20Toronto%2023%20%20%20%20%20Central%20Toronto%2024%20%20%20%20%20Central%20Toronto%2025%20%20%20%20%20%20%20%20West%20Toronto%2026%20%20%20%20%20Central%20Toronto%2027%20%20%20%20Downtown%20Toronto%2028%20%20%20%20%20%20%20%20West%20Toronto%2029%20%20%20%20%20Central%20Toronto%2030%20%20%20%20Downtown%20Toronto%2031%20%20%20%20%20Central%20Toronto%2032%20%20%20%20Downtown%20Toronto%2033%20%20%20%20Downtown%20Toronto%2034%20%20%20%20Downtown%20Toronto%2035%20%20%20%20Downtown%20Toronto%2036%20%20%20%20Downtown%20Toronto%2037%20%20%20%20Downtown%20Toronto%2038%20%20%20%20%20%20%20%20East%20Toronto%20Name%3A%20Borough%2C%20dtype%3A%20object%20Cluster%201%3C/div%3E%60%29%5B0%5D%3B%0A%20%20%20%20%20%20%20%20%20%20%20%20%20%20%20%20popup_cf9ae37a629149a981a3a2b9bf69ec8b.setContent%28html_0d06239d10bd4cc185b66204bf580f26%29%3B%0A%20%20%20%20%20%20%20%20%20%20%20%20%0A%0A%20%20%20%20%20%20%20%20%20%20%20%20circle_marker_ec7680baf23f41139aae01ee12320e36.bindPopup%28popup_cf9ae37a629149a981a3a2b9bf69ec8b%29%0A%20%20%20%20%20%20%20%20%20%20%20%20%3B%0A%0A%20%20%20%20%20%20%20%20%20%20%20%20%0A%20%20%20%20%20%20%20%20%0A%20%20%20%20%0A%20%20%20%20%20%20%20%20%20%20%20%20var%20circle_marker_6e6dba9f019442719164c39cd5565d5c%20%3D%20L.circleMarker%28%0A%20%20%20%20%20%20%20%20%20%20%20%20%20%20%20%20%5B43.7116948%2C%20-79.41693559999999%5D%2C%0A%20%20%20%20%20%20%20%20%20%20%20%20%20%20%20%20%7B%0A%20%20%22bubblingMouseEvents%22%3A%20true%2C%0A%20%20%22color%22%3A%20%22%238000ff%22%2C%0A%20%20%22dashArray%22%3A%20null%2C%0A%20%20%22dashOffset%22%3A%20null%2C%0A%20%20%22fill%22%3A%20true%2C%0A%20%20%22fillColor%22%3A%20%22%238000ff%22%2C%0A%20%20%22fillOpacity%22%3A%200.7%2C%0A%20%20%22fillRule%22%3A%20%22evenodd%22%2C%0A%20%20%22lineCap%22%3A%20%22round%22%2C%0A%20%20%22lineJoin%22%3A%20%22round%22%2C%0A%20%20%22opacity%22%3A%201.0%2C%0A%20%20%22radius%22%3A%205%2C%0A%20%20%22stroke%22%3A%20true%2C%0A%20%20%22weight%22%3A%203%0A%7D%0A%20%20%20%20%20%20%20%20%20%20%20%20%20%20%20%20%29%0A%20%20%20%20%20%20%20%20%20%20%20%20%20%20%20%20.addTo%28map_69226580856149209fccfbf118501555%29%3B%0A%20%20%20%20%20%20%20%20%20%20%20%20%0A%20%20%20%20%0A%20%20%20%20%20%20%20%20%20%20%20%20var%20popup_e8cc1c2a0f9d4b0ab0feac3b9d4f5247%20%3D%20L.popup%28%7BmaxWidth%3A%20%27100%25%27%0A%20%20%20%20%20%20%20%20%20%20%20%20%0A%20%20%20%20%20%20%20%20%20%20%20%20%7D%29%3B%0A%0A%20%20%20%20%20%20%20%20%20%20%20%20%0A%20%20%20%20%20%20%20%20%20%20%20%20%20%20%20%20var%20html_d98c215fd14b4f2eae1ce8ca3aa8c32d%20%3D%20%24%28%60%3Cdiv%20id%3D%22html_d98c215fd14b4f2eae1ce8ca3aa8c32d%22%20style%3D%22width%3A%20100.0%25%3B%20height%3A%20100.0%25%3B%22%3E0%20%20%20%20%20Downtown%20Toronto%201%20%20%20%20%20Downtown%20Toronto%202%20%20%20%20%20Downtown%20Toronto%203%20%20%20%20%20%20%20%20%20East%20Toronto%204%20%20%20%20%20Downtown%20Toronto%205%20%20%20%20%20Downtown%20Toronto%206%20%20%20%20%20Downtown%20Toronto%207%20%20%20%20%20Downtown%20Toronto%208%20%20%20%20%20%20%20%20%20West%20Toronto%209%20%20%20%20%20%20%20%20%20East%20Toronto%2010%20%20%20%20Downtown%20Toronto%2011%20%20%20%20%20%20%20%20West%20Toronto%2012%20%20%20%20%20%20%20%20East%20Toronto%2013%20%20%20%20Downtown%20Toronto%2014%20%20%20%20%20%20%20%20West%20Toronto%2015%20%20%20%20%20%20%20%20East%20Toronto%2016%20%20%20%20Downtown%20Toronto%2017%20%20%20%20%20%20%20%20East%20Toronto%2018%20%20%20%20%20Central%20Toronto%2019%20%20%20%20%20Central%20Toronto%2020%20%20%20%20%20Central%20Toronto%2021%20%20%20%20%20Central%20Toronto%2022%20%20%20%20%20%20%20%20West%20Toronto%2023%20%20%20%20%20Central%20Toronto%2024%20%20%20%20%20Central%20Toronto%2025%20%20%20%20%20%20%20%20West%20Toronto%2026%20%20%20%20%20Central%20Toronto%2027%20%20%20%20Downtown%20Toronto%2028%20%20%20%20%20%20%20%20West%20Toronto%2029%20%20%20%20%20Central%20Toronto%2030%20%20%20%20Downtown%20Toronto%2031%20%20%20%20%20Central%20Toronto%2032%20%20%20%20Downtown%20Toronto%2033%20%20%20%20Downtown%20Toronto%2034%20%20%20%20Downtown%20Toronto%2035%20%20%20%20Downtown%20Toronto%2036%20%20%20%20Downtown%20Toronto%2037%20%20%20%20Downtown%20Toronto%2038%20%20%20%20%20%20%20%20East%20Toronto%20Name%3A%20Borough%2C%20dtype%3A%20object%20Cluster%201%3C/div%3E%60%29%5B0%5D%3B%0A%20%20%20%20%20%20%20%20%20%20%20%20%20%20%20%20popup_e8cc1c2a0f9d4b0ab0feac3b9d4f5247.setContent%28html_d98c215fd14b4f2eae1ce8ca3aa8c32d%29%3B%0A%20%20%20%20%20%20%20%20%20%20%20%20%0A%0A%20%20%20%20%20%20%20%20%20%20%20%20circle_marker_6e6dba9f019442719164c39cd5565d5c.bindPopup%28popup_e8cc1c2a0f9d4b0ab0feac3b9d4f5247%29%0A%20%20%20%20%20%20%20%20%20%20%20%20%3B%0A%0A%20%20%20%20%20%20%20%20%20%20%20%20%0A%20%20%20%20%20%20%20%20%0A%20%20%20%20%0A%20%20%20%20%20%20%20%20%20%20%20%20var%20circle_marker_2a41728db26a46639e90909e6d4ef713%20%3D%20L.circleMarker%28%0A%20%20%20%20%20%20%20%20%20%20%20%20%20%20%20%20%5B43.7127511%2C%20-79.3901975%5D%2C%0A%20%20%20%20%20%20%20%20%20%20%20%20%20%20%20%20%7B%0A%20%20%22bubblingMouseEvents%22%3A%20true%2C%0A%20%20%22color%22%3A%20%22%238000ff%22%2C%0A%20%20%22dashArray%22%3A%20null%2C%0A%20%20%22dashOffset%22%3A%20null%2C%0A%20%20%22fill%22%3A%20true%2C%0A%20%20%22fillColor%22%3A%20%22%238000ff%22%2C%0A%20%20%22fillOpacity%22%3A%200.7%2C%0A%20%20%22fillRule%22%3A%20%22evenodd%22%2C%0A%20%20%22lineCap%22%3A%20%22round%22%2C%0A%20%20%22lineJoin%22%3A%20%22round%22%2C%0A%20%20%22opacity%22%3A%201.0%2C%0A%20%20%22radius%22%3A%205%2C%0A%20%20%22stroke%22%3A%20true%2C%0A%20%20%22weight%22%3A%203%0A%7D%0A%20%20%20%20%20%20%20%20%20%20%20%20%20%20%20%20%29%0A%20%20%20%20%20%20%20%20%20%20%20%20%20%20%20%20.addTo%28map_69226580856149209fccfbf118501555%29%3B%0A%20%20%20%20%20%20%20%20%20%20%20%20%0A%20%20%20%20%0A%20%20%20%20%20%20%20%20%20%20%20%20var%20popup_9883d09489dd4e1a831203e1d4cfe4f4%20%3D%20L.popup%28%7BmaxWidth%3A%20%27100%25%27%0A%20%20%20%20%20%20%20%20%20%20%20%20%0A%20%20%20%20%20%20%20%20%20%20%20%20%7D%29%3B%0A%0A%20%20%20%20%20%20%20%20%20%20%20%20%0A%20%20%20%20%20%20%20%20%20%20%20%20%20%20%20%20var%20html_5ecc782aae1948a9a609c4062dcd7c79%20%3D%20%24%28%60%3Cdiv%20id%3D%22html_5ecc782aae1948a9a609c4062dcd7c79%22%20style%3D%22width%3A%20100.0%25%3B%20height%3A%20100.0%25%3B%22%3E0%20%20%20%20%20Downtown%20Toronto%201%20%20%20%20%20Downtown%20Toronto%202%20%20%20%20%20Downtown%20Toronto%203%20%20%20%20%20%20%20%20%20East%20Toronto%204%20%20%20%20%20Downtown%20Toronto%205%20%20%20%20%20Downtown%20Toronto%206%20%20%20%20%20Downtown%20Toronto%207%20%20%20%20%20Downtown%20Toronto%208%20%20%20%20%20%20%20%20%20West%20Toronto%209%20%20%20%20%20%20%20%20%20East%20Toronto%2010%20%20%20%20Downtown%20Toronto%2011%20%20%20%20%20%20%20%20West%20Toronto%2012%20%20%20%20%20%20%20%20East%20Toronto%2013%20%20%20%20Downtown%20Toronto%2014%20%20%20%20%20%20%20%20West%20Toronto%2015%20%20%20%20%20%20%20%20East%20Toronto%2016%20%20%20%20Downtown%20Toronto%2017%20%20%20%20%20%20%20%20East%20Toronto%2018%20%20%20%20%20Central%20Toronto%2019%20%20%20%20%20Central%20Toronto%2020%20%20%20%20%20Central%20Toronto%2021%20%20%20%20%20Central%20Toronto%2022%20%20%20%20%20%20%20%20West%20Toronto%2023%20%20%20%20%20Central%20Toronto%2024%20%20%20%20%20Central%20Toronto%2025%20%20%20%20%20%20%20%20West%20Toronto%2026%20%20%20%20%20Central%20Toronto%2027%20%20%20%20Downtown%20Toronto%2028%20%20%20%20%20%20%20%20West%20Toronto%2029%20%20%20%20%20Central%20Toronto%2030%20%20%20%20Downtown%20Toronto%2031%20%20%20%20%20Central%20Toronto%2032%20%20%20%20Downtown%20Toronto%2033%20%20%20%20Downtown%20Toronto%2034%20%20%20%20Downtown%20Toronto%2035%20%20%20%20Downtown%20Toronto%2036%20%20%20%20Downtown%20Toronto%2037%20%20%20%20Downtown%20Toronto%2038%20%20%20%20%20%20%20%20East%20Toronto%20Name%3A%20Borough%2C%20dtype%3A%20object%20Cluster%201%3C/div%3E%60%29%5B0%5D%3B%0A%20%20%20%20%20%20%20%20%20%20%20%20%20%20%20%20popup_9883d09489dd4e1a831203e1d4cfe4f4.setContent%28html_5ecc782aae1948a9a609c4062dcd7c79%29%3B%0A%20%20%20%20%20%20%20%20%20%20%20%20%0A%0A%20%20%20%20%20%20%20%20%20%20%20%20circle_marker_2a41728db26a46639e90909e6d4ef713.bindPopup%28popup_9883d09489dd4e1a831203e1d4cfe4f4%29%0A%20%20%20%20%20%20%20%20%20%20%20%20%3B%0A%0A%20%20%20%20%20%20%20%20%20%20%20%20%0A%20%20%20%20%20%20%20%20%0A%20%20%20%20%0A%20%20%20%20%20%20%20%20%20%20%20%20var%20circle_marker_3f1c6d9ca97a4b6dbfafa660a91c57ec%20%3D%20L.circleMarker%28%0A%20%20%20%20%20%20%20%20%20%20%20%20%20%20%20%20%5B43.6969476%2C%20-79.41130720000001%5D%2C%0A%20%20%20%20%20%20%20%20%20%20%20%20%20%20%20%20%7B%0A%20%20%22bubblingMouseEvents%22%3A%20true%2C%0A%20%20%22color%22%3A%20%22%238000ff%22%2C%0A%20%20%22dashArray%22%3A%20null%2C%0A%20%20%22dashOffset%22%3A%20null%2C%0A%20%20%22fill%22%3A%20true%2C%0A%20%20%22fillColor%22%3A%20%22%238000ff%22%2C%0A%20%20%22fillOpacity%22%3A%200.7%2C%0A%20%20%22fillRule%22%3A%20%22evenodd%22%2C%0A%20%20%22lineCap%22%3A%20%22round%22%2C%0A%20%20%22lineJoin%22%3A%20%22round%22%2C%0A%20%20%22opacity%22%3A%201.0%2C%0A%20%20%22radius%22%3A%205%2C%0A%20%20%22stroke%22%3A%20true%2C%0A%20%20%22weight%22%3A%203%0A%7D%0A%20%20%20%20%20%20%20%20%20%20%20%20%20%20%20%20%29%0A%20%20%20%20%20%20%20%20%20%20%20%20%20%20%20%20.addTo%28map_69226580856149209fccfbf118501555%29%3B%0A%20%20%20%20%20%20%20%20%20%20%20%20%0A%20%20%20%20%0A%20%20%20%20%20%20%20%20%20%20%20%20var%20popup_3e967032d3c64fa5858c8fac80462182%20%3D%20L.popup%28%7BmaxWidth%3A%20%27100%25%27%0A%20%20%20%20%20%20%20%20%20%20%20%20%0A%20%20%20%20%20%20%20%20%20%20%20%20%7D%29%3B%0A%0A%20%20%20%20%20%20%20%20%20%20%20%20%0A%20%20%20%20%20%20%20%20%20%20%20%20%20%20%20%20var%20html_becba128f1fd461194463b9ef7b3e53b%20%3D%20%24%28%60%3Cdiv%20id%3D%22html_becba128f1fd461194463b9ef7b3e53b%22%20style%3D%22width%3A%20100.0%25%3B%20height%3A%20100.0%25%3B%22%3E0%20%20%20%20%20Downtown%20Toronto%201%20%20%20%20%20Downtown%20Toronto%202%20%20%20%20%20Downtown%20Toronto%203%20%20%20%20%20%20%20%20%20East%20Toronto%204%20%20%20%20%20Downtown%20Toronto%205%20%20%20%20%20Downtown%20Toronto%206%20%20%20%20%20Downtown%20Toronto%207%20%20%20%20%20Downtown%20Toronto%208%20%20%20%20%20%20%20%20%20West%20Toronto%209%20%20%20%20%20%20%20%20%20East%20Toronto%2010%20%20%20%20Downtown%20Toronto%2011%20%20%20%20%20%20%20%20West%20Toronto%2012%20%20%20%20%20%20%20%20East%20Toronto%2013%20%20%20%20Downtown%20Toronto%2014%20%20%20%20%20%20%20%20West%20Toronto%2015%20%20%20%20%20%20%20%20East%20Toronto%2016%20%20%20%20Downtown%20Toronto%2017%20%20%20%20%20%20%20%20East%20Toronto%2018%20%20%20%20%20Central%20Toronto%2019%20%20%20%20%20Central%20Toronto%2020%20%20%20%20%20Central%20Toronto%2021%20%20%20%20%20Central%20Toronto%2022%20%20%20%20%20%20%20%20West%20Toronto%2023%20%20%20%20%20Central%20Toronto%2024%20%20%20%20%20Central%20Toronto%2025%20%20%20%20%20%20%20%20West%20Toronto%2026%20%20%20%20%20Central%20Toronto%2027%20%20%20%20Downtown%20Toronto%2028%20%20%20%20%20%20%20%20West%20Toronto%2029%20%20%20%20%20Central%20Toronto%2030%20%20%20%20Downtown%20Toronto%2031%20%20%20%20%20Central%20Toronto%2032%20%20%20%20Downtown%20Toronto%2033%20%20%20%20Downtown%20Toronto%2034%20%20%20%20Downtown%20Toronto%2035%20%20%20%20Downtown%20Toronto%2036%20%20%20%20Downtown%20Toronto%2037%20%20%20%20Downtown%20Toronto%2038%20%20%20%20%20%20%20%20East%20Toronto%20Name%3A%20Borough%2C%20dtype%3A%20object%20Cluster%201%3C/div%3E%60%29%5B0%5D%3B%0A%20%20%20%20%20%20%20%20%20%20%20%20%20%20%20%20popup_3e967032d3c64fa5858c8fac80462182.setContent%28html_becba128f1fd461194463b9ef7b3e53b%29%3B%0A%20%20%20%20%20%20%20%20%20%20%20%20%0A%0A%20%20%20%20%20%20%20%20%20%20%20%20circle_marker_3f1c6d9ca97a4b6dbfafa660a91c57ec.bindPopup%28popup_3e967032d3c64fa5858c8fac80462182%29%0A%20%20%20%20%20%20%20%20%20%20%20%20%3B%0A%0A%20%20%20%20%20%20%20%20%20%20%20%20%0A%20%20%20%20%20%20%20%20%0A%20%20%20%20%0A%20%20%20%20%20%20%20%20%20%20%20%20var%20circle_marker_2c970f01df40479fb670fe0e48bfc7a5%20%3D%20L.circleMarker%28%0A%20%20%20%20%20%20%20%20%20%20%20%20%20%20%20%20%5B43.6616083%2C%20-79.46476329999999%5D%2C%0A%20%20%20%20%20%20%20%20%20%20%20%20%20%20%20%20%7B%0A%20%20%22bubblingMouseEvents%22%3A%20true%2C%0A%20%20%22color%22%3A%20%22%232adddd%22%2C%0A%20%20%22dashArray%22%3A%20null%2C%0A%20%20%22dashOffset%22%3A%20null%2C%0A%20%20%22fill%22%3A%20true%2C%0A%20%20%22fillColor%22%3A%20%22%232adddd%22%2C%0A%20%20%22fillOpacity%22%3A%200.7%2C%0A%20%20%22fillRule%22%3A%20%22evenodd%22%2C%0A%20%20%22lineCap%22%3A%20%22round%22%2C%0A%20%20%22lineJoin%22%3A%20%22round%22%2C%0A%20%20%22opacity%22%3A%201.0%2C%0A%20%20%22radius%22%3A%205%2C%0A%20%20%22stroke%22%3A%20true%2C%0A%20%20%22weight%22%3A%203%0A%7D%0A%20%20%20%20%20%20%20%20%20%20%20%20%20%20%20%20%29%0A%20%20%20%20%20%20%20%20%20%20%20%20%20%20%20%20.addTo%28map_69226580856149209fccfbf118501555%29%3B%0A%20%20%20%20%20%20%20%20%20%20%20%20%0A%20%20%20%20%0A%20%20%20%20%20%20%20%20%20%20%20%20var%20popup_0023488fa1ae4ddb883c0c559c8f29fc%20%3D%20L.popup%28%7BmaxWidth%3A%20%27100%25%27%0A%20%20%20%20%20%20%20%20%20%20%20%20%0A%20%20%20%20%20%20%20%20%20%20%20%20%7D%29%3B%0A%0A%20%20%20%20%20%20%20%20%20%20%20%20%0A%20%20%20%20%20%20%20%20%20%20%20%20%20%20%20%20var%20html_6d09aaad8d4644bab2f62adea980c960%20%3D%20%24%28%60%3Cdiv%20id%3D%22html_6d09aaad8d4644bab2f62adea980c960%22%20style%3D%22width%3A%20100.0%25%3B%20height%3A%20100.0%25%3B%22%3E0%20%20%20%20%20Downtown%20Toronto%201%20%20%20%20%20Downtown%20Toronto%202%20%20%20%20%20Downtown%20Toronto%203%20%20%20%20%20%20%20%20%20East%20Toronto%204%20%20%20%20%20Downtown%20Toronto%205%20%20%20%20%20Downtown%20Toronto%206%20%20%20%20%20Downtown%20Toronto%207%20%20%20%20%20Downtown%20Toronto%208%20%20%20%20%20%20%20%20%20West%20Toronto%209%20%20%20%20%20%20%20%20%20East%20Toronto%2010%20%20%20%20Downtown%20Toronto%2011%20%20%20%20%20%20%20%20West%20Toronto%2012%20%20%20%20%20%20%20%20East%20Toronto%2013%20%20%20%20Downtown%20Toronto%2014%20%20%20%20%20%20%20%20West%20Toronto%2015%20%20%20%20%20%20%20%20East%20Toronto%2016%20%20%20%20Downtown%20Toronto%2017%20%20%20%20%20%20%20%20East%20Toronto%2018%20%20%20%20%20Central%20Toronto%2019%20%20%20%20%20Central%20Toronto%2020%20%20%20%20%20Central%20Toronto%2021%20%20%20%20%20Central%20Toronto%2022%20%20%20%20%20%20%20%20West%20Toronto%2023%20%20%20%20%20Central%20Toronto%2024%20%20%20%20%20Central%20Toronto%2025%20%20%20%20%20%20%20%20West%20Toronto%2026%20%20%20%20%20Central%20Toronto%2027%20%20%20%20Downtown%20Toronto%2028%20%20%20%20%20%20%20%20West%20Toronto%2029%20%20%20%20%20Central%20Toronto%2030%20%20%20%20Downtown%20Toronto%2031%20%20%20%20%20Central%20Toronto%2032%20%20%20%20Downtown%20Toronto%2033%20%20%20%20Downtown%20Toronto%2034%20%20%20%20Downtown%20Toronto%2035%20%20%20%20Downtown%20Toronto%2036%20%20%20%20Downtown%20Toronto%2037%20%20%20%20Downtown%20Toronto%2038%20%20%20%20%20%20%20%20East%20Toronto%20Name%3A%20Borough%2C%20dtype%3A%20object%20Cluster%202%3C/div%3E%60%29%5B0%5D%3B%0A%20%20%20%20%20%20%20%20%20%20%20%20%20%20%20%20popup_0023488fa1ae4ddb883c0c559c8f29fc.setContent%28html_6d09aaad8d4644bab2f62adea980c960%29%3B%0A%20%20%20%20%20%20%20%20%20%20%20%20%0A%0A%20%20%20%20%20%20%20%20%20%20%20%20circle_marker_2c970f01df40479fb670fe0e48bfc7a5.bindPopup%28popup_0023488fa1ae4ddb883c0c559c8f29fc%29%0A%20%20%20%20%20%20%20%20%20%20%20%20%3B%0A%0A%20%20%20%20%20%20%20%20%20%20%20%20%0A%20%20%20%20%20%20%20%20%0A%20%20%20%20%0A%20%20%20%20%20%20%20%20%20%20%20%20var%20circle_marker_08a1914ffbe24615bca1bfa6d45cffde%20%3D%20L.circleMarker%28%0A%20%20%20%20%20%20%20%20%20%20%20%20%20%20%20%20%5B43.7153834%2C%20-79.40567840000001%5D%2C%0A%20%20%20%20%20%20%20%20%20%20%20%20%20%20%20%20%7B%0A%20%20%22bubblingMouseEvents%22%3A%20true%2C%0A%20%20%22color%22%3A%20%22%238000ff%22%2C%0A%20%20%22dashArray%22%3A%20null%2C%0A%20%20%22dashOffset%22%3A%20null%2C%0A%20%20%22fill%22%3A%20true%2C%0A%20%20%22fillColor%22%3A%20%22%238000ff%22%2C%0A%20%20%22fillOpacity%22%3A%200.7%2C%0A%20%20%22fillRule%22%3A%20%22evenodd%22%2C%0A%20%20%22lineCap%22%3A%20%22round%22%2C%0A%20%20%22lineJoin%22%3A%20%22round%22%2C%0A%20%20%22opacity%22%3A%201.0%2C%0A%20%20%22radius%22%3A%205%2C%0A%20%20%22stroke%22%3A%20true%2C%0A%20%20%22weight%22%3A%203%0A%7D%0A%20%20%20%20%20%20%20%20%20%20%20%20%20%20%20%20%29%0A%20%20%20%20%20%20%20%20%20%20%20%20%20%20%20%20.addTo%28map_69226580856149209fccfbf118501555%29%3B%0A%20%20%20%20%20%20%20%20%20%20%20%20%0A%20%20%20%20%0A%20%20%20%20%20%20%20%20%20%20%20%20var%20popup_4b32357ccd35419cb027364fa79f7d30%20%3D%20L.popup%28%7BmaxWidth%3A%20%27100%25%27%0A%20%20%20%20%20%20%20%20%20%20%20%20%0A%20%20%20%20%20%20%20%20%20%20%20%20%7D%29%3B%0A%0A%20%20%20%20%20%20%20%20%20%20%20%20%0A%20%20%20%20%20%20%20%20%20%20%20%20%20%20%20%20var%20html_b45717ccdf814b1297116c4485798183%20%3D%20%24%28%60%3Cdiv%20id%3D%22html_b45717ccdf814b1297116c4485798183%22%20style%3D%22width%3A%20100.0%25%3B%20height%3A%20100.0%25%3B%22%3E0%20%20%20%20%20Downtown%20Toronto%201%20%20%20%20%20Downtown%20Toronto%202%20%20%20%20%20Downtown%20Toronto%203%20%20%20%20%20%20%20%20%20East%20Toronto%204%20%20%20%20%20Downtown%20Toronto%205%20%20%20%20%20Downtown%20Toronto%206%20%20%20%20%20Downtown%20Toronto%207%20%20%20%20%20Downtown%20Toronto%208%20%20%20%20%20%20%20%20%20West%20Toronto%209%20%20%20%20%20%20%20%20%20East%20Toronto%2010%20%20%20%20Downtown%20Toronto%2011%20%20%20%20%20%20%20%20West%20Toronto%2012%20%20%20%20%20%20%20%20East%20Toronto%2013%20%20%20%20Downtown%20Toronto%2014%20%20%20%20%20%20%20%20West%20Toronto%2015%20%20%20%20%20%20%20%20East%20Toronto%2016%20%20%20%20Downtown%20Toronto%2017%20%20%20%20%20%20%20%20East%20Toronto%2018%20%20%20%20%20Central%20Toronto%2019%20%20%20%20%20Central%20Toronto%2020%20%20%20%20%20Central%20Toronto%2021%20%20%20%20%20Central%20Toronto%2022%20%20%20%20%20%20%20%20West%20Toronto%2023%20%20%20%20%20Central%20Toronto%2024%20%20%20%20%20Central%20Toronto%2025%20%20%20%20%20%20%20%20West%20Toronto%2026%20%20%20%20%20Central%20Toronto%2027%20%20%20%20Downtown%20Toronto%2028%20%20%20%20%20%20%20%20West%20Toronto%2029%20%20%20%20%20Central%20Toronto%2030%20%20%20%20Downtown%20Toronto%2031%20%20%20%20%20Central%20Toronto%2032%20%20%20%20Downtown%20Toronto%2033%20%20%20%20Downtown%20Toronto%2034%20%20%20%20Downtown%20Toronto%2035%20%20%20%20Downtown%20Toronto%2036%20%20%20%20Downtown%20Toronto%2037%20%20%20%20Downtown%20Toronto%2038%20%20%20%20%20%20%20%20East%20Toronto%20Name%3A%20Borough%2C%20dtype%3A%20object%20Cluster%201%3C/div%3E%60%29%5B0%5D%3B%0A%20%20%20%20%20%20%20%20%20%20%20%20%20%20%20%20popup_4b32357ccd35419cb027364fa79f7d30.setContent%28html_b45717ccdf814b1297116c4485798183%29%3B%0A%20%20%20%20%20%20%20%20%20%20%20%20%0A%0A%20%20%20%20%20%20%20%20%20%20%20%20circle_marker_08a1914ffbe24615bca1bfa6d45cffde.bindPopup%28popup_4b32357ccd35419cb027364fa79f7d30%29%0A%20%20%20%20%20%20%20%20%20%20%20%20%3B%0A%0A%20%20%20%20%20%20%20%20%20%20%20%20%0A%20%20%20%20%20%20%20%20%0A%20%20%20%20%0A%20%20%20%20%20%20%20%20%20%20%20%20var%20circle_marker_d6300a55660049048490cc228ee4bc68%20%3D%20L.circleMarker%28%0A%20%20%20%20%20%20%20%20%20%20%20%20%20%20%20%20%5B43.6727097%2C%20-79.40567840000001%5D%2C%0A%20%20%20%20%20%20%20%20%20%20%20%20%20%20%20%20%7B%0A%20%20%22bubblingMouseEvents%22%3A%20true%2C%0A%20%20%22color%22%3A%20%22%238000ff%22%2C%0A%20%20%22dashArray%22%3A%20null%2C%0A%20%20%22dashOffset%22%3A%20null%2C%0A%20%20%22fill%22%3A%20true%2C%0A%20%20%22fillColor%22%3A%20%22%238000ff%22%2C%0A%20%20%22fillOpacity%22%3A%200.7%2C%0A%20%20%22fillRule%22%3A%20%22evenodd%22%2C%0A%20%20%22lineCap%22%3A%20%22round%22%2C%0A%20%20%22lineJoin%22%3A%20%22round%22%2C%0A%20%20%22opacity%22%3A%201.0%2C%0A%20%20%22radius%22%3A%205%2C%0A%20%20%22stroke%22%3A%20true%2C%0A%20%20%22weight%22%3A%203%0A%7D%0A%20%20%20%20%20%20%20%20%20%20%20%20%20%20%20%20%29%0A%20%20%20%20%20%20%20%20%20%20%20%20%20%20%20%20.addTo%28map_69226580856149209fccfbf118501555%29%3B%0A%20%20%20%20%20%20%20%20%20%20%20%20%0A%20%20%20%20%0A%20%20%20%20%20%20%20%20%20%20%20%20var%20popup_2d1ebc8e91f042bd89fabde7362adaad%20%3D%20L.popup%28%7BmaxWidth%3A%20%27100%25%27%0A%20%20%20%20%20%20%20%20%20%20%20%20%0A%20%20%20%20%20%20%20%20%20%20%20%20%7D%29%3B%0A%0A%20%20%20%20%20%20%20%20%20%20%20%20%0A%20%20%20%20%20%20%20%20%20%20%20%20%20%20%20%20var%20html_c76c4ef28d3048fa932566bfe80f56e0%20%3D%20%24%28%60%3Cdiv%20id%3D%22html_c76c4ef28d3048fa932566bfe80f56e0%22%20style%3D%22width%3A%20100.0%25%3B%20height%3A%20100.0%25%3B%22%3E0%20%20%20%20%20Downtown%20Toronto%201%20%20%20%20%20Downtown%20Toronto%202%20%20%20%20%20Downtown%20Toronto%203%20%20%20%20%20%20%20%20%20East%20Toronto%204%20%20%20%20%20Downtown%20Toronto%205%20%20%20%20%20Downtown%20Toronto%206%20%20%20%20%20Downtown%20Toronto%207%20%20%20%20%20Downtown%20Toronto%208%20%20%20%20%20%20%20%20%20West%20Toronto%209%20%20%20%20%20%20%20%20%20East%20Toronto%2010%20%20%20%20Downtown%20Toronto%2011%20%20%20%20%20%20%20%20West%20Toronto%2012%20%20%20%20%20%20%20%20East%20Toronto%2013%20%20%20%20Downtown%20Toronto%2014%20%20%20%20%20%20%20%20West%20Toronto%2015%20%20%20%20%20%20%20%20East%20Toronto%2016%20%20%20%20Downtown%20Toronto%2017%20%20%20%20%20%20%20%20East%20Toronto%2018%20%20%20%20%20Central%20Toronto%2019%20%20%20%20%20Central%20Toronto%2020%20%20%20%20%20Central%20Toronto%2021%20%20%20%20%20Central%20Toronto%2022%20%20%20%20%20%20%20%20West%20Toronto%2023%20%20%20%20%20Central%20Toronto%2024%20%20%20%20%20Central%20Toronto%2025%20%20%20%20%20%20%20%20West%20Toronto%2026%20%20%20%20%20Central%20Toronto%2027%20%20%20%20Downtown%20Toronto%2028%20%20%20%20%20%20%20%20West%20Toronto%2029%20%20%20%20%20Central%20Toronto%2030%20%20%20%20Downtown%20Toronto%2031%20%20%20%20%20Central%20Toronto%2032%20%20%20%20Downtown%20Toronto%2033%20%20%20%20Downtown%20Toronto%2034%20%20%20%20Downtown%20Toronto%2035%20%20%20%20Downtown%20Toronto%2036%20%20%20%20Downtown%20Toronto%2037%20%20%20%20Downtown%20Toronto%2038%20%20%20%20%20%20%20%20East%20Toronto%20Name%3A%20Borough%2C%20dtype%3A%20object%20Cluster%201%3C/div%3E%60%29%5B0%5D%3B%0A%20%20%20%20%20%20%20%20%20%20%20%20%20%20%20%20popup_2d1ebc8e91f042bd89fabde7362adaad.setContent%28html_c76c4ef28d3048fa932566bfe80f56e0%29%3B%0A%20%20%20%20%20%20%20%20%20%20%20%20%0A%0A%20%20%20%20%20%20%20%20%20%20%20%20circle_marker_d6300a55660049048490cc228ee4bc68.bindPopup%28popup_2d1ebc8e91f042bd89fabde7362adaad%29%0A%20%20%20%20%20%20%20%20%20%20%20%20%3B%0A%0A%20%20%20%20%20%20%20%20%20%20%20%20%0A%20%20%20%20%20%20%20%20%0A%20%20%20%20%0A%20%20%20%20%20%20%20%20%20%20%20%20var%20circle_marker_d56942025185475c9388cc8e39358420%20%3D%20L.circleMarker%28%0A%20%20%20%20%20%20%20%20%20%20%20%20%20%20%20%20%5B43.6489597%2C%20-79.456325%5D%2C%0A%20%20%20%20%20%20%20%20%20%20%20%20%20%20%20%20%7B%0A%20%20%22bubblingMouseEvents%22%3A%20true%2C%0A%20%20%22color%22%3A%20%22%232adddd%22%2C%0A%20%20%22dashArray%22%3A%20null%2C%0A%20%20%22dashOffset%22%3A%20null%2C%0A%20%20%22fill%22%3A%20true%2C%0A%20%20%22fillColor%22%3A%20%22%232adddd%22%2C%0A%20%20%22fillOpacity%22%3A%200.7%2C%0A%20%20%22fillRule%22%3A%20%22evenodd%22%2C%0A%20%20%22lineCap%22%3A%20%22round%22%2C%0A%20%20%22lineJoin%22%3A%20%22round%22%2C%0A%20%20%22opacity%22%3A%201.0%2C%0A%20%20%22radius%22%3A%205%2C%0A%20%20%22stroke%22%3A%20true%2C%0A%20%20%22weight%22%3A%203%0A%7D%0A%20%20%20%20%20%20%20%20%20%20%20%20%20%20%20%20%29%0A%20%20%20%20%20%20%20%20%20%20%20%20%20%20%20%20.addTo%28map_69226580856149209fccfbf118501555%29%3B%0A%20%20%20%20%20%20%20%20%20%20%20%20%0A%20%20%20%20%0A%20%20%20%20%20%20%20%20%20%20%20%20var%20popup_add503e483524e0b8c0fadd06fd8269e%20%3D%20L.popup%28%7BmaxWidth%3A%20%27100%25%27%0A%20%20%20%20%20%20%20%20%20%20%20%20%0A%20%20%20%20%20%20%20%20%20%20%20%20%7D%29%3B%0A%0A%20%20%20%20%20%20%20%20%20%20%20%20%0A%20%20%20%20%20%20%20%20%20%20%20%20%20%20%20%20var%20html_4c0a7f7e88824e2ea5146193a1255e54%20%3D%20%24%28%60%3Cdiv%20id%3D%22html_4c0a7f7e88824e2ea5146193a1255e54%22%20style%3D%22width%3A%20100.0%25%3B%20height%3A%20100.0%25%3B%22%3E0%20%20%20%20%20Downtown%20Toronto%201%20%20%20%20%20Downtown%20Toronto%202%20%20%20%20%20Downtown%20Toronto%203%20%20%20%20%20%20%20%20%20East%20Toronto%204%20%20%20%20%20Downtown%20Toronto%205%20%20%20%20%20Downtown%20Toronto%206%20%20%20%20%20Downtown%20Toronto%207%20%20%20%20%20Downtown%20Toronto%208%20%20%20%20%20%20%20%20%20West%20Toronto%209%20%20%20%20%20%20%20%20%20East%20Toronto%2010%20%20%20%20Downtown%20Toronto%2011%20%20%20%20%20%20%20%20West%20Toronto%2012%20%20%20%20%20%20%20%20East%20Toronto%2013%20%20%20%20Downtown%20Toronto%2014%20%20%20%20%20%20%20%20West%20Toronto%2015%20%20%20%20%20%20%20%20East%20Toronto%2016%20%20%20%20Downtown%20Toronto%2017%20%20%20%20%20%20%20%20East%20Toronto%2018%20%20%20%20%20Central%20Toronto%2019%20%20%20%20%20Central%20Toronto%2020%20%20%20%20%20Central%20Toronto%2021%20%20%20%20%20Central%20Toronto%2022%20%20%20%20%20%20%20%20West%20Toronto%2023%20%20%20%20%20Central%20Toronto%2024%20%20%20%20%20Central%20Toronto%2025%20%20%20%20%20%20%20%20West%20Toronto%2026%20%20%20%20%20Central%20Toronto%2027%20%20%20%20Downtown%20Toronto%2028%20%20%20%20%20%20%20%20West%20Toronto%2029%20%20%20%20%20Central%20Toronto%2030%20%20%20%20Downtown%20Toronto%2031%20%20%20%20%20Central%20Toronto%2032%20%20%20%20Downtown%20Toronto%2033%20%20%20%20Downtown%20Toronto%2034%20%20%20%20Downtown%20Toronto%2035%20%20%20%20Downtown%20Toronto%2036%20%20%20%20Downtown%20Toronto%2037%20%20%20%20Downtown%20Toronto%2038%20%20%20%20%20%20%20%20East%20Toronto%20Name%3A%20Borough%2C%20dtype%3A%20object%20Cluster%202%3C/div%3E%60%29%5B0%5D%3B%0A%20%20%20%20%20%20%20%20%20%20%20%20%20%20%20%20popup_add503e483524e0b8c0fadd06fd8269e.setContent%28html_4c0a7f7e88824e2ea5146193a1255e54%29%3B%0A%20%20%20%20%20%20%20%20%20%20%20%20%0A%0A%20%20%20%20%20%20%20%20%20%20%20%20circle_marker_d56942025185475c9388cc8e39358420.bindPopup%28popup_add503e483524e0b8c0fadd06fd8269e%29%0A%20%20%20%20%20%20%20%20%20%20%20%20%3B%0A%0A%20%20%20%20%20%20%20%20%20%20%20%20%0A%20%20%20%20%20%20%20%20%0A%20%20%20%20%0A%20%20%20%20%20%20%20%20%20%20%20%20var%20circle_marker_ab49954cea7a4b148558ca1e13c46cf4%20%3D%20L.circleMarker%28%0A%20%20%20%20%20%20%20%20%20%20%20%20%20%20%20%20%5B43.7043244%2C%20-79.3887901%5D%2C%0A%20%20%20%20%20%20%20%20%20%20%20%20%20%20%20%20%7B%0A%20%20%22bubblingMouseEvents%22%3A%20true%2C%0A%20%20%22color%22%3A%20%22%238000ff%22%2C%0A%20%20%22dashArray%22%3A%20null%2C%0A%20%20%22dashOffset%22%3A%20null%2C%0A%20%20%22fill%22%3A%20true%2C%0A%20%20%22fillColor%22%3A%20%22%238000ff%22%2C%0A%20%20%22fillOpacity%22%3A%200.7%2C%0A%20%20%22fillRule%22%3A%20%22evenodd%22%2C%0A%20%20%22lineCap%22%3A%20%22round%22%2C%0A%20%20%22lineJoin%22%3A%20%22round%22%2C%0A%20%20%22opacity%22%3A%201.0%2C%0A%20%20%22radius%22%3A%205%2C%0A%20%20%22stroke%22%3A%20true%2C%0A%20%20%22weight%22%3A%203%0A%7D%0A%20%20%20%20%20%20%20%20%20%20%20%20%20%20%20%20%29%0A%20%20%20%20%20%20%20%20%20%20%20%20%20%20%20%20.addTo%28map_69226580856149209fccfbf118501555%29%3B%0A%20%20%20%20%20%20%20%20%20%20%20%20%0A%20%20%20%20%0A%20%20%20%20%20%20%20%20%20%20%20%20var%20popup_b0803abf75f74508aa5be959bedd83c7%20%3D%20L.popup%28%7BmaxWidth%3A%20%27100%25%27%0A%20%20%20%20%20%20%20%20%20%20%20%20%0A%20%20%20%20%20%20%20%20%20%20%20%20%7D%29%3B%0A%0A%20%20%20%20%20%20%20%20%20%20%20%20%0A%20%20%20%20%20%20%20%20%20%20%20%20%20%20%20%20var%20html_92300689a0454ffd974f8c6fddb12cd6%20%3D%20%24%28%60%3Cdiv%20id%3D%22html_92300689a0454ffd974f8c6fddb12cd6%22%20style%3D%22width%3A%20100.0%25%3B%20height%3A%20100.0%25%3B%22%3E0%20%20%20%20%20Downtown%20Toronto%201%20%20%20%20%20Downtown%20Toronto%202%20%20%20%20%20Downtown%20Toronto%203%20%20%20%20%20%20%20%20%20East%20Toronto%204%20%20%20%20%20Downtown%20Toronto%205%20%20%20%20%20Downtown%20Toronto%206%20%20%20%20%20Downtown%20Toronto%207%20%20%20%20%20Downtown%20Toronto%208%20%20%20%20%20%20%20%20%20West%20Toronto%209%20%20%20%20%20%20%20%20%20East%20Toronto%2010%20%20%20%20Downtown%20Toronto%2011%20%20%20%20%20%20%20%20West%20Toronto%2012%20%20%20%20%20%20%20%20East%20Toronto%2013%20%20%20%20Downtown%20Toronto%2014%20%20%20%20%20%20%20%20West%20Toronto%2015%20%20%20%20%20%20%20%20East%20Toronto%2016%20%20%20%20Downtown%20Toronto%2017%20%20%20%20%20%20%20%20East%20Toronto%2018%20%20%20%20%20Central%20Toronto%2019%20%20%20%20%20Central%20Toronto%2020%20%20%20%20%20Central%20Toronto%2021%20%20%20%20%20Central%20Toronto%2022%20%20%20%20%20%20%20%20West%20Toronto%2023%20%20%20%20%20Central%20Toronto%2024%20%20%20%20%20Central%20Toronto%2025%20%20%20%20%20%20%20%20West%20Toronto%2026%20%20%20%20%20Central%20Toronto%2027%20%20%20%20Downtown%20Toronto%2028%20%20%20%20%20%20%20%20West%20Toronto%2029%20%20%20%20%20Central%20Toronto%2030%20%20%20%20Downtown%20Toronto%2031%20%20%20%20%20Central%20Toronto%2032%20%20%20%20Downtown%20Toronto%2033%20%20%20%20Downtown%20Toronto%2034%20%20%20%20Downtown%20Toronto%2035%20%20%20%20Downtown%20Toronto%2036%20%20%20%20Downtown%20Toronto%2037%20%20%20%20Downtown%20Toronto%2038%20%20%20%20%20%20%20%20East%20Toronto%20Name%3A%20Borough%2C%20dtype%3A%20object%20Cluster%201%3C/div%3E%60%29%5B0%5D%3B%0A%20%20%20%20%20%20%20%20%20%20%20%20%20%20%20%20popup_b0803abf75f74508aa5be959bedd83c7.setContent%28html_92300689a0454ffd974f8c6fddb12cd6%29%3B%0A%20%20%20%20%20%20%20%20%20%20%20%20%0A%0A%20%20%20%20%20%20%20%20%20%20%20%20circle_marker_ab49954cea7a4b148558ca1e13c46cf4.bindPopup%28popup_b0803abf75f74508aa5be959bedd83c7%29%0A%20%20%20%20%20%20%20%20%20%20%20%20%3B%0A%0A%20%20%20%20%20%20%20%20%20%20%20%20%0A%20%20%20%20%20%20%20%20%0A%20%20%20%20%0A%20%20%20%20%20%20%20%20%20%20%20%20var%20circle_marker_ef5a1422c0bc4af99cc024ba7cb3b181%20%3D%20L.circleMarker%28%0A%20%20%20%20%20%20%20%20%20%20%20%20%20%20%20%20%5B43.6626956%2C%20-79.4000493%5D%2C%0A%20%20%20%20%20%20%20%20%20%20%20%20%20%20%20%20%7B%0A%20%20%22bubblingMouseEvents%22%3A%20true%2C%0A%20%20%22color%22%3A%20%22%23ff0000%22%2C%0A%20%20%22dashArray%22%3A%20null%2C%0A%20%20%22dashOffset%22%3A%20null%2C%0A%20%20%22fill%22%3A%20true%2C%0A%20%20%22fillColor%22%3A%20%22%23ff0000%22%2C%0A%20%20%22fillOpacity%22%3A%200.7%2C%0A%20%20%22fillRule%22%3A%20%22evenodd%22%2C%0A%20%20%22lineCap%22%3A%20%22round%22%2C%0A%20%20%22lineJoin%22%3A%20%22round%22%2C%0A%20%20%22opacity%22%3A%201.0%2C%0A%20%20%22radius%22%3A%205%2C%0A%20%20%22stroke%22%3A%20true%2C%0A%20%20%22weight%22%3A%203%0A%7D%0A%20%20%20%20%20%20%20%20%20%20%20%20%20%20%20%20%29%0A%20%20%20%20%20%20%20%20%20%20%20%20%20%20%20%20.addTo%28map_69226580856149209fccfbf118501555%29%3B%0A%20%20%20%20%20%20%20%20%20%20%20%20%0A%20%20%20%20%0A%20%20%20%20%20%20%20%20%20%20%20%20var%20popup_ee5ccdd3099c442e9a976314333bb4bc%20%3D%20L.popup%28%7BmaxWidth%3A%20%27100%25%27%0A%20%20%20%20%20%20%20%20%20%20%20%20%0A%20%20%20%20%20%20%20%20%20%20%20%20%7D%29%3B%0A%0A%20%20%20%20%20%20%20%20%20%20%20%20%0A%20%20%20%20%20%20%20%20%20%20%20%20%20%20%20%20var%20html_685f2269b863442eb716411ca3c3ab48%20%3D%20%24%28%60%3Cdiv%20id%3D%22html_685f2269b863442eb716411ca3c3ab48%22%20style%3D%22width%3A%20100.0%25%3B%20height%3A%20100.0%25%3B%22%3E0%20%20%20%20%20Downtown%20Toronto%201%20%20%20%20%20Downtown%20Toronto%202%20%20%20%20%20Downtown%20Toronto%203%20%20%20%20%20%20%20%20%20East%20Toronto%204%20%20%20%20%20Downtown%20Toronto%205%20%20%20%20%20Downtown%20Toronto%206%20%20%20%20%20Downtown%20Toronto%207%20%20%20%20%20Downtown%20Toronto%208%20%20%20%20%20%20%20%20%20West%20Toronto%209%20%20%20%20%20%20%20%20%20East%20Toronto%2010%20%20%20%20Downtown%20Toronto%2011%20%20%20%20%20%20%20%20West%20Toronto%2012%20%20%20%20%20%20%20%20East%20Toronto%2013%20%20%20%20Downtown%20Toronto%2014%20%20%20%20%20%20%20%20West%20Toronto%2015%20%20%20%20%20%20%20%20East%20Toronto%2016%20%20%20%20Downtown%20Toronto%2017%20%20%20%20%20%20%20%20East%20Toronto%2018%20%20%20%20%20Central%20Toronto%2019%20%20%20%20%20Central%20Toronto%2020%20%20%20%20%20Central%20Toronto%2021%20%20%20%20%20Central%20Toronto%2022%20%20%20%20%20%20%20%20West%20Toronto%2023%20%20%20%20%20Central%20Toronto%2024%20%20%20%20%20Central%20Toronto%2025%20%20%20%20%20%20%20%20West%20Toronto%2026%20%20%20%20%20Central%20Toronto%2027%20%20%20%20Downtown%20Toronto%2028%20%20%20%20%20%20%20%20West%20Toronto%2029%20%20%20%20%20Central%20Toronto%2030%20%20%20%20Downtown%20Toronto%2031%20%20%20%20%20Central%20Toronto%2032%20%20%20%20Downtown%20Toronto%2033%20%20%20%20Downtown%20Toronto%2034%20%20%20%20Downtown%20Toronto%2035%20%20%20%20Downtown%20Toronto%2036%20%20%20%20Downtown%20Toronto%2037%20%20%20%20Downtown%20Toronto%2038%20%20%20%20%20%20%20%20East%20Toronto%20Name%3A%20Borough%2C%20dtype%3A%20object%20Cluster%204%3C/div%3E%60%29%5B0%5D%3B%0A%20%20%20%20%20%20%20%20%20%20%20%20%20%20%20%20popup_ee5ccdd3099c442e9a976314333bb4bc.setContent%28html_685f2269b863442eb716411ca3c3ab48%29%3B%0A%20%20%20%20%20%20%20%20%20%20%20%20%0A%0A%20%20%20%20%20%20%20%20%20%20%20%20circle_marker_ef5a1422c0bc4af99cc024ba7cb3b181.bindPopup%28popup_ee5ccdd3099c442e9a976314333bb4bc%29%0A%20%20%20%20%20%20%20%20%20%20%20%20%3B%0A%0A%20%20%20%20%20%20%20%20%20%20%20%20%0A%20%20%20%20%20%20%20%20%0A%20%20%20%20%0A%20%20%20%20%20%20%20%20%20%20%20%20var%20circle_marker_6ecacb1672c84a15a3e536af9483d6af%20%3D%20L.circleMarker%28%0A%20%20%20%20%20%20%20%20%20%20%20%20%20%20%20%20%5B43.6515706%2C%20-79.4844499%5D%2C%0A%20%20%20%20%20%20%20%20%20%20%20%20%20%20%20%20%7B%0A%20%20%22bubblingMouseEvents%22%3A%20true%2C%0A%20%20%22color%22%3A%20%22%232adddd%22%2C%0A%20%20%22dashArray%22%3A%20null%2C%0A%20%20%22dashOffset%22%3A%20null%2C%0A%20%20%22fill%22%3A%20true%2C%0A%20%20%22fillColor%22%3A%20%22%232adddd%22%2C%0A%20%20%22fillOpacity%22%3A%200.7%2C%0A%20%20%22fillRule%22%3A%20%22evenodd%22%2C%0A%20%20%22lineCap%22%3A%20%22round%22%2C%0A%20%20%22lineJoin%22%3A%20%22round%22%2C%0A%20%20%22opacity%22%3A%201.0%2C%0A%20%20%22radius%22%3A%205%2C%0A%20%20%22stroke%22%3A%20true%2C%0A%20%20%22weight%22%3A%203%0A%7D%0A%20%20%20%20%20%20%20%20%20%20%20%20%20%20%20%20%29%0A%20%20%20%20%20%20%20%20%20%20%20%20%20%20%20%20.addTo%28map_69226580856149209fccfbf118501555%29%3B%0A%20%20%20%20%20%20%20%20%20%20%20%20%0A%20%20%20%20%0A%20%20%20%20%20%20%20%20%20%20%20%20var%20popup_73b168205cea453aa176bee692b9ed9d%20%3D%20L.popup%28%7BmaxWidth%3A%20%27100%25%27%0A%20%20%20%20%20%20%20%20%20%20%20%20%0A%20%20%20%20%20%20%20%20%20%20%20%20%7D%29%3B%0A%0A%20%20%20%20%20%20%20%20%20%20%20%20%0A%20%20%20%20%20%20%20%20%20%20%20%20%20%20%20%20var%20html_0eccabc2534d424ab133f02e3e948b14%20%3D%20%24%28%60%3Cdiv%20id%3D%22html_0eccabc2534d424ab133f02e3e948b14%22%20style%3D%22width%3A%20100.0%25%3B%20height%3A%20100.0%25%3B%22%3E0%20%20%20%20%20Downtown%20Toronto%201%20%20%20%20%20Downtown%20Toronto%202%20%20%20%20%20Downtown%20Toronto%203%20%20%20%20%20%20%20%20%20East%20Toronto%204%20%20%20%20%20Downtown%20Toronto%205%20%20%20%20%20Downtown%20Toronto%206%20%20%20%20%20Downtown%20Toronto%207%20%20%20%20%20Downtown%20Toronto%208%20%20%20%20%20%20%20%20%20West%20Toronto%209%20%20%20%20%20%20%20%20%20East%20Toronto%2010%20%20%20%20Downtown%20Toronto%2011%20%20%20%20%20%20%20%20West%20Toronto%2012%20%20%20%20%20%20%20%20East%20Toronto%2013%20%20%20%20Downtown%20Toronto%2014%20%20%20%20%20%20%20%20West%20Toronto%2015%20%20%20%20%20%20%20%20East%20Toronto%2016%20%20%20%20Downtown%20Toronto%2017%20%20%20%20%20%20%20%20East%20Toronto%2018%20%20%20%20%20Central%20Toronto%2019%20%20%20%20%20Central%20Toronto%2020%20%20%20%20%20Central%20Toronto%2021%20%20%20%20%20Central%20Toronto%2022%20%20%20%20%20%20%20%20West%20Toronto%2023%20%20%20%20%20Central%20Toronto%2024%20%20%20%20%20Central%20Toronto%2025%20%20%20%20%20%20%20%20West%20Toronto%2026%20%20%20%20%20Central%20Toronto%2027%20%20%20%20Downtown%20Toronto%2028%20%20%20%20%20%20%20%20West%20Toronto%2029%20%20%20%20%20Central%20Toronto%2030%20%20%20%20Downtown%20Toronto%2031%20%20%20%20%20Central%20Toronto%2032%20%20%20%20Downtown%20Toronto%2033%20%20%20%20Downtown%20Toronto%2034%20%20%20%20Downtown%20Toronto%2035%20%20%20%20Downtown%20Toronto%2036%20%20%20%20Downtown%20Toronto%2037%20%20%20%20Downtown%20Toronto%2038%20%20%20%20%20%20%20%20East%20Toronto%20Name%3A%20Borough%2C%20dtype%3A%20object%20Cluster%202%3C/div%3E%60%29%5B0%5D%3B%0A%20%20%20%20%20%20%20%20%20%20%20%20%20%20%20%20popup_73b168205cea453aa176bee692b9ed9d.setContent%28html_0eccabc2534d424ab133f02e3e948b14%29%3B%0A%20%20%20%20%20%20%20%20%20%20%20%20%0A%0A%20%20%20%20%20%20%20%20%20%20%20%20circle_marker_6ecacb1672c84a15a3e536af9483d6af.bindPopup%28popup_73b168205cea453aa176bee692b9ed9d%29%0A%20%20%20%20%20%20%20%20%20%20%20%20%3B%0A%0A%20%20%20%20%20%20%20%20%20%20%20%20%0A%20%20%20%20%20%20%20%20%0A%20%20%20%20%0A%20%20%20%20%20%20%20%20%20%20%20%20var%20circle_marker_acc58fa6052345818fb4bc78263f7fd0%20%3D%20L.circleMarker%28%0A%20%20%20%20%20%20%20%20%20%20%20%20%20%20%20%20%5B43.6895743%2C%20-79.38315990000001%5D%2C%0A%20%20%20%20%20%20%20%20%20%20%20%20%20%20%20%20%7B%0A%20%20%22bubblingMouseEvents%22%3A%20true%2C%0A%20%20%22color%22%3A%20%22%238000ff%22%2C%0A%20%20%22dashArray%22%3A%20null%2C%0A%20%20%22dashOffset%22%3A%20null%2C%0A%20%20%22fill%22%3A%20true%2C%0A%20%20%22fillColor%22%3A%20%22%238000ff%22%2C%0A%20%20%22fillOpacity%22%3A%200.7%2C%0A%20%20%22fillRule%22%3A%20%22evenodd%22%2C%0A%20%20%22lineCap%22%3A%20%22round%22%2C%0A%20%20%22lineJoin%22%3A%20%22round%22%2C%0A%20%20%22opacity%22%3A%201.0%2C%0A%20%20%22radius%22%3A%205%2C%0A%20%20%22stroke%22%3A%20true%2C%0A%20%20%22weight%22%3A%203%0A%7D%0A%20%20%20%20%20%20%20%20%20%20%20%20%20%20%20%20%29%0A%20%20%20%20%20%20%20%20%20%20%20%20%20%20%20%20.addTo%28map_69226580856149209fccfbf118501555%29%3B%0A%20%20%20%20%20%20%20%20%20%20%20%20%0A%20%20%20%20%0A%20%20%20%20%20%20%20%20%20%20%20%20var%20popup_d78d8adfd6b54bf0a208201ca3df6aab%20%3D%20L.popup%28%7BmaxWidth%3A%20%27100%25%27%0A%20%20%20%20%20%20%20%20%20%20%20%20%0A%20%20%20%20%20%20%20%20%20%20%20%20%7D%29%3B%0A%0A%20%20%20%20%20%20%20%20%20%20%20%20%0A%20%20%20%20%20%20%20%20%20%20%20%20%20%20%20%20var%20html_0bb826fd57a74ce3a6d12ae404189a39%20%3D%20%24%28%60%3Cdiv%20id%3D%22html_0bb826fd57a74ce3a6d12ae404189a39%22%20style%3D%22width%3A%20100.0%25%3B%20height%3A%20100.0%25%3B%22%3E0%20%20%20%20%20Downtown%20Toronto%201%20%20%20%20%20Downtown%20Toronto%202%20%20%20%20%20Downtown%20Toronto%203%20%20%20%20%20%20%20%20%20East%20Toronto%204%20%20%20%20%20Downtown%20Toronto%205%20%20%20%20%20Downtown%20Toronto%206%20%20%20%20%20Downtown%20Toronto%207%20%20%20%20%20Downtown%20Toronto%208%20%20%20%20%20%20%20%20%20West%20Toronto%209%20%20%20%20%20%20%20%20%20East%20Toronto%2010%20%20%20%20Downtown%20Toronto%2011%20%20%20%20%20%20%20%20West%20Toronto%2012%20%20%20%20%20%20%20%20East%20Toronto%2013%20%20%20%20Downtown%20Toronto%2014%20%20%20%20%20%20%20%20West%20Toronto%2015%20%20%20%20%20%20%20%20East%20Toronto%2016%20%20%20%20Downtown%20Toronto%2017%20%20%20%20%20%20%20%20East%20Toronto%2018%20%20%20%20%20Central%20Toronto%2019%20%20%20%20%20Central%20Toronto%2020%20%20%20%20%20Central%20Toronto%2021%20%20%20%20%20Central%20Toronto%2022%20%20%20%20%20%20%20%20West%20Toronto%2023%20%20%20%20%20Central%20Toronto%2024%20%20%20%20%20Central%20Toronto%2025%20%20%20%20%20%20%20%20West%20Toronto%2026%20%20%20%20%20Central%20Toronto%2027%20%20%20%20Downtown%20Toronto%2028%20%20%20%20%20%20%20%20West%20Toronto%2029%20%20%20%20%20Central%20Toronto%2030%20%20%20%20Downtown%20Toronto%2031%20%20%20%20%20Central%20Toronto%2032%20%20%20%20Downtown%20Toronto%2033%20%20%20%20Downtown%20Toronto%2034%20%20%20%20Downtown%20Toronto%2035%20%20%20%20Downtown%20Toronto%2036%20%20%20%20Downtown%20Toronto%2037%20%20%20%20Downtown%20Toronto%2038%20%20%20%20%20%20%20%20East%20Toronto%20Name%3A%20Borough%2C%20dtype%3A%20object%20Cluster%201%3C/div%3E%60%29%5B0%5D%3B%0A%20%20%20%20%20%20%20%20%20%20%20%20%20%20%20%20popup_d78d8adfd6b54bf0a208201ca3df6aab.setContent%28html_0bb826fd57a74ce3a6d12ae404189a39%29%3B%0A%20%20%20%20%20%20%20%20%20%20%20%20%0A%0A%20%20%20%20%20%20%20%20%20%20%20%20circle_marker_acc58fa6052345818fb4bc78263f7fd0.bindPopup%28popup_d78d8adfd6b54bf0a208201ca3df6aab%29%0A%20%20%20%20%20%20%20%20%20%20%20%20%3B%0A%0A%20%20%20%20%20%20%20%20%20%20%20%20%0A%20%20%20%20%20%20%20%20%0A%20%20%20%20%0A%20%20%20%20%20%20%20%20%20%20%20%20var%20circle_marker_afca403c394e44fc8445d57ba8f27237%20%3D%20L.circleMarker%28%0A%20%20%20%20%20%20%20%20%20%20%20%20%20%20%20%20%5B43.6532057%2C%20-79.4000493%5D%2C%0A%20%20%20%20%20%20%20%20%20%20%20%20%20%20%20%20%7B%0A%20%20%22bubblingMouseEvents%22%3A%20true%2C%0A%20%20%22color%22%3A%20%22%23ff0000%22%2C%0A%20%20%22dashArray%22%3A%20null%2C%0A%20%20%22dashOffset%22%3A%20null%2C%0A%20%20%22fill%22%3A%20true%2C%0A%20%20%22fillColor%22%3A%20%22%23ff0000%22%2C%0A%20%20%22fillOpacity%22%3A%200.7%2C%0A%20%20%22fillRule%22%3A%20%22evenodd%22%2C%0A%20%20%22lineCap%22%3A%20%22round%22%2C%0A%20%20%22lineJoin%22%3A%20%22round%22%2C%0A%20%20%22opacity%22%3A%201.0%2C%0A%20%20%22radius%22%3A%205%2C%0A%20%20%22stroke%22%3A%20true%2C%0A%20%20%22weight%22%3A%203%0A%7D%0A%20%20%20%20%20%20%20%20%20%20%20%20%20%20%20%20%29%0A%20%20%20%20%20%20%20%20%20%20%20%20%20%20%20%20.addTo%28map_69226580856149209fccfbf118501555%29%3B%0A%20%20%20%20%20%20%20%20%20%20%20%20%0A%20%20%20%20%0A%20%20%20%20%20%20%20%20%20%20%20%20var%20popup_be5d5b63592c4e54a4f598a104b09456%20%3D%20L.popup%28%7BmaxWidth%3A%20%27100%25%27%0A%20%20%20%20%20%20%20%20%20%20%20%20%0A%20%20%20%20%20%20%20%20%20%20%20%20%7D%29%3B%0A%0A%20%20%20%20%20%20%20%20%20%20%20%20%0A%20%20%20%20%20%20%20%20%20%20%20%20%20%20%20%20var%20html_d9593c46c9eb42eaae11afd4a61b3294%20%3D%20%24%28%60%3Cdiv%20id%3D%22html_d9593c46c9eb42eaae11afd4a61b3294%22%20style%3D%22width%3A%20100.0%25%3B%20height%3A%20100.0%25%3B%22%3E0%20%20%20%20%20Downtown%20Toronto%201%20%20%20%20%20Downtown%20Toronto%202%20%20%20%20%20Downtown%20Toronto%203%20%20%20%20%20%20%20%20%20East%20Toronto%204%20%20%20%20%20Downtown%20Toronto%205%20%20%20%20%20Downtown%20Toronto%206%20%20%20%20%20Downtown%20Toronto%207%20%20%20%20%20Downtown%20Toronto%208%20%20%20%20%20%20%20%20%20West%20Toronto%209%20%20%20%20%20%20%20%20%20East%20Toronto%2010%20%20%20%20Downtown%20Toronto%2011%20%20%20%20%20%20%20%20West%20Toronto%2012%20%20%20%20%20%20%20%20East%20Toronto%2013%20%20%20%20Downtown%20Toronto%2014%20%20%20%20%20%20%20%20West%20Toronto%2015%20%20%20%20%20%20%20%20East%20Toronto%2016%20%20%20%20Downtown%20Toronto%2017%20%20%20%20%20%20%20%20East%20Toronto%2018%20%20%20%20%20Central%20Toronto%2019%20%20%20%20%20Central%20Toronto%2020%20%20%20%20%20Central%20Toronto%2021%20%20%20%20%20Central%20Toronto%2022%20%20%20%20%20%20%20%20West%20Toronto%2023%20%20%20%20%20Central%20Toronto%2024%20%20%20%20%20Central%20Toronto%2025%20%20%20%20%20%20%20%20West%20Toronto%2026%20%20%20%20%20Central%20Toronto%2027%20%20%20%20Downtown%20Toronto%2028%20%20%20%20%20%20%20%20West%20Toronto%2029%20%20%20%20%20Central%20Toronto%2030%20%20%20%20Downtown%20Toronto%2031%20%20%20%20%20Central%20Toronto%2032%20%20%20%20Downtown%20Toronto%2033%20%20%20%20Downtown%20Toronto%2034%20%20%20%20Downtown%20Toronto%2035%20%20%20%20Downtown%20Toronto%2036%20%20%20%20Downtown%20Toronto%2037%20%20%20%20Downtown%20Toronto%2038%20%20%20%20%20%20%20%20East%20Toronto%20Name%3A%20Borough%2C%20dtype%3A%20object%20Cluster%204%3C/div%3E%60%29%5B0%5D%3B%0A%20%20%20%20%20%20%20%20%20%20%20%20%20%20%20%20popup_be5d5b63592c4e54a4f598a104b09456.setContent%28html_d9593c46c9eb42eaae11afd4a61b3294%29%3B%0A%20%20%20%20%20%20%20%20%20%20%20%20%0A%0A%20%20%20%20%20%20%20%20%20%20%20%20circle_marker_afca403c394e44fc8445d57ba8f27237.bindPopup%28popup_be5d5b63592c4e54a4f598a104b09456%29%0A%20%20%20%20%20%20%20%20%20%20%20%20%3B%0A%0A%20%20%20%20%20%20%20%20%20%20%20%20%0A%20%20%20%20%20%20%20%20%0A%20%20%20%20%0A%20%20%20%20%20%20%20%20%20%20%20%20var%20circle_marker_86cc10229630408ca3f9f4e1e23fec61%20%3D%20L.circleMarker%28%0A%20%20%20%20%20%20%20%20%20%20%20%20%20%20%20%20%5B43.68641229999999%2C%20-79.4000493%5D%2C%0A%20%20%20%20%20%20%20%20%20%20%20%20%20%20%20%20%7B%0A%20%20%22bubblingMouseEvents%22%3A%20true%2C%0A%20%20%22color%22%3A%20%22%238000ff%22%2C%0A%20%20%22dashArray%22%3A%20null%2C%0A%20%20%22dashOffset%22%3A%20null%2C%0A%20%20%22fill%22%3A%20true%2C%0A%20%20%22fillColor%22%3A%20%22%238000ff%22%2C%0A%20%20%22fillOpacity%22%3A%200.7%2C%0A%20%20%22fillRule%22%3A%20%22evenodd%22%2C%0A%20%20%22lineCap%22%3A%20%22round%22%2C%0A%20%20%22lineJoin%22%3A%20%22round%22%2C%0A%20%20%22opacity%22%3A%201.0%2C%0A%20%20%22radius%22%3A%205%2C%0A%20%20%22stroke%22%3A%20true%2C%0A%20%20%22weight%22%3A%203%0A%7D%0A%20%20%20%20%20%20%20%20%20%20%20%20%20%20%20%20%29%0A%20%20%20%20%20%20%20%20%20%20%20%20%20%20%20%20.addTo%28map_69226580856149209fccfbf118501555%29%3B%0A%20%20%20%20%20%20%20%20%20%20%20%20%0A%20%20%20%20%0A%20%20%20%20%20%20%20%20%20%20%20%20var%20popup_b3cc3a977e7c48dc8fb5df9d486cd3c3%20%3D%20L.popup%28%7BmaxWidth%3A%20%27100%25%27%0A%20%20%20%20%20%20%20%20%20%20%20%20%0A%20%20%20%20%20%20%20%20%20%20%20%20%7D%29%3B%0A%0A%20%20%20%20%20%20%20%20%20%20%20%20%0A%20%20%20%20%20%20%20%20%20%20%20%20%20%20%20%20var%20html_5c117e4c3ab04c78a13d84df6f8a4ef0%20%3D%20%24%28%60%3Cdiv%20id%3D%22html_5c117e4c3ab04c78a13d84df6f8a4ef0%22%20style%3D%22width%3A%20100.0%25%3B%20height%3A%20100.0%25%3B%22%3E0%20%20%20%20%20Downtown%20Toronto%201%20%20%20%20%20Downtown%20Toronto%202%20%20%20%20%20Downtown%20Toronto%203%20%20%20%20%20%20%20%20%20East%20Toronto%204%20%20%20%20%20Downtown%20Toronto%205%20%20%20%20%20Downtown%20Toronto%206%20%20%20%20%20Downtown%20Toronto%207%20%20%20%20%20Downtown%20Toronto%208%20%20%20%20%20%20%20%20%20West%20Toronto%209%20%20%20%20%20%20%20%20%20East%20Toronto%2010%20%20%20%20Downtown%20Toronto%2011%20%20%20%20%20%20%20%20West%20Toronto%2012%20%20%20%20%20%20%20%20East%20Toronto%2013%20%20%20%20Downtown%20Toronto%2014%20%20%20%20%20%20%20%20West%20Toronto%2015%20%20%20%20%20%20%20%20East%20Toronto%2016%20%20%20%20Downtown%20Toronto%2017%20%20%20%20%20%20%20%20East%20Toronto%2018%20%20%20%20%20Central%20Toronto%2019%20%20%20%20%20Central%20Toronto%2020%20%20%20%20%20Central%20Toronto%2021%20%20%20%20%20Central%20Toronto%2022%20%20%20%20%20%20%20%20West%20Toronto%2023%20%20%20%20%20Central%20Toronto%2024%20%20%20%20%20Central%20Toronto%2025%20%20%20%20%20%20%20%20West%20Toronto%2026%20%20%20%20%20Central%20Toronto%2027%20%20%20%20Downtown%20Toronto%2028%20%20%20%20%20%20%20%20West%20Toronto%2029%20%20%20%20%20Central%20Toronto%2030%20%20%20%20Downtown%20Toronto%2031%20%20%20%20%20Central%20Toronto%2032%20%20%20%20Downtown%20Toronto%2033%20%20%20%20Downtown%20Toronto%2034%20%20%20%20Downtown%20Toronto%2035%20%20%20%20Downtown%20Toronto%2036%20%20%20%20Downtown%20Toronto%2037%20%20%20%20Downtown%20Toronto%2038%20%20%20%20%20%20%20%20East%20Toronto%20Name%3A%20Borough%2C%20dtype%3A%20object%20Cluster%201%3C/div%3E%60%29%5B0%5D%3B%0A%20%20%20%20%20%20%20%20%20%20%20%20%20%20%20%20popup_b3cc3a977e7c48dc8fb5df9d486cd3c3.setContent%28html_5c117e4c3ab04c78a13d84df6f8a4ef0%29%3B%0A%20%20%20%20%20%20%20%20%20%20%20%20%0A%0A%20%20%20%20%20%20%20%20%20%20%20%20circle_marker_86cc10229630408ca3f9f4e1e23fec61.bindPopup%28popup_b3cc3a977e7c48dc8fb5df9d486cd3c3%29%0A%20%20%20%20%20%20%20%20%20%20%20%20%3B%0A%0A%20%20%20%20%20%20%20%20%20%20%20%20%0A%20%20%20%20%20%20%20%20%0A%20%20%20%20%0A%20%20%20%20%20%20%20%20%20%20%20%20var%20circle_marker_d85dc039b1c74a718118d3da7971f26a%20%3D%20L.circleMarker%28%0A%20%20%20%20%20%20%20%20%20%20%20%20%20%20%20%20%5B43.6289467%2C%20-79.3944199%5D%2C%0A%20%20%20%20%20%20%20%20%20%20%20%20%20%20%20%20%7B%0A%20%20%22bubblingMouseEvents%22%3A%20true%2C%0A%20%20%22color%22%3A%20%22%23ff0000%22%2C%0A%20%20%22dashArray%22%3A%20null%2C%0A%20%20%22dashOffset%22%3A%20null%2C%0A%20%20%22fill%22%3A%20true%2C%0A%20%20%22fillColor%22%3A%20%22%23ff0000%22%2C%0A%20%20%22fillOpacity%22%3A%200.7%2C%0A%20%20%22fillRule%22%3A%20%22evenodd%22%2C%0A%20%20%22lineCap%22%3A%20%22round%22%2C%0A%20%20%22lineJoin%22%3A%20%22round%22%2C%0A%20%20%22opacity%22%3A%201.0%2C%0A%20%20%22radius%22%3A%205%2C%0A%20%20%22stroke%22%3A%20true%2C%0A%20%20%22weight%22%3A%203%0A%7D%0A%20%20%20%20%20%20%20%20%20%20%20%20%20%20%20%20%29%0A%20%20%20%20%20%20%20%20%20%20%20%20%20%20%20%20.addTo%28map_69226580856149209fccfbf118501555%29%3B%0A%20%20%20%20%20%20%20%20%20%20%20%20%0A%20%20%20%20%0A%20%20%20%20%20%20%20%20%20%20%20%20var%20popup_3b8cb609b02e46ed94cc0a04ebbb428b%20%3D%20L.popup%28%7BmaxWidth%3A%20%27100%25%27%0A%20%20%20%20%20%20%20%20%20%20%20%20%0A%20%20%20%20%20%20%20%20%20%20%20%20%7D%29%3B%0A%0A%20%20%20%20%20%20%20%20%20%20%20%20%0A%20%20%20%20%20%20%20%20%20%20%20%20%20%20%20%20var%20html_92863a3d2ed24ad79e4a917fa129c58c%20%3D%20%24%28%60%3Cdiv%20id%3D%22html_92863a3d2ed24ad79e4a917fa129c58c%22%20style%3D%22width%3A%20100.0%25%3B%20height%3A%20100.0%25%3B%22%3E0%20%20%20%20%20Downtown%20Toronto%201%20%20%20%20%20Downtown%20Toronto%202%20%20%20%20%20Downtown%20Toronto%203%20%20%20%20%20%20%20%20%20East%20Toronto%204%20%20%20%20%20Downtown%20Toronto%205%20%20%20%20%20Downtown%20Toronto%206%20%20%20%20%20Downtown%20Toronto%207%20%20%20%20%20Downtown%20Toronto%208%20%20%20%20%20%20%20%20%20West%20Toronto%209%20%20%20%20%20%20%20%20%20East%20Toronto%2010%20%20%20%20Downtown%20Toronto%2011%20%20%20%20%20%20%20%20West%20Toronto%2012%20%20%20%20%20%20%20%20East%20Toronto%2013%20%20%20%20Downtown%20Toronto%2014%20%20%20%20%20%20%20%20West%20Toronto%2015%20%20%20%20%20%20%20%20East%20Toronto%2016%20%20%20%20Downtown%20Toronto%2017%20%20%20%20%20%20%20%20East%20Toronto%2018%20%20%20%20%20Central%20Toronto%2019%20%20%20%20%20Central%20Toronto%2020%20%20%20%20%20Central%20Toronto%2021%20%20%20%20%20Central%20Toronto%2022%20%20%20%20%20%20%20%20West%20Toronto%2023%20%20%20%20%20Central%20Toronto%2024%20%20%20%20%20Central%20Toronto%2025%20%20%20%20%20%20%20%20West%20Toronto%2026%20%20%20%20%20Central%20Toronto%2027%20%20%20%20Downtown%20Toronto%2028%20%20%20%20%20%20%20%20West%20Toronto%2029%20%20%20%20%20Central%20Toronto%2030%20%20%20%20Downtown%20Toronto%2031%20%20%20%20%20Central%20Toronto%2032%20%20%20%20Downtown%20Toronto%2033%20%20%20%20Downtown%20Toronto%2034%20%20%20%20Downtown%20Toronto%2035%20%20%20%20Downtown%20Toronto%2036%20%20%20%20Downtown%20Toronto%2037%20%20%20%20Downtown%20Toronto%2038%20%20%20%20%20%20%20%20East%20Toronto%20Name%3A%20Borough%2C%20dtype%3A%20object%20Cluster%204%3C/div%3E%60%29%5B0%5D%3B%0A%20%20%20%20%20%20%20%20%20%20%20%20%20%20%20%20popup_3b8cb609b02e46ed94cc0a04ebbb428b.setContent%28html_92863a3d2ed24ad79e4a917fa129c58c%29%3B%0A%20%20%20%20%20%20%20%20%20%20%20%20%0A%0A%20%20%20%20%20%20%20%20%20%20%20%20circle_marker_d85dc039b1c74a718118d3da7971f26a.bindPopup%28popup_3b8cb609b02e46ed94cc0a04ebbb428b%29%0A%20%20%20%20%20%20%20%20%20%20%20%20%3B%0A%0A%20%20%20%20%20%20%20%20%20%20%20%20%0A%20%20%20%20%20%20%20%20%0A%20%20%20%20%0A%20%20%20%20%20%20%20%20%20%20%20%20var%20circle_marker_cd852fee83b1481d943898833e6d0fec%20%3D%20L.circleMarker%28%0A%20%20%20%20%20%20%20%20%20%20%20%20%20%20%20%20%5B43.6795626%2C%20-79.37752940000001%5D%2C%0A%20%20%20%20%20%20%20%20%20%20%20%20%20%20%20%20%7B%0A%20%20%22bubblingMouseEvents%22%3A%20true%2C%0A%20%20%22color%22%3A%20%22%23ff0000%22%2C%0A%20%20%22dashArray%22%3A%20null%2C%0A%20%20%22dashOffset%22%3A%20null%2C%0A%20%20%22fill%22%3A%20true%2C%0A%20%20%22fillColor%22%3A%20%22%23ff0000%22%2C%0A%20%20%22fillOpacity%22%3A%200.7%2C%0A%20%20%22fillRule%22%3A%20%22evenodd%22%2C%0A%20%20%22lineCap%22%3A%20%22round%22%2C%0A%20%20%22lineJoin%22%3A%20%22round%22%2C%0A%20%20%22opacity%22%3A%201.0%2C%0A%20%20%22radius%22%3A%205%2C%0A%20%20%22stroke%22%3A%20true%2C%0A%20%20%22weight%22%3A%203%0A%7D%0A%20%20%20%20%20%20%20%20%20%20%20%20%20%20%20%20%29%0A%20%20%20%20%20%20%20%20%20%20%20%20%20%20%20%20.addTo%28map_69226580856149209fccfbf118501555%29%3B%0A%20%20%20%20%20%20%20%20%20%20%20%20%0A%20%20%20%20%0A%20%20%20%20%20%20%20%20%20%20%20%20var%20popup_7a92cd88a8f74c5c9eba689058905f3d%20%3D%20L.popup%28%7BmaxWidth%3A%20%27100%25%27%0A%20%20%20%20%20%20%20%20%20%20%20%20%0A%20%20%20%20%20%20%20%20%20%20%20%20%7D%29%3B%0A%0A%20%20%20%20%20%20%20%20%20%20%20%20%0A%20%20%20%20%20%20%20%20%20%20%20%20%20%20%20%20var%20html_3681baa81f184ebca345911c402b84b0%20%3D%20%24%28%60%3Cdiv%20id%3D%22html_3681baa81f184ebca345911c402b84b0%22%20style%3D%22width%3A%20100.0%25%3B%20height%3A%20100.0%25%3B%22%3E0%20%20%20%20%20Downtown%20Toronto%201%20%20%20%20%20Downtown%20Toronto%202%20%20%20%20%20Downtown%20Toronto%203%20%20%20%20%20%20%20%20%20East%20Toronto%204%20%20%20%20%20Downtown%20Toronto%205%20%20%20%20%20Downtown%20Toronto%206%20%20%20%20%20Downtown%20Toronto%207%20%20%20%20%20Downtown%20Toronto%208%20%20%20%20%20%20%20%20%20West%20Toronto%209%20%20%20%20%20%20%20%20%20East%20Toronto%2010%20%20%20%20Downtown%20Toronto%2011%20%20%20%20%20%20%20%20West%20Toronto%2012%20%20%20%20%20%20%20%20East%20Toronto%2013%20%20%20%20Downtown%20Toronto%2014%20%20%20%20%20%20%20%20West%20Toronto%2015%20%20%20%20%20%20%20%20East%20Toronto%2016%20%20%20%20Downtown%20Toronto%2017%20%20%20%20%20%20%20%20East%20Toronto%2018%20%20%20%20%20Central%20Toronto%2019%20%20%20%20%20Central%20Toronto%2020%20%20%20%20%20Central%20Toronto%2021%20%20%20%20%20Central%20Toronto%2022%20%20%20%20%20%20%20%20West%20Toronto%2023%20%20%20%20%20Central%20Toronto%2024%20%20%20%20%20Central%20Toronto%2025%20%20%20%20%20%20%20%20West%20Toronto%2026%20%20%20%20%20Central%20Toronto%2027%20%20%20%20Downtown%20Toronto%2028%20%20%20%20%20%20%20%20West%20Toronto%2029%20%20%20%20%20Central%20Toronto%2030%20%20%20%20Downtown%20Toronto%2031%20%20%20%20%20Central%20Toronto%2032%20%20%20%20Downtown%20Toronto%2033%20%20%20%20Downtown%20Toronto%2034%20%20%20%20Downtown%20Toronto%2035%20%20%20%20Downtown%20Toronto%2036%20%20%20%20Downtown%20Toronto%2037%20%20%20%20Downtown%20Toronto%2038%20%20%20%20%20%20%20%20East%20Toronto%20Name%3A%20Borough%2C%20dtype%3A%20object%20Cluster%204%3C/div%3E%60%29%5B0%5D%3B%0A%20%20%20%20%20%20%20%20%20%20%20%20%20%20%20%20popup_7a92cd88a8f74c5c9eba689058905f3d.setContent%28html_3681baa81f184ebca345911c402b84b0%29%3B%0A%20%20%20%20%20%20%20%20%20%20%20%20%0A%0A%20%20%20%20%20%20%20%20%20%20%20%20circle_marker_cd852fee83b1481d943898833e6d0fec.bindPopup%28popup_7a92cd88a8f74c5c9eba689058905f3d%29%0A%20%20%20%20%20%20%20%20%20%20%20%20%3B%0A%0A%20%20%20%20%20%20%20%20%20%20%20%20%0A%20%20%20%20%20%20%20%20%0A%20%20%20%20%0A%20%20%20%20%20%20%20%20%20%20%20%20var%20circle_marker_e204138b016c4b578f86621f6e1a5770%20%3D%20L.circleMarker%28%0A%20%20%20%20%20%20%20%20%20%20%20%20%20%20%20%20%5B43.6464352%2C%20-79.37484599999999%5D%2C%0A%20%20%20%20%20%20%20%20%20%20%20%20%20%20%20%20%7B%0A%20%20%22bubblingMouseEvents%22%3A%20true%2C%0A%20%20%22color%22%3A%20%22%23ff0000%22%2C%0A%20%20%22dashArray%22%3A%20null%2C%0A%20%20%22dashOffset%22%3A%20null%2C%0A%20%20%22fill%22%3A%20true%2C%0A%20%20%22fillColor%22%3A%20%22%23ff0000%22%2C%0A%20%20%22fillOpacity%22%3A%200.7%2C%0A%20%20%22fillRule%22%3A%20%22evenodd%22%2C%0A%20%20%22lineCap%22%3A%20%22round%22%2C%0A%20%20%22lineJoin%22%3A%20%22round%22%2C%0A%20%20%22opacity%22%3A%201.0%2C%0A%20%20%22radius%22%3A%205%2C%0A%20%20%22stroke%22%3A%20true%2C%0A%20%20%22weight%22%3A%203%0A%7D%0A%20%20%20%20%20%20%20%20%20%20%20%20%20%20%20%20%29%0A%20%20%20%20%20%20%20%20%20%20%20%20%20%20%20%20.addTo%28map_69226580856149209fccfbf118501555%29%3B%0A%20%20%20%20%20%20%20%20%20%20%20%20%0A%20%20%20%20%0A%20%20%20%20%20%20%20%20%20%20%20%20var%20popup_4dfbd28e08b34c9d962d4e7374f17d68%20%3D%20L.popup%28%7BmaxWidth%3A%20%27100%25%27%0A%20%20%20%20%20%20%20%20%20%20%20%20%0A%20%20%20%20%20%20%20%20%20%20%20%20%7D%29%3B%0A%0A%20%20%20%20%20%20%20%20%20%20%20%20%0A%20%20%20%20%20%20%20%20%20%20%20%20%20%20%20%20var%20html_351a5a2e7f194daaa4918d370242f281%20%3D%20%24%28%60%3Cdiv%20id%3D%22html_351a5a2e7f194daaa4918d370242f281%22%20style%3D%22width%3A%20100.0%25%3B%20height%3A%20100.0%25%3B%22%3E0%20%20%20%20%20Downtown%20Toronto%201%20%20%20%20%20Downtown%20Toronto%202%20%20%20%20%20Downtown%20Toronto%203%20%20%20%20%20%20%20%20%20East%20Toronto%204%20%20%20%20%20Downtown%20Toronto%205%20%20%20%20%20Downtown%20Toronto%206%20%20%20%20%20Downtown%20Toronto%207%20%20%20%20%20Downtown%20Toronto%208%20%20%20%20%20%20%20%20%20West%20Toronto%209%20%20%20%20%20%20%20%20%20East%20Toronto%2010%20%20%20%20Downtown%20Toronto%2011%20%20%20%20%20%20%20%20West%20Toronto%2012%20%20%20%20%20%20%20%20East%20Toronto%2013%20%20%20%20Downtown%20Toronto%2014%20%20%20%20%20%20%20%20West%20Toronto%2015%20%20%20%20%20%20%20%20East%20Toronto%2016%20%20%20%20Downtown%20Toronto%2017%20%20%20%20%20%20%20%20East%20Toronto%2018%20%20%20%20%20Central%20Toronto%2019%20%20%20%20%20Central%20Toronto%2020%20%20%20%20%20Central%20Toronto%2021%20%20%20%20%20Central%20Toronto%2022%20%20%20%20%20%20%20%20West%20Toronto%2023%20%20%20%20%20Central%20Toronto%2024%20%20%20%20%20Central%20Toronto%2025%20%20%20%20%20%20%20%20West%20Toronto%2026%20%20%20%20%20Central%20Toronto%2027%20%20%20%20Downtown%20Toronto%2028%20%20%20%20%20%20%20%20West%20Toronto%2029%20%20%20%20%20Central%20Toronto%2030%20%20%20%20Downtown%20Toronto%2031%20%20%20%20%20Central%20Toronto%2032%20%20%20%20Downtown%20Toronto%2033%20%20%20%20Downtown%20Toronto%2034%20%20%20%20Downtown%20Toronto%2035%20%20%20%20Downtown%20Toronto%2036%20%20%20%20Downtown%20Toronto%2037%20%20%20%20Downtown%20Toronto%2038%20%20%20%20%20%20%20%20East%20Toronto%20Name%3A%20Borough%2C%20dtype%3A%20object%20Cluster%204%3C/div%3E%60%29%5B0%5D%3B%0A%20%20%20%20%20%20%20%20%20%20%20%20%20%20%20%20popup_4dfbd28e08b34c9d962d4e7374f17d68.setContent%28html_351a5a2e7f194daaa4918d370242f281%29%3B%0A%20%20%20%20%20%20%20%20%20%20%20%20%0A%0A%20%20%20%20%20%20%20%20%20%20%20%20circle_marker_e204138b016c4b578f86621f6e1a5770.bindPopup%28popup_4dfbd28e08b34c9d962d4e7374f17d68%29%0A%20%20%20%20%20%20%20%20%20%20%20%20%3B%0A%0A%20%20%20%20%20%20%20%20%20%20%20%20%0A%20%20%20%20%20%20%20%20%0A%20%20%20%20%0A%20%20%20%20%20%20%20%20%20%20%20%20var%20circle_marker_e611542755d24ebaabbd03b0b8eb8058%20%3D%20L.circleMarker%28%0A%20%20%20%20%20%20%20%20%20%20%20%20%20%20%20%20%5B43.667967%2C%20-79.3676753%5D%2C%0A%20%20%20%20%20%20%20%20%20%20%20%20%20%20%20%20%7B%0A%20%20%22bubblingMouseEvents%22%3A%20true%2C%0A%20%20%22color%22%3A%20%22%23ff0000%22%2C%0A%20%20%22dashArray%22%3A%20null%2C%0A%20%20%22dashOffset%22%3A%20null%2C%0A%20%20%22fill%22%3A%20true%2C%0A%20%20%22fillColor%22%3A%20%22%23ff0000%22%2C%0A%20%20%22fillOpacity%22%3A%200.7%2C%0A%20%20%22fillRule%22%3A%20%22evenodd%22%2C%0A%20%20%22lineCap%22%3A%20%22round%22%2C%0A%20%20%22lineJoin%22%3A%20%22round%22%2C%0A%20%20%22opacity%22%3A%201.0%2C%0A%20%20%22radius%22%3A%205%2C%0A%20%20%22stroke%22%3A%20true%2C%0A%20%20%22weight%22%3A%203%0A%7D%0A%20%20%20%20%20%20%20%20%20%20%20%20%20%20%20%20%29%0A%20%20%20%20%20%20%20%20%20%20%20%20%20%20%20%20.addTo%28map_69226580856149209fccfbf118501555%29%3B%0A%20%20%20%20%20%20%20%20%20%20%20%20%0A%20%20%20%20%0A%20%20%20%20%20%20%20%20%20%20%20%20var%20popup_b3baf094eecb4cd7bf204993c6a2b27a%20%3D%20L.popup%28%7BmaxWidth%3A%20%27100%25%27%0A%20%20%20%20%20%20%20%20%20%20%20%20%0A%20%20%20%20%20%20%20%20%20%20%20%20%7D%29%3B%0A%0A%20%20%20%20%20%20%20%20%20%20%20%20%0A%20%20%20%20%20%20%20%20%20%20%20%20%20%20%20%20var%20html_0bdaa8242a4e41b8ae2bcc3d76e52a93%20%3D%20%24%28%60%3Cdiv%20id%3D%22html_0bdaa8242a4e41b8ae2bcc3d76e52a93%22%20style%3D%22width%3A%20100.0%25%3B%20height%3A%20100.0%25%3B%22%3E0%20%20%20%20%20Downtown%20Toronto%201%20%20%20%20%20Downtown%20Toronto%202%20%20%20%20%20Downtown%20Toronto%203%20%20%20%20%20%20%20%20%20East%20Toronto%204%20%20%20%20%20Downtown%20Toronto%205%20%20%20%20%20Downtown%20Toronto%206%20%20%20%20%20Downtown%20Toronto%207%20%20%20%20%20Downtown%20Toronto%208%20%20%20%20%20%20%20%20%20West%20Toronto%209%20%20%20%20%20%20%20%20%20East%20Toronto%2010%20%20%20%20Downtown%20Toronto%2011%20%20%20%20%20%20%20%20West%20Toronto%2012%20%20%20%20%20%20%20%20East%20Toronto%2013%20%20%20%20Downtown%20Toronto%2014%20%20%20%20%20%20%20%20West%20Toronto%2015%20%20%20%20%20%20%20%20East%20Toronto%2016%20%20%20%20Downtown%20Toronto%2017%20%20%20%20%20%20%20%20East%20Toronto%2018%20%20%20%20%20Central%20Toronto%2019%20%20%20%20%20Central%20Toronto%2020%20%20%20%20%20Central%20Toronto%2021%20%20%20%20%20Central%20Toronto%2022%20%20%20%20%20%20%20%20West%20Toronto%2023%20%20%20%20%20Central%20Toronto%2024%20%20%20%20%20Central%20Toronto%2025%20%20%20%20%20%20%20%20West%20Toronto%2026%20%20%20%20%20Central%20Toronto%2027%20%20%20%20Downtown%20Toronto%2028%20%20%20%20%20%20%20%20West%20Toronto%2029%20%20%20%20%20Central%20Toronto%2030%20%20%20%20Downtown%20Toronto%2031%20%20%20%20%20Central%20Toronto%2032%20%20%20%20Downtown%20Toronto%2033%20%20%20%20Downtown%20Toronto%2034%20%20%20%20Downtown%20Toronto%2035%20%20%20%20Downtown%20Toronto%2036%20%20%20%20Downtown%20Toronto%2037%20%20%20%20Downtown%20Toronto%2038%20%20%20%20%20%20%20%20East%20Toronto%20Name%3A%20Borough%2C%20dtype%3A%20object%20Cluster%204%3C/div%3E%60%29%5B0%5D%3B%0A%20%20%20%20%20%20%20%20%20%20%20%20%20%20%20%20popup_b3baf094eecb4cd7bf204993c6a2b27a.setContent%28html_0bdaa8242a4e41b8ae2bcc3d76e52a93%29%3B%0A%20%20%20%20%20%20%20%20%20%20%20%20%0A%0A%20%20%20%20%20%20%20%20%20%20%20%20circle_marker_e611542755d24ebaabbd03b0b8eb8058.bindPopup%28popup_b3baf094eecb4cd7bf204993c6a2b27a%29%0A%20%20%20%20%20%20%20%20%20%20%20%20%3B%0A%0A%20%20%20%20%20%20%20%20%20%20%20%20%0A%20%20%20%20%20%20%20%20%0A%20%20%20%20%0A%20%20%20%20%20%20%20%20%20%20%20%20var%20circle_marker_7ba1ab731e834ef88822bd15fdfce34a%20%3D%20L.circleMarker%28%0A%20%20%20%20%20%20%20%20%20%20%20%20%20%20%20%20%5B43.6484292%2C%20-79.3822802%5D%2C%0A%20%20%20%20%20%20%20%20%20%20%20%20%20%20%20%20%7B%0A%20%20%22bubblingMouseEvents%22%3A%20true%2C%0A%20%20%22color%22%3A%20%22%23ff0000%22%2C%0A%20%20%22dashArray%22%3A%20null%2C%0A%20%20%22dashOffset%22%3A%20null%2C%0A%20%20%22fill%22%3A%20true%2C%0A%20%20%22fillColor%22%3A%20%22%23ff0000%22%2C%0A%20%20%22fillOpacity%22%3A%200.7%2C%0A%20%20%22fillRule%22%3A%20%22evenodd%22%2C%0A%20%20%22lineCap%22%3A%20%22round%22%2C%0A%20%20%22lineJoin%22%3A%20%22round%22%2C%0A%20%20%22opacity%22%3A%201.0%2C%0A%20%20%22radius%22%3A%205%2C%0A%20%20%22stroke%22%3A%20true%2C%0A%20%20%22weight%22%3A%203%0A%7D%0A%20%20%20%20%20%20%20%20%20%20%20%20%20%20%20%20%29%0A%20%20%20%20%20%20%20%20%20%20%20%20%20%20%20%20.addTo%28map_69226580856149209fccfbf118501555%29%3B%0A%20%20%20%20%20%20%20%20%20%20%20%20%0A%20%20%20%20%0A%20%20%20%20%20%20%20%20%20%20%20%20var%20popup_ac913660a31f4c3a8cb9b2384cb4fd30%20%3D%20L.popup%28%7BmaxWidth%3A%20%27100%25%27%0A%20%20%20%20%20%20%20%20%20%20%20%20%0A%20%20%20%20%20%20%20%20%20%20%20%20%7D%29%3B%0A%0A%20%20%20%20%20%20%20%20%20%20%20%20%0A%20%20%20%20%20%20%20%20%20%20%20%20%20%20%20%20var%20html_805630a218f84c03987487ac350eb199%20%3D%20%24%28%60%3Cdiv%20id%3D%22html_805630a218f84c03987487ac350eb199%22%20style%3D%22width%3A%20100.0%25%3B%20height%3A%20100.0%25%3B%22%3E0%20%20%20%20%20Downtown%20Toronto%201%20%20%20%20%20Downtown%20Toronto%202%20%20%20%20%20Downtown%20Toronto%203%20%20%20%20%20%20%20%20%20East%20Toronto%204%20%20%20%20%20Downtown%20Toronto%205%20%20%20%20%20Downtown%20Toronto%206%20%20%20%20%20Downtown%20Toronto%207%20%20%20%20%20Downtown%20Toronto%208%20%20%20%20%20%20%20%20%20West%20Toronto%209%20%20%20%20%20%20%20%20%20East%20Toronto%2010%20%20%20%20Downtown%20Toronto%2011%20%20%20%20%20%20%20%20West%20Toronto%2012%20%20%20%20%20%20%20%20East%20Toronto%2013%20%20%20%20Downtown%20Toronto%2014%20%20%20%20%20%20%20%20West%20Toronto%2015%20%20%20%20%20%20%20%20East%20Toronto%2016%20%20%20%20Downtown%20Toronto%2017%20%20%20%20%20%20%20%20East%20Toronto%2018%20%20%20%20%20Central%20Toronto%2019%20%20%20%20%20Central%20Toronto%2020%20%20%20%20%20Central%20Toronto%2021%20%20%20%20%20Central%20Toronto%2022%20%20%20%20%20%20%20%20West%20Toronto%2023%20%20%20%20%20Central%20Toronto%2024%20%20%20%20%20Central%20Toronto%2025%20%20%20%20%20%20%20%20West%20Toronto%2026%20%20%20%20%20Central%20Toronto%2027%20%20%20%20Downtown%20Toronto%2028%20%20%20%20%20%20%20%20West%20Toronto%2029%20%20%20%20%20Central%20Toronto%2030%20%20%20%20Downtown%20Toronto%2031%20%20%20%20%20Central%20Toronto%2032%20%20%20%20Downtown%20Toronto%2033%20%20%20%20Downtown%20Toronto%2034%20%20%20%20Downtown%20Toronto%2035%20%20%20%20Downtown%20Toronto%2036%20%20%20%20Downtown%20Toronto%2037%20%20%20%20Downtown%20Toronto%2038%20%20%20%20%20%20%20%20East%20Toronto%20Name%3A%20Borough%2C%20dtype%3A%20object%20Cluster%204%3C/div%3E%60%29%5B0%5D%3B%0A%20%20%20%20%20%20%20%20%20%20%20%20%20%20%20%20popup_ac913660a31f4c3a8cb9b2384cb4fd30.setContent%28html_805630a218f84c03987487ac350eb199%29%3B%0A%20%20%20%20%20%20%20%20%20%20%20%20%0A%0A%20%20%20%20%20%20%20%20%20%20%20%20circle_marker_7ba1ab731e834ef88822bd15fdfce34a.bindPopup%28popup_ac913660a31f4c3a8cb9b2384cb4fd30%29%0A%20%20%20%20%20%20%20%20%20%20%20%20%3B%0A%0A%20%20%20%20%20%20%20%20%20%20%20%20%0A%20%20%20%20%20%20%20%20%0A%20%20%20%20%0A%20%20%20%20%20%20%20%20%20%20%20%20var%20circle_marker_06407d302a994809b96dd6f6e2bd98ce%20%3D%20L.circleMarker%28%0A%20%20%20%20%20%20%20%20%20%20%20%20%20%20%20%20%5B43.6658599%2C%20-79.38315990000001%5D%2C%0A%20%20%20%20%20%20%20%20%20%20%20%20%20%20%20%20%7B%0A%20%20%22bubblingMouseEvents%22%3A%20true%2C%0A%20%20%22color%22%3A%20%22%23ff0000%22%2C%0A%20%20%22dashArray%22%3A%20null%2C%0A%20%20%22dashOffset%22%3A%20null%2C%0A%20%20%22fill%22%3A%20true%2C%0A%20%20%22fillColor%22%3A%20%22%23ff0000%22%2C%0A%20%20%22fillOpacity%22%3A%200.7%2C%0A%20%20%22fillRule%22%3A%20%22evenodd%22%2C%0A%20%20%22lineCap%22%3A%20%22round%22%2C%0A%20%20%22lineJoin%22%3A%20%22round%22%2C%0A%20%20%22opacity%22%3A%201.0%2C%0A%20%20%22radius%22%3A%205%2C%0A%20%20%22stroke%22%3A%20true%2C%0A%20%20%22weight%22%3A%203%0A%7D%0A%20%20%20%20%20%20%20%20%20%20%20%20%20%20%20%20%29%0A%20%20%20%20%20%20%20%20%20%20%20%20%20%20%20%20.addTo%28map_69226580856149209fccfbf118501555%29%3B%0A%20%20%20%20%20%20%20%20%20%20%20%20%0A%20%20%20%20%0A%20%20%20%20%20%20%20%20%20%20%20%20var%20popup_5577273f3a0e4dea8f8ca4276dbe1c56%20%3D%20L.popup%28%7BmaxWidth%3A%20%27100%25%27%0A%20%20%20%20%20%20%20%20%20%20%20%20%0A%20%20%20%20%20%20%20%20%20%20%20%20%7D%29%3B%0A%0A%20%20%20%20%20%20%20%20%20%20%20%20%0A%20%20%20%20%20%20%20%20%20%20%20%20%20%20%20%20var%20html_dcf58ac42d2f47e895322eefc427c521%20%3D%20%24%28%60%3Cdiv%20id%3D%22html_dcf58ac42d2f47e895322eefc427c521%22%20style%3D%22width%3A%20100.0%25%3B%20height%3A%20100.0%25%3B%22%3E0%20%20%20%20%20Downtown%20Toronto%201%20%20%20%20%20Downtown%20Toronto%202%20%20%20%20%20Downtown%20Toronto%203%20%20%20%20%20%20%20%20%20East%20Toronto%204%20%20%20%20%20Downtown%20Toronto%205%20%20%20%20%20Downtown%20Toronto%206%20%20%20%20%20Downtown%20Toronto%207%20%20%20%20%20Downtown%20Toronto%208%20%20%20%20%20%20%20%20%20West%20Toronto%209%20%20%20%20%20%20%20%20%20East%20Toronto%2010%20%20%20%20Downtown%20Toronto%2011%20%20%20%20%20%20%20%20West%20Toronto%2012%20%20%20%20%20%20%20%20East%20Toronto%2013%20%20%20%20Downtown%20Toronto%2014%20%20%20%20%20%20%20%20West%20Toronto%2015%20%20%20%20%20%20%20%20East%20Toronto%2016%20%20%20%20Downtown%20Toronto%2017%20%20%20%20%20%20%20%20East%20Toronto%2018%20%20%20%20%20Central%20Toronto%2019%20%20%20%20%20Central%20Toronto%2020%20%20%20%20%20Central%20Toronto%2021%20%20%20%20%20Central%20Toronto%2022%20%20%20%20%20%20%20%20West%20Toronto%2023%20%20%20%20%20Central%20Toronto%2024%20%20%20%20%20Central%20Toronto%2025%20%20%20%20%20%20%20%20West%20Toronto%2026%20%20%20%20%20Central%20Toronto%2027%20%20%20%20Downtown%20Toronto%2028%20%20%20%20%20%20%20%20West%20Toronto%2029%20%20%20%20%20Central%20Toronto%2030%20%20%20%20Downtown%20Toronto%2031%20%20%20%20%20Central%20Toronto%2032%20%20%20%20Downtown%20Toronto%2033%20%20%20%20Downtown%20Toronto%2034%20%20%20%20Downtown%20Toronto%2035%20%20%20%20Downtown%20Toronto%2036%20%20%20%20Downtown%20Toronto%2037%20%20%20%20Downtown%20Toronto%2038%20%20%20%20%20%20%20%20East%20Toronto%20Name%3A%20Borough%2C%20dtype%3A%20object%20Cluster%204%3C/div%3E%60%29%5B0%5D%3B%0A%20%20%20%20%20%20%20%20%20%20%20%20%20%20%20%20popup_5577273f3a0e4dea8f8ca4276dbe1c56.setContent%28html_dcf58ac42d2f47e895322eefc427c521%29%3B%0A%20%20%20%20%20%20%20%20%20%20%20%20%0A%0A%20%20%20%20%20%20%20%20%20%20%20%20circle_marker_06407d302a994809b96dd6f6e2bd98ce.bindPopup%28popup_5577273f3a0e4dea8f8ca4276dbe1c56%29%0A%20%20%20%20%20%20%20%20%20%20%20%20%3B%0A%0A%20%20%20%20%20%20%20%20%20%20%20%20%0A%20%20%20%20%20%20%20%20%0A%20%20%20%20%0A%20%20%20%20%20%20%20%20%20%20%20%20var%20circle_marker_d49fc5d935df4d888dfae658b67cb5b4%20%3D%20L.circleMarker%28%0A%20%20%20%20%20%20%20%20%20%20%20%20%20%20%20%20%5B43.6627439%2C%20-79.321558%5D%2C%0A%20%20%20%20%20%20%20%20%20%20%20%20%20%20%20%20%7B%0A%20%20%22bubblingMouseEvents%22%3A%20true%2C%0A%20%20%22color%22%3A%20%22%23d4dd80%22%2C%0A%20%20%22dashArray%22%3A%20null%2C%0A%20%20%22dashOffset%22%3A%20null%2C%0A%20%20%22fill%22%3A%20true%2C%0A%20%20%22fillColor%22%3A%20%22%23d4dd80%22%2C%0A%20%20%22fillOpacity%22%3A%200.7%2C%0A%20%20%22fillRule%22%3A%20%22evenodd%22%2C%0A%20%20%22lineCap%22%3A%20%22round%22%2C%0A%20%20%22lineJoin%22%3A%20%22round%22%2C%0A%20%20%22opacity%22%3A%201.0%2C%0A%20%20%22radius%22%3A%205%2C%0A%20%20%22stroke%22%3A%20true%2C%0A%20%20%22weight%22%3A%203%0A%7D%0A%20%20%20%20%20%20%20%20%20%20%20%20%20%20%20%20%29%0A%20%20%20%20%20%20%20%20%20%20%20%20%20%20%20%20.addTo%28map_69226580856149209fccfbf118501555%29%3B%0A%20%20%20%20%20%20%20%20%20%20%20%20%0A%20%20%20%20%0A%20%20%20%20%20%20%20%20%20%20%20%20var%20popup_7e0ea52730474c97b9d0dc91888702f9%20%3D%20L.popup%28%7BmaxWidth%3A%20%27100%25%27%0A%20%20%20%20%20%20%20%20%20%20%20%20%0A%20%20%20%20%20%20%20%20%20%20%20%20%7D%29%3B%0A%0A%20%20%20%20%20%20%20%20%20%20%20%20%0A%20%20%20%20%20%20%20%20%20%20%20%20%20%20%20%20var%20html_d0f1124f1c52488aa3225d0b133668cf%20%3D%20%24%28%60%3Cdiv%20id%3D%22html_d0f1124f1c52488aa3225d0b133668cf%22%20style%3D%22width%3A%20100.0%25%3B%20height%3A%20100.0%25%3B%22%3E0%20%20%20%20%20Downtown%20Toronto%201%20%20%20%20%20Downtown%20Toronto%202%20%20%20%20%20Downtown%20Toronto%203%20%20%20%20%20%20%20%20%20East%20Toronto%204%20%20%20%20%20Downtown%20Toronto%205%20%20%20%20%20Downtown%20Toronto%206%20%20%20%20%20Downtown%20Toronto%207%20%20%20%20%20Downtown%20Toronto%208%20%20%20%20%20%20%20%20%20West%20Toronto%209%20%20%20%20%20%20%20%20%20East%20Toronto%2010%20%20%20%20Downtown%20Toronto%2011%20%20%20%20%20%20%20%20West%20Toronto%2012%20%20%20%20%20%20%20%20East%20Toronto%2013%20%20%20%20Downtown%20Toronto%2014%20%20%20%20%20%20%20%20West%20Toronto%2015%20%20%20%20%20%20%20%20East%20Toronto%2016%20%20%20%20Downtown%20Toronto%2017%20%20%20%20%20%20%20%20East%20Toronto%2018%20%20%20%20%20Central%20Toronto%2019%20%20%20%20%20Central%20Toronto%2020%20%20%20%20%20Central%20Toronto%2021%20%20%20%20%20Central%20Toronto%2022%20%20%20%20%20%20%20%20West%20Toronto%2023%20%20%20%20%20Central%20Toronto%2024%20%20%20%20%20Central%20Toronto%2025%20%20%20%20%20%20%20%20West%20Toronto%2026%20%20%20%20%20Central%20Toronto%2027%20%20%20%20Downtown%20Toronto%2028%20%20%20%20%20%20%20%20West%20Toronto%2029%20%20%20%20%20Central%20Toronto%2030%20%20%20%20Downtown%20Toronto%2031%20%20%20%20%20Central%20Toronto%2032%20%20%20%20Downtown%20Toronto%2033%20%20%20%20Downtown%20Toronto%2034%20%20%20%20Downtown%20Toronto%2035%20%20%20%20Downtown%20Toronto%2036%20%20%20%20Downtown%20Toronto%2037%20%20%20%20Downtown%20Toronto%2038%20%20%20%20%20%20%20%20East%20Toronto%20Name%3A%20Borough%2C%20dtype%3A%20object%20Cluster%203%3C/div%3E%60%29%5B0%5D%3B%0A%20%20%20%20%20%20%20%20%20%20%20%20%20%20%20%20popup_7e0ea52730474c97b9d0dc91888702f9.setContent%28html_d0f1124f1c52488aa3225d0b133668cf%29%3B%0A%20%20%20%20%20%20%20%20%20%20%20%20%0A%0A%20%20%20%20%20%20%20%20%20%20%20%20circle_marker_d49fc5d935df4d888dfae658b67cb5b4.bindPopup%28popup_7e0ea52730474c97b9d0dc91888702f9%29%0A%20%20%20%20%20%20%20%20%20%20%20%20%3B%0A%0A%20%20%20%20%20%20%20%20%20%20%20%20%0A%20%20%20%20%20%20%20%20%0A%3C/script%3E onload=\"this.contentDocument.open();this.contentDocument.write(    decodeURIComponent(this.getAttribute('data-html')));this.contentDocument.close();\" allowfullscreen webkitallowfullscreen mozallowfullscreen></iframe></div></div>"
            ],
            "text/plain": [
              "<folium.folium.Map at 0x7f37c5a78b90>"
            ]
          },
          "metadata": {
            "tags": []
          },
          "execution_count": 68
        }
      ]
    },
    {
      "cell_type": "code",
      "metadata": {
        "id": "nPw1Am6l5z2j"
      },
      "source": [
        ""
      ],
      "execution_count": null,
      "outputs": []
    }
  ]
}